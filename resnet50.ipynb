{
 "cells": [
  {
   "cell_type": "code",
   "execution_count": 1,
   "id": "509e397e",
   "metadata": {},
   "outputs": [],
   "source": [
    "import tensorflow as tf\n",
    "from tensorflow.keras.preprocessing.image import ImageDataGenerator\n",
    "from tensorflow.keras.applications import ResNet50\n",
    "from tensorflow.keras.models import Model\n",
    "from tensorflow.keras.layers import Dense, GlobalAveragePooling2D, Dropout, BatchNormalization\n",
    "from tensorflow.keras.callbacks import EarlyStopping, ReduceLROnPlateau, ModelCheckpoint"
   ]
  },
  {
   "cell_type": "code",
   "execution_count": 2,
   "id": "0f578cd3",
   "metadata": {},
   "outputs": [],
   "source": [
    "# Set paths\n",
    "train_dir = 'split-data/train'\n",
    "val_dir = 'split-data/val'"
   ]
  },
  {
   "cell_type": "code",
   "execution_count": 3,
   "id": "82861e69",
   "metadata": {},
   "outputs": [],
   "source": [
    "# Image parameters\n",
    "img_size = 256\n",
    "batch_size = 8\n",
    "num_classes = 1"
   ]
  },
  {
   "cell_type": "code",
   "execution_count": 4,
   "id": "50868bb4",
   "metadata": {},
   "outputs": [],
   "source": [
    "# Data Augmentation\n",
    "train_datagen = ImageDataGenerator(\n",
    "    rescale=1./255,\n",
    "    rotation_range=20,\n",
    "    width_shift_range=0.2,\n",
    "    height_shift_range=0.2,\n",
    "    horizontal_flip=True,\n",
    "    zoom_range=0.2,\n",
    "    shear_range=0.1,\n",
    "    fill_mode='nearest'\n",
    ")"
   ]
  },
  {
   "cell_type": "code",
   "execution_count": 5,
   "id": "55936c1d",
   "metadata": {},
   "outputs": [],
   "source": [
    "val_datagen = ImageDataGenerator(rescale=1./255)"
   ]
  },
  {
   "cell_type": "code",
   "execution_count": 6,
   "id": "cc3a9ddc",
   "metadata": {},
   "outputs": [
    {
     "name": "stdout",
     "output_type": "stream",
     "text": [
      "Found 320 images belonging to 2 classes.\n"
     ]
    }
   ],
   "source": [
    "train_gen = train_datagen.flow_from_directory(\n",
    "    train_dir,\n",
    "    target_size=(img_size, img_size),\n",
    "    batch_size=batch_size,\n",
    "    class_mode='binary'\n",
    ")"
   ]
  },
  {
   "cell_type": "code",
   "execution_count": 7,
   "id": "a42079c3",
   "metadata": {},
   "outputs": [
    {
     "name": "stdout",
     "output_type": "stream",
     "text": [
      "Found 80 images belonging to 2 classes.\n"
     ]
    }
   ],
   "source": [
    "val_gen = val_datagen.flow_from_directory(\n",
    "    val_dir,\n",
    "    target_size=(img_size, img_size),\n",
    "    batch_size=batch_size,\n",
    "    class_mode='binary',\n",
    "    shuffle=False\n",
    ")\n"
   ]
  },
  {
   "cell_type": "code",
   "execution_count": 8,
   "id": "725235fc",
   "metadata": {},
   "outputs": [],
   "source": [
    "# Build the model\n",
    "base_model = ResNet50(include_top=False, weights='imagenet', input_shape=(img_size, img_size, 3))\n",
    "base_model.trainable = False"
   ]
  },
  {
   "cell_type": "code",
   "execution_count": 9,
   "id": "21e1c7ed",
   "metadata": {},
   "outputs": [],
   "source": [
    "x = base_model.output\n",
    "x = GlobalAveragePooling2D()(x)\n",
    "x = BatchNormalization()(x)\n",
    "x = Dropout(0.45)(x)\n",
    "x = Dense(256, activation='relu')(x)\n",
    "x = Dropout(0.35)(x)\n",
    "preds = Dense(1, activation='sigmoid')(x)"
   ]
  },
  {
   "cell_type": "code",
   "execution_count": 10,
   "id": "51b1e034",
   "metadata": {},
   "outputs": [],
   "source": [
    "model = Model(inputs=base_model.input, outputs=preds)"
   ]
  },
  {
   "cell_type": "code",
   "execution_count": 11,
   "id": "74f3ee72",
   "metadata": {},
   "outputs": [
    {
     "data": {
      "text/plain": [
       "<bound method Model.summary of <Functional name=functional, built=True>>"
      ]
     },
     "execution_count": 11,
     "metadata": {},
     "output_type": "execute_result"
    }
   ],
   "source": [
    "model.summary"
   ]
  },
  {
   "cell_type": "code",
   "execution_count": 12,
   "id": "4f90f991",
   "metadata": {},
   "outputs": [],
   "source": [
    "from tensorflow.keras.metrics import AUC, Precision, Recall\n",
    "\n",
    "# Compile with additional metrics\n",
    "model.compile(\n",
    "    optimizer=tf.keras.optimizers.Adam(learning_rate=1e-4),\n",
    "    loss='binary_crossentropy',\n",
    "    metrics=[\n",
    "        'accuracy',\n",
    "        Precision(name='precision'),\n",
    "        Recall(name='recall'),\n",
    "        AUC(name='auc_roc')\n",
    "    ]\n",
    ")"
   ]
  },
  {
   "cell_type": "code",
   "execution_count": 13,
   "id": "9fbc943b",
   "metadata": {},
   "outputs": [],
   "source": [
    "# Callbacks\n",
    "callbacks = [\n",
    "    EarlyStopping(monitor='val_loss', patience=7, restore_best_weights=True),\n",
    "    ReduceLROnPlateau(monitor='val_loss', factor=0.2, patience=3, verbose=1),\n",
    "    ModelCheckpoint('resnet50.h5', monitor='val_loss', save_best_only=True, verbose=1)\n",
    "]"
   ]
  },
  {
   "cell_type": "code",
   "execution_count": 14,
   "id": "91cfc78e",
   "metadata": {},
   "outputs": [
    {
     "name": "stderr",
     "output_type": "stream",
     "text": [
      "d:\\Dissertation-Project\\Projects\\code\\myenv\\Lib\\site-packages\\keras\\src\\trainers\\data_adapters\\py_dataset_adapter.py:121: UserWarning: Your `PyDataset` class should call `super().__init__(**kwargs)` in its constructor. `**kwargs` can include `workers`, `use_multiprocessing`, `max_queue_size`. Do not pass these arguments to `fit()`, as they will be ignored.\n",
      "  self._warn_if_super_not_called()\n"
     ]
    },
    {
     "name": "stdout",
     "output_type": "stream",
     "text": [
      "Epoch 1/50\n",
      "\u001b[1m40/40\u001b[0m \u001b[32m━━━━━━━━━━━━━━━━━━━━\u001b[0m\u001b[37m\u001b[0m \u001b[1m0s\u001b[0m 514ms/step - accuracy: 0.5727 - auc_roc: 0.6267 - loss: 0.6538 - precision: 0.5896 - recall: 0.5686\n",
      "Epoch 1: val_loss improved from inf to 0.72301, saving model to resnet50.h5\n"
     ]
    },
    {
     "name": "stderr",
     "output_type": "stream",
     "text": [
      "WARNING:absl:You are saving your model as an HDF5 file via `model.save()` or `keras.saving.save_model(model)`. This file format is considered legacy. We recommend using instead the native Keras format, e.g. `model.save('my_model.keras')` or `keras.saving.save_model(model, 'my_model.keras')`. \n"
     ]
    },
    {
     "name": "stdout",
     "output_type": "stream",
     "text": [
      "\u001b[1m40/40\u001b[0m \u001b[32m━━━━━━━━━━━━━━━━━━━━\u001b[0m\u001b[37m\u001b[0m \u001b[1m35s\u001b[0m 717ms/step - accuracy: 0.5730 - auc_roc: 0.6276 - loss: 0.6532 - precision: 0.5892 - recall: 0.5711 - val_accuracy: 0.5000 - val_auc_roc: 0.8706 - val_loss: 0.7230 - val_precision: 0.0000e+00 - val_recall: 0.0000e+00 - learning_rate: 1.0000e-04\n",
      "Epoch 2/50\n",
      "\u001b[1m40/40\u001b[0m \u001b[32m━━━━━━━━━━━━━━━━━━━━\u001b[0m\u001b[37m\u001b[0m \u001b[1m0s\u001b[0m 450ms/step - accuracy: 0.6894 - auc_roc: 0.7557 - loss: 0.5803 - precision: 0.6216 - recall: 0.8543\n",
      "Epoch 2: val_loss improved from 0.72301 to 0.72051, saving model to resnet50.h5\n"
     ]
    },
    {
     "name": "stderr",
     "output_type": "stream",
     "text": [
      "WARNING:absl:You are saving your model as an HDF5 file via `model.save()` or `keras.saving.save_model(model)`. This file format is considered legacy. We recommend using instead the native Keras format, e.g. `model.save('my_model.keras')` or `keras.saving.save_model(model, 'my_model.keras')`. \n"
     ]
    },
    {
     "name": "stdout",
     "output_type": "stream",
     "text": [
      "\u001b[1m40/40\u001b[0m \u001b[32m━━━━━━━━━━━━━━━━━━━━\u001b[0m\u001b[37m\u001b[0m \u001b[1m23s\u001b[0m 576ms/step - accuracy: 0.6897 - auc_roc: 0.7555 - loss: 0.5800 - precision: 0.6223 - recall: 0.8544 - val_accuracy: 0.5000 - val_auc_roc: 0.8687 - val_loss: 0.7205 - val_precision: 0.0000e+00 - val_recall: 0.0000e+00 - learning_rate: 1.0000e-04\n",
      "Epoch 3/50\n",
      "\u001b[1m40/40\u001b[0m \u001b[32m━━━━━━━━━━━━━━━━━━━━\u001b[0m\u001b[37m\u001b[0m \u001b[1m0s\u001b[0m 434ms/step - accuracy: 0.6961 - auc_roc: 0.7541 - loss: 0.5618 - precision: 0.6731 - recall: 0.8151\n",
      "Epoch 3: val_loss improved from 0.72051 to 0.68450, saving model to resnet50.h5\n"
     ]
    },
    {
     "name": "stderr",
     "output_type": "stream",
     "text": [
      "WARNING:absl:You are saving your model as an HDF5 file via `model.save()` or `keras.saving.save_model(model)`. This file format is considered legacy. We recommend using instead the native Keras format, e.g. `model.save('my_model.keras')` or `keras.saving.save_model(model, 'my_model.keras')`. \n"
     ]
    },
    {
     "name": "stdout",
     "output_type": "stream",
     "text": [
      "\u001b[1m40/40\u001b[0m \u001b[32m━━━━━━━━━━━━━━━━━━━━\u001b[0m\u001b[37m\u001b[0m \u001b[1m23s\u001b[0m 567ms/step - accuracy: 0.6966 - auc_roc: 0.7548 - loss: 0.5614 - precision: 0.6732 - recall: 0.8154 - val_accuracy: 0.5000 - val_auc_roc: 0.8800 - val_loss: 0.6845 - val_precision: 0.0000e+00 - val_recall: 0.0000e+00 - learning_rate: 1.0000e-04\n",
      "Epoch 4/50\n",
      "\u001b[1m40/40\u001b[0m \u001b[32m━━━━━━━━━━━━━━━━━━━━\u001b[0m\u001b[37m\u001b[0m \u001b[1m0s\u001b[0m 486ms/step - accuracy: 0.7536 - auc_roc: 0.7882 - loss: 0.5466 - precision: 0.7182 - recall: 0.8721\n",
      "Epoch 4: val_loss improved from 0.68450 to 0.67914, saving model to resnet50.h5\n"
     ]
    },
    {
     "name": "stderr",
     "output_type": "stream",
     "text": [
      "WARNING:absl:You are saving your model as an HDF5 file via `model.save()` or `keras.saving.save_model(model)`. This file format is considered legacy. We recommend using instead the native Keras format, e.g. `model.save('my_model.keras')` or `keras.saving.save_model(model, 'my_model.keras')`. \n"
     ]
    },
    {
     "name": "stdout",
     "output_type": "stream",
     "text": [
      "\u001b[1m40/40\u001b[0m \u001b[32m━━━━━━━━━━━━━━━━━━━━\u001b[0m\u001b[37m\u001b[0m \u001b[1m25s\u001b[0m 613ms/step - accuracy: 0.7538 - auc_roc: 0.7889 - loss: 0.5457 - precision: 0.7179 - recall: 0.8727 - val_accuracy: 0.5000 - val_auc_roc: 0.8937 - val_loss: 0.6791 - val_precision: 0.0000e+00 - val_recall: 0.0000e+00 - learning_rate: 1.0000e-04\n",
      "Epoch 5/50\n",
      "\u001b[1m40/40\u001b[0m \u001b[32m━━━━━━━━━━━━━━━━━━━━\u001b[0m\u001b[37m\u001b[0m \u001b[1m0s\u001b[0m 434ms/step - accuracy: 0.6892 - auc_roc: 0.7895 - loss: 0.5349 - precision: 0.6707 - recall: 0.8222\n",
      "Epoch 5: val_loss improved from 0.67914 to 0.64455, saving model to resnet50.h5\n"
     ]
    },
    {
     "name": "stderr",
     "output_type": "stream",
     "text": [
      "WARNING:absl:You are saving your model as an HDF5 file via `model.save()` or `keras.saving.save_model(model)`. This file format is considered legacy. We recommend using instead the native Keras format, e.g. `model.save('my_model.keras')` or `keras.saving.save_model(model, 'my_model.keras')`. \n"
     ]
    },
    {
     "name": "stdout",
     "output_type": "stream",
     "text": [
      "\u001b[1m40/40\u001b[0m \u001b[32m━━━━━━━━━━━━━━━━━━━━\u001b[0m\u001b[37m\u001b[0m \u001b[1m22s\u001b[0m 556ms/step - accuracy: 0.6899 - auc_roc: 0.7901 - loss: 0.5343 - precision: 0.6708 - recall: 0.8232 - val_accuracy: 0.5000 - val_auc_roc: 0.8887 - val_loss: 0.6446 - val_precision: 0.0000e+00 - val_recall: 0.0000e+00 - learning_rate: 1.0000e-04\n",
      "Epoch 6/50\n",
      "\u001b[1m40/40\u001b[0m \u001b[32m━━━━━━━━━━━━━━━━━━━━\u001b[0m\u001b[37m\u001b[0m \u001b[1m0s\u001b[0m 466ms/step - accuracy: 0.7069 - auc_roc: 0.8020 - loss: 0.5349 - precision: 0.6741 - recall: 0.8140\n",
      "Epoch 6: val_loss improved from 0.64455 to 0.61447, saving model to resnet50.h5\n"
     ]
    },
    {
     "name": "stderr",
     "output_type": "stream",
     "text": [
      "WARNING:absl:You are saving your model as an HDF5 file via `model.save()` or `keras.saving.save_model(model)`. This file format is considered legacy. We recommend using instead the native Keras format, e.g. `model.save('my_model.keras')` or `keras.saving.save_model(model, 'my_model.keras')`. \n"
     ]
    },
    {
     "name": "stdout",
     "output_type": "stream",
     "text": [
      "\u001b[1m40/40\u001b[0m \u001b[32m━━━━━━━━━━━━━━━━━━━━\u001b[0m\u001b[37m\u001b[0m \u001b[1m24s\u001b[0m 611ms/step - accuracy: 0.7070 - auc_roc: 0.8017 - loss: 0.5350 - precision: 0.6740 - recall: 0.8142 - val_accuracy: 0.5000 - val_auc_roc: 0.8909 - val_loss: 0.6145 - val_precision: 0.0000e+00 - val_recall: 0.0000e+00 - learning_rate: 1.0000e-04\n",
      "Epoch 7/50\n",
      "\u001b[1m40/40\u001b[0m \u001b[32m━━━━━━━━━━━━━━━━━━━━\u001b[0m\u001b[37m\u001b[0m \u001b[1m0s\u001b[0m 448ms/step - accuracy: 0.7647 - auc_roc: 0.8468 - loss: 0.4615 - precision: 0.7095 - recall: 0.8926\n",
      "Epoch 7: val_loss improved from 0.61447 to 0.57347, saving model to resnet50.h5\n"
     ]
    },
    {
     "name": "stderr",
     "output_type": "stream",
     "text": [
      "WARNING:absl:You are saving your model as an HDF5 file via `model.save()` or `keras.saving.save_model(model)`. This file format is considered legacy. We recommend using instead the native Keras format, e.g. `model.save('my_model.keras')` or `keras.saving.save_model(model, 'my_model.keras')`. \n"
     ]
    },
    {
     "name": "stdout",
     "output_type": "stream",
     "text": [
      "\u001b[1m40/40\u001b[0m \u001b[32m━━━━━━━━━━━━━━━━━━━━\u001b[0m\u001b[37m\u001b[0m \u001b[1m23s\u001b[0m 572ms/step - accuracy: 0.7645 - auc_roc: 0.8463 - loss: 0.4619 - precision: 0.7095 - recall: 0.8924 - val_accuracy: 0.5500 - val_auc_roc: 0.9022 - val_loss: 0.5735 - val_precision: 1.0000 - val_recall: 0.1000 - learning_rate: 1.0000e-04\n",
      "Epoch 8/50\n",
      "\u001b[1m40/40\u001b[0m \u001b[32m━━━━━━━━━━━━━━━━━━━━\u001b[0m\u001b[37m\u001b[0m \u001b[1m0s\u001b[0m 428ms/step - accuracy: 0.7394 - auc_roc: 0.7878 - loss: 0.5301 - precision: 0.6677 - recall: 0.8534\n",
      "Epoch 8: val_loss improved from 0.57347 to 0.54362, saving model to resnet50.h5\n"
     ]
    },
    {
     "name": "stderr",
     "output_type": "stream",
     "text": [
      "WARNING:absl:You are saving your model as an HDF5 file via `model.save()` or `keras.saving.save_model(model)`. This file format is considered legacy. We recommend using instead the native Keras format, e.g. `model.save('my_model.keras')` or `keras.saving.save_model(model, 'my_model.keras')`. \n"
     ]
    },
    {
     "name": "stdout",
     "output_type": "stream",
     "text": [
      "\u001b[1m40/40\u001b[0m \u001b[32m━━━━━━━━━━━━━━━━━━━━\u001b[0m\u001b[37m\u001b[0m \u001b[1m22s\u001b[0m 544ms/step - accuracy: 0.7395 - auc_roc: 0.7879 - loss: 0.5298 - precision: 0.6684 - recall: 0.8536 - val_accuracy: 0.7500 - val_auc_roc: 0.9097 - val_loss: 0.5436 - val_precision: 0.9167 - val_recall: 0.5500 - learning_rate: 1.0000e-04\n",
      "Epoch 9/50\n",
      "\u001b[1m40/40\u001b[0m \u001b[32m━━━━━━━━━━━━━━━━━━━━\u001b[0m\u001b[37m\u001b[0m \u001b[1m0s\u001b[0m 412ms/step - accuracy: 0.7527 - auc_roc: 0.8629 - loss: 0.4585 - precision: 0.7050 - recall: 0.8845\n",
      "Epoch 9: val_loss improved from 0.54362 to 0.52300, saving model to resnet50.h5\n"
     ]
    },
    {
     "name": "stderr",
     "output_type": "stream",
     "text": [
      "WARNING:absl:You are saving your model as an HDF5 file via `model.save()` or `keras.saving.save_model(model)`. This file format is considered legacy. We recommend using instead the native Keras format, e.g. `model.save('my_model.keras')` or `keras.saving.save_model(model, 'my_model.keras')`. \n"
     ]
    },
    {
     "name": "stdout",
     "output_type": "stream",
     "text": [
      "\u001b[1m40/40\u001b[0m \u001b[32m━━━━━━━━━━━━━━━━━━━━\u001b[0m\u001b[37m\u001b[0m \u001b[1m21s\u001b[0m 531ms/step - accuracy: 0.7522 - auc_roc: 0.8621 - loss: 0.4592 - precision: 0.7045 - recall: 0.8843 - val_accuracy: 0.7875 - val_auc_roc: 0.9231 - val_loss: 0.5230 - val_precision: 0.7949 - val_recall: 0.7750 - learning_rate: 1.0000e-04\n",
      "Epoch 10/50\n",
      "\u001b[1m40/40\u001b[0m \u001b[32m━━━━━━━━━━━━━━━━━━━━\u001b[0m\u001b[37m\u001b[0m \u001b[1m0s\u001b[0m 439ms/step - accuracy: 0.7449 - auc_roc: 0.8448 - loss: 0.4948 - precision: 0.6959 - recall: 0.8849\n",
      "Epoch 10: val_loss improved from 0.52300 to 0.49624, saving model to resnet50.h5\n"
     ]
    },
    {
     "name": "stderr",
     "output_type": "stream",
     "text": [
      "WARNING:absl:You are saving your model as an HDF5 file via `model.save()` or `keras.saving.save_model(model)`. This file format is considered legacy. We recommend using instead the native Keras format, e.g. `model.save('my_model.keras')` or `keras.saving.save_model(model, 'my_model.keras')`. \n"
     ]
    },
    {
     "name": "stdout",
     "output_type": "stream",
     "text": [
      "\u001b[1m40/40\u001b[0m \u001b[32m━━━━━━━━━━━━━━━━━━━━\u001b[0m\u001b[37m\u001b[0m \u001b[1m22s\u001b[0m 556ms/step - accuracy: 0.7452 - auc_roc: 0.8445 - loss: 0.4948 - precision: 0.6962 - recall: 0.8847 - val_accuracy: 0.8375 - val_auc_roc: 0.9312 - val_loss: 0.4962 - val_precision: 0.8000 - val_recall: 0.9000 - learning_rate: 1.0000e-04\n",
      "Epoch 11/50\n",
      "\u001b[1m40/40\u001b[0m \u001b[32m━━━━━━━━━━━━━━━━━━━━\u001b[0m\u001b[37m\u001b[0m \u001b[1m0s\u001b[0m 416ms/step - accuracy: 0.7782 - auc_roc: 0.8492 - loss: 0.4664 - precision: 0.7632 - recall: 0.8786\n",
      "Epoch 11: val_loss improved from 0.49624 to 0.46036, saving model to resnet50.h5\n"
     ]
    },
    {
     "name": "stderr",
     "output_type": "stream",
     "text": [
      "WARNING:absl:You are saving your model as an HDF5 file via `model.save()` or `keras.saving.save_model(model)`. This file format is considered legacy. We recommend using instead the native Keras format, e.g. `model.save('my_model.keras')` or `keras.saving.save_model(model, 'my_model.keras')`. \n"
     ]
    },
    {
     "name": "stdout",
     "output_type": "stream",
     "text": [
      "\u001b[1m40/40\u001b[0m \u001b[32m━━━━━━━━━━━━━━━━━━━━\u001b[0m\u001b[37m\u001b[0m \u001b[1m22s\u001b[0m 537ms/step - accuracy: 0.7779 - auc_roc: 0.8488 - loss: 0.4667 - precision: 0.7621 - recall: 0.8785 - val_accuracy: 0.8125 - val_auc_roc: 0.9275 - val_loss: 0.4604 - val_precision: 0.7660 - val_recall: 0.9000 - learning_rate: 1.0000e-04\n",
      "Epoch 12/50\n",
      "\u001b[1m40/40\u001b[0m \u001b[32m━━━━━━━━━━━━━━━━━━━━\u001b[0m\u001b[37m\u001b[0m \u001b[1m0s\u001b[0m 424ms/step - accuracy: 0.6820 - auc_roc: 0.7940 - loss: 0.5418 - precision: 0.6392 - recall: 0.7665\n",
      "Epoch 12: val_loss improved from 0.46036 to 0.44955, saving model to resnet50.h5\n"
     ]
    },
    {
     "name": "stderr",
     "output_type": "stream",
     "text": [
      "WARNING:absl:You are saving your model as an HDF5 file via `model.save()` or `keras.saving.save_model(model)`. This file format is considered legacy. We recommend using instead the native Keras format, e.g. `model.save('my_model.keras')` or `keras.saving.save_model(model, 'my_model.keras')`. \n"
     ]
    },
    {
     "name": "stdout",
     "output_type": "stream",
     "text": [
      "\u001b[1m40/40\u001b[0m \u001b[32m━━━━━━━━━━━━━━━━━━━━\u001b[0m\u001b[37m\u001b[0m \u001b[1m22s\u001b[0m 544ms/step - accuracy: 0.6831 - auc_roc: 0.7942 - loss: 0.5413 - precision: 0.6407 - recall: 0.7675 - val_accuracy: 0.8500 - val_auc_roc: 0.9253 - val_loss: 0.4496 - val_precision: 0.8043 - val_recall: 0.9250 - learning_rate: 1.0000e-04\n",
      "Epoch 13/50\n",
      "\u001b[1m40/40\u001b[0m \u001b[32m━━━━━━━━━━━━━━━━━━━━\u001b[0m\u001b[37m\u001b[0m \u001b[1m0s\u001b[0m 444ms/step - accuracy: 0.7623 - auc_roc: 0.8380 - loss: 0.4888 - precision: 0.7436 - recall: 0.8467\n",
      "Epoch 13: val_loss improved from 0.44955 to 0.41211, saving model to resnet50.h5\n"
     ]
    },
    {
     "name": "stderr",
     "output_type": "stream",
     "text": [
      "WARNING:absl:You are saving your model as an HDF5 file via `model.save()` or `keras.saving.save_model(model)`. This file format is considered legacy. We recommend using instead the native Keras format, e.g. `model.save('my_model.keras')` or `keras.saving.save_model(model, 'my_model.keras')`. \n"
     ]
    },
    {
     "name": "stdout",
     "output_type": "stream",
     "text": [
      "\u001b[1m40/40\u001b[0m \u001b[32m━━━━━━━━━━━━━━━━━━━━\u001b[0m\u001b[37m\u001b[0m \u001b[1m23s\u001b[0m 574ms/step - accuracy: 0.7624 - auc_roc: 0.8381 - loss: 0.4885 - precision: 0.7429 - recall: 0.8479 - val_accuracy: 0.8375 - val_auc_roc: 0.9194 - val_loss: 0.4121 - val_precision: 0.7872 - val_recall: 0.9250 - learning_rate: 1.0000e-04\n",
      "Epoch 14/50\n",
      "\u001b[1m40/40\u001b[0m \u001b[32m━━━━━━━━━━━━━━━━━━━━\u001b[0m\u001b[37m\u001b[0m \u001b[1m0s\u001b[0m 416ms/step - accuracy: 0.7938 - auc_roc: 0.8553 - loss: 0.4563 - precision: 0.7513 - recall: 0.8685\n",
      "Epoch 14: val_loss improved from 0.41211 to 0.39399, saving model to resnet50.h5\n"
     ]
    },
    {
     "name": "stderr",
     "output_type": "stream",
     "text": [
      "WARNING:absl:You are saving your model as an HDF5 file via `model.save()` or `keras.saving.save_model(model)`. This file format is considered legacy. We recommend using instead the native Keras format, e.g. `model.save('my_model.keras')` or `keras.saving.save_model(model, 'my_model.keras')`. \n"
     ]
    },
    {
     "name": "stdout",
     "output_type": "stream",
     "text": [
      "\u001b[1m40/40\u001b[0m \u001b[32m━━━━━━━━━━━━━━━━━━━━\u001b[0m\u001b[37m\u001b[0m \u001b[1m21s\u001b[0m 534ms/step - accuracy: 0.7938 - auc_roc: 0.8554 - loss: 0.4563 - precision: 0.7514 - recall: 0.8686 - val_accuracy: 0.8500 - val_auc_roc: 0.9212 - val_loss: 0.3940 - val_precision: 0.8043 - val_recall: 0.9250 - learning_rate: 1.0000e-04\n",
      "Epoch 15/50\n",
      "\u001b[1m40/40\u001b[0m \u001b[32m━━━━━━━━━━━━━━━━━━━━\u001b[0m\u001b[37m\u001b[0m \u001b[1m0s\u001b[0m 421ms/step - accuracy: 0.7904 - auc_roc: 0.8679 - loss: 0.4742 - precision: 0.7269 - recall: 0.8718\n",
      "Epoch 15: val_loss improved from 0.39399 to 0.37689, saving model to resnet50.h5\n"
     ]
    },
    {
     "name": "stderr",
     "output_type": "stream",
     "text": [
      "WARNING:absl:You are saving your model as an HDF5 file via `model.save()` or `keras.saving.save_model(model)`. This file format is considered legacy. We recommend using instead the native Keras format, e.g. `model.save('my_model.keras')` or `keras.saving.save_model(model, 'my_model.keras')`. \n"
     ]
    },
    {
     "name": "stdout",
     "output_type": "stream",
     "text": [
      "\u001b[1m40/40\u001b[0m \u001b[32m━━━━━━━━━━━━━━━━━━━━\u001b[0m\u001b[37m\u001b[0m \u001b[1m22s\u001b[0m 548ms/step - accuracy: 0.7902 - auc_roc: 0.8677 - loss: 0.4742 - precision: 0.7274 - recall: 0.8714 - val_accuracy: 0.8375 - val_auc_roc: 0.9281 - val_loss: 0.3769 - val_precision: 0.7872 - val_recall: 0.9250 - learning_rate: 1.0000e-04\n",
      "Epoch 16/50\n",
      "\u001b[1m40/40\u001b[0m \u001b[32m━━━━━━━━━━━━━━━━━━━━\u001b[0m\u001b[37m\u001b[0m \u001b[1m0s\u001b[0m 435ms/step - accuracy: 0.7823 - auc_roc: 0.8230 - loss: 0.4951 - precision: 0.7135 - recall: 0.8795\n",
      "Epoch 16: val_loss improved from 0.37689 to 0.36901, saving model to resnet50.h5\n"
     ]
    },
    {
     "name": "stderr",
     "output_type": "stream",
     "text": [
      "WARNING:absl:You are saving your model as an HDF5 file via `model.save()` or `keras.saving.save_model(model)`. This file format is considered legacy. We recommend using instead the native Keras format, e.g. `model.save('my_model.keras')` or `keras.saving.save_model(model, 'my_model.keras')`. \n"
     ]
    },
    {
     "name": "stdout",
     "output_type": "stream",
     "text": [
      "\u001b[1m40/40\u001b[0m \u001b[32m━━━━━━━━━━━━━━━━━━━━\u001b[0m\u001b[37m\u001b[0m \u001b[1m22s\u001b[0m 560ms/step - accuracy: 0.7824 - auc_roc: 0.8233 - loss: 0.4947 - precision: 0.7144 - recall: 0.8787 - val_accuracy: 0.8500 - val_auc_roc: 0.9281 - val_loss: 0.3690 - val_precision: 0.8043 - val_recall: 0.9250 - learning_rate: 1.0000e-04\n",
      "Epoch 17/50\n",
      "\u001b[1m40/40\u001b[0m \u001b[32m━━━━━━━━━━━━━━━━━━━━\u001b[0m\u001b[37m\u001b[0m \u001b[1m0s\u001b[0m 429ms/step - accuracy: 0.7925 - auc_roc: 0.8597 - loss: 0.4464 - precision: 0.7266 - recall: 0.9158\n",
      "Epoch 17: val_loss improved from 0.36901 to 0.35415, saving model to resnet50.h5\n"
     ]
    },
    {
     "name": "stderr",
     "output_type": "stream",
     "text": [
      "WARNING:absl:You are saving your model as an HDF5 file via `model.save()` or `keras.saving.save_model(model)`. This file format is considered legacy. We recommend using instead the native Keras format, e.g. `model.save('my_model.keras')` or `keras.saving.save_model(model, 'my_model.keras')`. \n"
     ]
    },
    {
     "name": "stdout",
     "output_type": "stream",
     "text": [
      "\u001b[1m40/40\u001b[0m \u001b[32m━━━━━━━━━━━━━━━━━━━━\u001b[0m\u001b[37m\u001b[0m \u001b[1m22s\u001b[0m 548ms/step - accuracy: 0.7919 - auc_roc: 0.8592 - loss: 0.4469 - precision: 0.7266 - recall: 0.9142 - val_accuracy: 0.8500 - val_auc_roc: 0.9253 - val_loss: 0.3542 - val_precision: 0.8043 - val_recall: 0.9250 - learning_rate: 1.0000e-04\n",
      "Epoch 18/50\n",
      "\u001b[1m40/40\u001b[0m \u001b[32m━━━━━━━━━━━━━━━━━━━━\u001b[0m\u001b[37m\u001b[0m \u001b[1m0s\u001b[0m 431ms/step - accuracy: 0.7498 - auc_roc: 0.8629 - loss: 0.4709 - precision: 0.6686 - recall: 0.8758\n",
      "Epoch 18: val_loss improved from 0.35415 to 0.34013, saving model to resnet50.h5\n"
     ]
    },
    {
     "name": "stderr",
     "output_type": "stream",
     "text": [
      "WARNING:absl:You are saving your model as an HDF5 file via `model.save()` or `keras.saving.save_model(model)`. This file format is considered legacy. We recommend using instead the native Keras format, e.g. `model.save('my_model.keras')` or `keras.saving.save_model(model, 'my_model.keras')`. \n"
     ]
    },
    {
     "name": "stdout",
     "output_type": "stream",
     "text": [
      "\u001b[1m40/40\u001b[0m \u001b[32m━━━━━━━━━━━━━━━━━━━━\u001b[0m\u001b[37m\u001b[0m \u001b[1m22s\u001b[0m 553ms/step - accuracy: 0.7506 - auc_roc: 0.8629 - loss: 0.4705 - precision: 0.6703 - recall: 0.8756 - val_accuracy: 0.8625 - val_auc_roc: 0.9303 - val_loss: 0.3401 - val_precision: 0.8085 - val_recall: 0.9500 - learning_rate: 1.0000e-04\n",
      "Epoch 19/50\n",
      "\u001b[1m40/40\u001b[0m \u001b[32m━━━━━━━━━━━━━━━━━━━━\u001b[0m\u001b[37m\u001b[0m \u001b[1m0s\u001b[0m 436ms/step - accuracy: 0.7480 - auc_roc: 0.8177 - loss: 0.4890 - precision: 0.6948 - recall: 0.8684\n",
      "Epoch 19: val_loss improved from 0.34013 to 0.33660, saving model to resnet50.h5\n"
     ]
    },
    {
     "name": "stderr",
     "output_type": "stream",
     "text": [
      "WARNING:absl:You are saving your model as an HDF5 file via `model.save()` or `keras.saving.save_model(model)`. This file format is considered legacy. We recommend using instead the native Keras format, e.g. `model.save('my_model.keras')` or `keras.saving.save_model(model, 'my_model.keras')`. \n"
     ]
    },
    {
     "name": "stdout",
     "output_type": "stream",
     "text": [
      "\u001b[1m40/40\u001b[0m \u001b[32m━━━━━━━━━━━━━━━━━━━━\u001b[0m\u001b[37m\u001b[0m \u001b[1m22s\u001b[0m 558ms/step - accuracy: 0.7486 - auc_roc: 0.8183 - loss: 0.4886 - precision: 0.6956 - recall: 0.8682 - val_accuracy: 0.8750 - val_auc_roc: 0.9362 - val_loss: 0.3366 - val_precision: 0.8125 - val_recall: 0.9750 - learning_rate: 1.0000e-04\n",
      "Epoch 20/50\n",
      "\u001b[1m40/40\u001b[0m \u001b[32m━━━━━━━━━━━━━━━━━━━━\u001b[0m\u001b[37m\u001b[0m \u001b[1m0s\u001b[0m 435ms/step - accuracy: 0.7359 - auc_roc: 0.8148 - loss: 0.5179 - precision: 0.6847 - recall: 0.8022\n",
      "Epoch 20: val_loss improved from 0.33660 to 0.33451, saving model to resnet50.h5\n"
     ]
    },
    {
     "name": "stderr",
     "output_type": "stream",
     "text": [
      "WARNING:absl:You are saving your model as an HDF5 file via `model.save()` or `keras.saving.save_model(model)`. This file format is considered legacy. We recommend using instead the native Keras format, e.g. `model.save('my_model.keras')` or `keras.saving.save_model(model, 'my_model.keras')`. \n"
     ]
    },
    {
     "name": "stdout",
     "output_type": "stream",
     "text": [
      "\u001b[1m40/40\u001b[0m \u001b[32m━━━━━━━━━━━━━━━━━━━━\u001b[0m\u001b[37m\u001b[0m \u001b[1m22s\u001b[0m 552ms/step - accuracy: 0.7367 - auc_roc: 0.8149 - loss: 0.5172 - precision: 0.6859 - recall: 0.8032 - val_accuracy: 0.8750 - val_auc_roc: 0.9347 - val_loss: 0.3345 - val_precision: 0.8125 - val_recall: 0.9750 - learning_rate: 1.0000e-04\n",
      "Epoch 21/50\n",
      "\u001b[1m40/40\u001b[0m \u001b[32m━━━━━━━━━━━━━━━━━━━━\u001b[0m\u001b[37m\u001b[0m \u001b[1m0s\u001b[0m 417ms/step - accuracy: 0.7751 - auc_roc: 0.8444 - loss: 0.4822 - precision: 0.7456 - recall: 0.8609\n",
      "Epoch 21: val_loss improved from 0.33451 to 0.32988, saving model to resnet50.h5\n"
     ]
    },
    {
     "name": "stderr",
     "output_type": "stream",
     "text": [
      "WARNING:absl:You are saving your model as an HDF5 file via `model.save()` or `keras.saving.save_model(model)`. This file format is considered legacy. We recommend using instead the native Keras format, e.g. `model.save('my_model.keras')` or `keras.saving.save_model(model, 'my_model.keras')`. \n"
     ]
    },
    {
     "name": "stdout",
     "output_type": "stream",
     "text": [
      "\u001b[1m40/40\u001b[0m \u001b[32m━━━━━━━━━━━━━━━━━━━━\u001b[0m\u001b[37m\u001b[0m \u001b[1m21s\u001b[0m 536ms/step - accuracy: 0.7748 - auc_roc: 0.8442 - loss: 0.4822 - precision: 0.7450 - recall: 0.8608 - val_accuracy: 0.8750 - val_auc_roc: 0.9275 - val_loss: 0.3299 - val_precision: 0.8125 - val_recall: 0.9750 - learning_rate: 1.0000e-04\n",
      "Epoch 22/50\n",
      "\u001b[1m40/40\u001b[0m \u001b[32m━━━━━━━━━━━━━━━━━━━━\u001b[0m\u001b[37m\u001b[0m \u001b[1m0s\u001b[0m 427ms/step - accuracy: 0.7640 - auc_roc: 0.8752 - loss: 0.4504 - precision: 0.7352 - recall: 0.8633\n",
      "Epoch 22: val_loss improved from 0.32988 to 0.32770, saving model to resnet50.h5\n"
     ]
    },
    {
     "name": "stderr",
     "output_type": "stream",
     "text": [
      "WARNING:absl:You are saving your model as an HDF5 file via `model.save()` or `keras.saving.save_model(model)`. This file format is considered legacy. We recommend using instead the native Keras format, e.g. `model.save('my_model.keras')` or `keras.saving.save_model(model, 'my_model.keras')`. \n"
     ]
    },
    {
     "name": "stdout",
     "output_type": "stream",
     "text": [
      "\u001b[1m40/40\u001b[0m \u001b[32m━━━━━━━━━━━━━━━━━━━━\u001b[0m\u001b[37m\u001b[0m \u001b[1m22s\u001b[0m 545ms/step - accuracy: 0.7646 - auc_roc: 0.8756 - loss: 0.4499 - precision: 0.7352 - recall: 0.8642 - val_accuracy: 0.8750 - val_auc_roc: 0.9281 - val_loss: 0.3277 - val_precision: 0.8125 - val_recall: 0.9750 - learning_rate: 1.0000e-04\n",
      "Epoch 23/50\n",
      "\u001b[1m40/40\u001b[0m \u001b[32m━━━━━━━━━━━━━━━━━━━━\u001b[0m\u001b[37m\u001b[0m \u001b[1m0s\u001b[0m 431ms/step - accuracy: 0.7900 - auc_roc: 0.8645 - loss: 0.4568 - precision: 0.7331 - recall: 0.8974\n",
      "Epoch 23: val_loss did not improve from 0.32770\n",
      "\u001b[1m40/40\u001b[0m \u001b[32m━━━━━━━━━━━━━━━━━━━━\u001b[0m\u001b[37m\u001b[0m \u001b[1m22s\u001b[0m 543ms/step - accuracy: 0.7896 - auc_roc: 0.8638 - loss: 0.4576 - precision: 0.7329 - recall: 0.8969 - val_accuracy: 0.8750 - val_auc_roc: 0.9272 - val_loss: 0.3337 - val_precision: 0.8125 - val_recall: 0.9750 - learning_rate: 1.0000e-04\n",
      "Epoch 24/50\n",
      "\u001b[1m40/40\u001b[0m \u001b[32m━━━━━━━━━━━━━━━━━━━━\u001b[0m\u001b[37m\u001b[0m \u001b[1m0s\u001b[0m 441ms/step - accuracy: 0.7758 - auc_roc: 0.8847 - loss: 0.4306 - precision: 0.7137 - recall: 0.8960\n",
      "Epoch 24: val_loss improved from 0.32770 to 0.32599, saving model to resnet50.h5\n"
     ]
    },
    {
     "name": "stderr",
     "output_type": "stream",
     "text": [
      "WARNING:absl:You are saving your model as an HDF5 file via `model.save()` or `keras.saving.save_model(model)`. This file format is considered legacy. We recommend using instead the native Keras format, e.g. `model.save('my_model.keras')` or `keras.saving.save_model(model, 'my_model.keras')`. \n"
     ]
    },
    {
     "name": "stdout",
     "output_type": "stream",
     "text": [
      "\u001b[1m40/40\u001b[0m \u001b[32m━━━━━━━━━━━━━━━━━━━━\u001b[0m\u001b[37m\u001b[0m \u001b[1m23s\u001b[0m 562ms/step - accuracy: 0.7758 - auc_roc: 0.8844 - loss: 0.4309 - precision: 0.7140 - recall: 0.8958 - val_accuracy: 0.8750 - val_auc_roc: 0.9256 - val_loss: 0.3260 - val_precision: 0.8125 - val_recall: 0.9750 - learning_rate: 1.0000e-04\n",
      "Epoch 25/50\n",
      "\u001b[1m40/40\u001b[0m \u001b[32m━━━━━━━━━━━━━━━━━━━━\u001b[0m\u001b[37m\u001b[0m \u001b[1m0s\u001b[0m 421ms/step - accuracy: 0.7734 - auc_roc: 0.8608 - loss: 0.4488 - precision: 0.7297 - recall: 0.8456\n",
      "Epoch 25: val_loss improved from 0.32599 to 0.32077, saving model to resnet50.h5\n"
     ]
    },
    {
     "name": "stderr",
     "output_type": "stream",
     "text": [
      "WARNING:absl:You are saving your model as an HDF5 file via `model.save()` or `keras.saving.save_model(model)`. This file format is considered legacy. We recommend using instead the native Keras format, e.g. `model.save('my_model.keras')` or `keras.saving.save_model(model, 'my_model.keras')`. \n"
     ]
    },
    {
     "name": "stdout",
     "output_type": "stream",
     "text": [
      "\u001b[1m40/40\u001b[0m \u001b[32m━━━━━━━━━━━━━━━━━━━━\u001b[0m\u001b[37m\u001b[0m \u001b[1m22s\u001b[0m 542ms/step - accuracy: 0.7733 - auc_roc: 0.8606 - loss: 0.4490 - precision: 0.7299 - recall: 0.8454 - val_accuracy: 0.8750 - val_auc_roc: 0.9319 - val_loss: 0.3208 - val_precision: 0.8125 - val_recall: 0.9750 - learning_rate: 1.0000e-04\n",
      "Epoch 26/50\n",
      "\u001b[1m40/40\u001b[0m \u001b[32m━━━━━━━━━━━━━━━━━━━━\u001b[0m\u001b[37m\u001b[0m \u001b[1m0s\u001b[0m 439ms/step - accuracy: 0.7591 - auc_roc: 0.8661 - loss: 0.4601 - precision: 0.7110 - recall: 0.8262\n",
      "Epoch 26: val_loss improved from 0.32077 to 0.31378, saving model to resnet50.h5\n"
     ]
    },
    {
     "name": "stderr",
     "output_type": "stream",
     "text": [
      "WARNING:absl:You are saving your model as an HDF5 file via `model.save()` or `keras.saving.save_model(model)`. This file format is considered legacy. We recommend using instead the native Keras format, e.g. `model.save('my_model.keras')` or `keras.saving.save_model(model, 'my_model.keras')`. \n"
     ]
    },
    {
     "name": "stdout",
     "output_type": "stream",
     "text": [
      "\u001b[1m40/40\u001b[0m \u001b[32m━━━━━━━━━━━━━━━━━━━━\u001b[0m\u001b[37m\u001b[0m \u001b[1m23s\u001b[0m 563ms/step - accuracy: 0.7598 - auc_roc: 0.8661 - loss: 0.4598 - precision: 0.7119 - recall: 0.8271 - val_accuracy: 0.8750 - val_auc_roc: 0.9375 - val_loss: 0.3138 - val_precision: 0.8125 - val_recall: 0.9750 - learning_rate: 1.0000e-04\n",
      "Epoch 27/50\n",
      "\u001b[1m40/40\u001b[0m \u001b[32m━━━━━━━━━━━━━━━━━━━━\u001b[0m\u001b[37m\u001b[0m \u001b[1m0s\u001b[0m 441ms/step - accuracy: 0.7920 - auc_roc: 0.8731 - loss: 0.4345 - precision: 0.7711 - recall: 0.8726\n",
      "Epoch 27: val_loss did not improve from 0.31378\n",
      "\u001b[1m40/40\u001b[0m \u001b[32m━━━━━━━━━━━━━━━━━━━━\u001b[0m\u001b[37m\u001b[0m \u001b[1m22s\u001b[0m 545ms/step - accuracy: 0.7922 - auc_roc: 0.8732 - loss: 0.4343 - precision: 0.7707 - recall: 0.8732 - val_accuracy: 0.8750 - val_auc_roc: 0.9412 - val_loss: 0.3141 - val_precision: 0.8125 - val_recall: 0.9750 - learning_rate: 1.0000e-04\n",
      "Epoch 28/50\n",
      "\u001b[1m40/40\u001b[0m \u001b[32m━━━━━━━━━━━━━━━━━━━━\u001b[0m\u001b[37m\u001b[0m \u001b[1m0s\u001b[0m 442ms/step - accuracy: 0.8063 - auc_roc: 0.8967 - loss: 0.3998 - precision: 0.7674 - recall: 0.8867\n",
      "Epoch 28: val_loss did not improve from 0.31378\n",
      "\u001b[1m40/40\u001b[0m \u001b[32m━━━━━━━━━━━━━━━━━━━━\u001b[0m\u001b[37m\u001b[0m \u001b[1m22s\u001b[0m 550ms/step - accuracy: 0.8066 - auc_roc: 0.8968 - loss: 0.3997 - precision: 0.7676 - recall: 0.8869 - val_accuracy: 0.8750 - val_auc_roc: 0.9344 - val_loss: 0.3149 - val_precision: 0.8125 - val_recall: 0.9750 - learning_rate: 1.0000e-04\n",
      "Epoch 29/50\n",
      "\u001b[1m40/40\u001b[0m \u001b[32m━━━━━━━━━━━━━━━━━━━━\u001b[0m\u001b[37m\u001b[0m \u001b[1m0s\u001b[0m 431ms/step - accuracy: 0.8057 - auc_roc: 0.8788 - loss: 0.4239 - precision: 0.7369 - recall: 0.9164\n",
      "Epoch 29: val_loss improved from 0.31378 to 0.31267, saving model to resnet50.h5\n"
     ]
    },
    {
     "name": "stderr",
     "output_type": "stream",
     "text": [
      "WARNING:absl:You are saving your model as an HDF5 file via `model.save()` or `keras.saving.save_model(model)`. This file format is considered legacy. We recommend using instead the native Keras format, e.g. `model.save('my_model.keras')` or `keras.saving.save_model(model, 'my_model.keras')`. \n"
     ]
    },
    {
     "name": "stdout",
     "output_type": "stream",
     "text": [
      "\u001b[1m40/40\u001b[0m \u001b[32m━━━━━━━━━━━━━━━━━━━━\u001b[0m\u001b[37m\u001b[0m \u001b[1m22s\u001b[0m 555ms/step - accuracy: 0.8053 - auc_roc: 0.8785 - loss: 0.4243 - precision: 0.7371 - recall: 0.9157 - val_accuracy: 0.8750 - val_auc_roc: 0.9353 - val_loss: 0.3127 - val_precision: 0.8125 - val_recall: 0.9750 - learning_rate: 1.0000e-04\n",
      "Epoch 30/50\n",
      "\u001b[1m40/40\u001b[0m \u001b[32m━━━━━━━━━━━━━━━━━━━━\u001b[0m\u001b[37m\u001b[0m \u001b[1m0s\u001b[0m 430ms/step - accuracy: 0.8100 - auc_roc: 0.9028 - loss: 0.4136 - precision: 0.7459 - recall: 0.9032\n",
      "Epoch 30: val_loss improved from 0.31267 to 0.30994, saving model to resnet50.h5\n"
     ]
    },
    {
     "name": "stderr",
     "output_type": "stream",
     "text": [
      "WARNING:absl:You are saving your model as an HDF5 file via `model.save()` or `keras.saving.save_model(model)`. This file format is considered legacy. We recommend using instead the native Keras format, e.g. `model.save('my_model.keras')` or `keras.saving.save_model(model, 'my_model.keras')`. \n"
     ]
    },
    {
     "name": "stdout",
     "output_type": "stream",
     "text": [
      "\u001b[1m40/40\u001b[0m \u001b[32m━━━━━━━━━━━━━━━━━━━━\u001b[0m\u001b[37m\u001b[0m \u001b[1m22s\u001b[0m 554ms/step - accuracy: 0.8101 - auc_roc: 0.9023 - loss: 0.4140 - precision: 0.7466 - recall: 0.9028 - val_accuracy: 0.8750 - val_auc_roc: 0.9412 - val_loss: 0.3099 - val_precision: 0.8125 - val_recall: 0.9750 - learning_rate: 1.0000e-04\n",
      "Epoch 31/50\n",
      "\u001b[1m40/40\u001b[0m \u001b[32m━━━━━━━━━━━━━━━━━━━━\u001b[0m\u001b[37m\u001b[0m \u001b[1m0s\u001b[0m 427ms/step - accuracy: 0.7938 - auc_roc: 0.8928 - loss: 0.4151 - precision: 0.7440 - recall: 0.9050\n",
      "Epoch 31: val_loss improved from 0.30994 to 0.30376, saving model to resnet50.h5\n"
     ]
    },
    {
     "name": "stderr",
     "output_type": "stream",
     "text": [
      "WARNING:absl:You are saving your model as an HDF5 file via `model.save()` or `keras.saving.save_model(model)`. This file format is considered legacy. We recommend using instead the native Keras format, e.g. `model.save('my_model.keras')` or `keras.saving.save_model(model, 'my_model.keras')`. \n"
     ]
    },
    {
     "name": "stdout",
     "output_type": "stream",
     "text": [
      "\u001b[1m40/40\u001b[0m \u001b[32m━━━━━━━━━━━━━━━━━━━━\u001b[0m\u001b[37m\u001b[0m \u001b[1m22s\u001b[0m 550ms/step - accuracy: 0.7940 - auc_roc: 0.8926 - loss: 0.4153 - precision: 0.7443 - recall: 0.9047 - val_accuracy: 0.8625 - val_auc_roc: 0.9403 - val_loss: 0.3038 - val_precision: 0.8085 - val_recall: 0.9500 - learning_rate: 1.0000e-04\n",
      "Epoch 32/50\n",
      "\u001b[1m40/40\u001b[0m \u001b[32m━━━━━━━━━━━━━━━━━━━━\u001b[0m\u001b[37m\u001b[0m \u001b[1m0s\u001b[0m 411ms/step - accuracy: 0.7960 - auc_roc: 0.8577 - loss: 0.4586 - precision: 0.7462 - recall: 0.8695\n",
      "Epoch 32: val_loss did not improve from 0.30376\n",
      "\u001b[1m40/40\u001b[0m \u001b[32m━━━━━━━━━━━━━━━━━━━━\u001b[0m\u001b[37m\u001b[0m \u001b[1m21s\u001b[0m 514ms/step - accuracy: 0.7963 - auc_roc: 0.8579 - loss: 0.4582 - precision: 0.7467 - recall: 0.8700 - val_accuracy: 0.8750 - val_auc_roc: 0.9394 - val_loss: 0.3056 - val_precision: 0.8125 - val_recall: 0.9750 - learning_rate: 1.0000e-04\n",
      "Epoch 33/50\n",
      "\u001b[1m40/40\u001b[0m \u001b[32m━━━━━━━━━━━━━━━━━━━━\u001b[0m\u001b[37m\u001b[0m \u001b[1m0s\u001b[0m 413ms/step - accuracy: 0.7625 - auc_roc: 0.8845 - loss: 0.4179 - precision: 0.7234 - recall: 0.8306\n",
      "Epoch 33: val_loss improved from 0.30376 to 0.30351, saving model to resnet50.h5\n"
     ]
    },
    {
     "name": "stderr",
     "output_type": "stream",
     "text": [
      "WARNING:absl:You are saving your model as an HDF5 file via `model.save()` or `keras.saving.save_model(model)`. This file format is considered legacy. We recommend using instead the native Keras format, e.g. `model.save('my_model.keras')` or `keras.saving.save_model(model, 'my_model.keras')`. \n"
     ]
    },
    {
     "name": "stdout",
     "output_type": "stream",
     "text": [
      "\u001b[1m40/40\u001b[0m \u001b[32m━━━━━━━━━━━━━━━━━━━━\u001b[0m\u001b[37m\u001b[0m \u001b[1m21s\u001b[0m 534ms/step - accuracy: 0.7626 - auc_roc: 0.8840 - loss: 0.4184 - precision: 0.7236 - recall: 0.8311 - val_accuracy: 0.8750 - val_auc_roc: 0.9441 - val_loss: 0.3035 - val_precision: 0.8125 - val_recall: 0.9750 - learning_rate: 1.0000e-04\n",
      "Epoch 34/50\n",
      "\u001b[1m40/40\u001b[0m \u001b[32m━━━━━━━━━━━━━━━━━━━━\u001b[0m\u001b[37m\u001b[0m \u001b[1m0s\u001b[0m 412ms/step - accuracy: 0.7714 - auc_roc: 0.8945 - loss: 0.4212 - precision: 0.7397 - recall: 0.8363\n",
      "Epoch 34: val_loss improved from 0.30351 to 0.30053, saving model to resnet50.h5\n"
     ]
    },
    {
     "name": "stderr",
     "output_type": "stream",
     "text": [
      "WARNING:absl:You are saving your model as an HDF5 file via `model.save()` or `keras.saving.save_model(model)`. This file format is considered legacy. We recommend using instead the native Keras format, e.g. `model.save('my_model.keras')` or `keras.saving.save_model(model, 'my_model.keras')`. \n"
     ]
    },
    {
     "name": "stdout",
     "output_type": "stream",
     "text": [
      "\u001b[1m40/40\u001b[0m \u001b[32m━━━━━━━━━━━━━━━━━━━━\u001b[0m\u001b[37m\u001b[0m \u001b[1m21s\u001b[0m 528ms/step - accuracy: 0.7712 - auc_roc: 0.8939 - loss: 0.4217 - precision: 0.7397 - recall: 0.8358 - val_accuracy: 0.8750 - val_auc_roc: 0.9444 - val_loss: 0.3005 - val_precision: 0.8125 - val_recall: 0.9750 - learning_rate: 1.0000e-04\n",
      "Epoch 35/50\n",
      "\u001b[1m40/40\u001b[0m \u001b[32m━━━━━━━━━━━━━━━━━━━━\u001b[0m\u001b[37m\u001b[0m \u001b[1m0s\u001b[0m 410ms/step - accuracy: 0.7284 - auc_roc: 0.8502 - loss: 0.4868 - precision: 0.6626 - recall: 0.8490\n",
      "Epoch 35: val_loss improved from 0.30053 to 0.29785, saving model to resnet50.h5\n"
     ]
    },
    {
     "name": "stderr",
     "output_type": "stream",
     "text": [
      "WARNING:absl:You are saving your model as an HDF5 file via `model.save()` or `keras.saving.save_model(model)`. This file format is considered legacy. We recommend using instead the native Keras format, e.g. `model.save('my_model.keras')` or `keras.saving.save_model(model, 'my_model.keras')`. \n"
     ]
    },
    {
     "name": "stdout",
     "output_type": "stream",
     "text": [
      "\u001b[1m40/40\u001b[0m \u001b[32m━━━━━━━━━━━━━━━━━━━━\u001b[0m\u001b[37m\u001b[0m \u001b[1m21s\u001b[0m 528ms/step - accuracy: 0.7295 - auc_roc: 0.8504 - loss: 0.4859 - precision: 0.6644 - recall: 0.8488 - val_accuracy: 0.8750 - val_auc_roc: 0.9475 - val_loss: 0.2979 - val_precision: 0.8125 - val_recall: 0.9750 - learning_rate: 1.0000e-04\n",
      "Epoch 36/50\n",
      "\u001b[1m40/40\u001b[0m \u001b[32m━━━━━━━━━━━━━━━━━━━━\u001b[0m\u001b[37m\u001b[0m \u001b[1m0s\u001b[0m 412ms/step - accuracy: 0.8273 - auc_roc: 0.8820 - loss: 0.4215 - precision: 0.8061 - recall: 0.8617\n",
      "Epoch 36: val_loss improved from 0.29785 to 0.29444, saving model to resnet50.h5\n"
     ]
    },
    {
     "name": "stderr",
     "output_type": "stream",
     "text": [
      "WARNING:absl:You are saving your model as an HDF5 file via `model.save()` or `keras.saving.save_model(model)`. This file format is considered legacy. We recommend using instead the native Keras format, e.g. `model.save('my_model.keras')` or `keras.saving.save_model(model, 'my_model.keras')`. \n"
     ]
    },
    {
     "name": "stdout",
     "output_type": "stream",
     "text": [
      "\u001b[1m40/40\u001b[0m \u001b[32m━━━━━━━━━━━━━━━━━━━━\u001b[0m\u001b[37m\u001b[0m \u001b[1m21s\u001b[0m 528ms/step - accuracy: 0.8270 - auc_roc: 0.8820 - loss: 0.4217 - precision: 0.8057 - recall: 0.8617 - val_accuracy: 0.8875 - val_auc_roc: 0.9553 - val_loss: 0.2944 - val_precision: 0.8298 - val_recall: 0.9750 - learning_rate: 1.0000e-04\n",
      "Epoch 37/50\n",
      "\u001b[1m40/40\u001b[0m \u001b[32m━━━━━━━━━━━━━━━━━━━━\u001b[0m\u001b[37m\u001b[0m \u001b[1m0s\u001b[0m 411ms/step - accuracy: 0.7454 - auc_roc: 0.7951 - loss: 0.5570 - precision: 0.6783 - recall: 0.8342\n",
      "Epoch 37: val_loss did not improve from 0.29444\n",
      "\u001b[1m40/40\u001b[0m \u001b[32m━━━━━━━━━━━━━━━━━━━━\u001b[0m\u001b[37m\u001b[0m \u001b[1m21s\u001b[0m 513ms/step - accuracy: 0.7456 - auc_roc: 0.7959 - loss: 0.5554 - precision: 0.6795 - recall: 0.8338 - val_accuracy: 0.8625 - val_auc_roc: 0.9403 - val_loss: 0.3054 - val_precision: 0.8222 - val_recall: 0.9250 - learning_rate: 1.0000e-04\n",
      "Epoch 38/50\n",
      "\u001b[1m40/40\u001b[0m \u001b[32m━━━━━━━━━━━━━━━━━━━━\u001b[0m\u001b[37m\u001b[0m \u001b[1m0s\u001b[0m 413ms/step - accuracy: 0.8325 - auc_roc: 0.9207 - loss: 0.3929 - precision: 0.7559 - recall: 0.9369\n",
      "Epoch 38: val_loss did not improve from 0.29444\n",
      "\u001b[1m40/40\u001b[0m \u001b[32m━━━━━━━━━━━━━━━━━━━━\u001b[0m\u001b[37m\u001b[0m \u001b[1m21s\u001b[0m 516ms/step - accuracy: 0.8320 - auc_roc: 0.9198 - loss: 0.3937 - precision: 0.7565 - recall: 0.9349 - val_accuracy: 0.8750 - val_auc_roc: 0.9481 - val_loss: 0.2996 - val_precision: 0.8261 - val_recall: 0.9500 - learning_rate: 1.0000e-04\n",
      "Epoch 39/50\n",
      "\u001b[1m40/40\u001b[0m \u001b[32m━━━━━━━━━━━━━━━━━━━━\u001b[0m\u001b[37m\u001b[0m \u001b[1m0s\u001b[0m 420ms/step - accuracy: 0.7451 - auc_roc: 0.8645 - loss: 0.4387 - precision: 0.7056 - recall: 0.8047\n",
      "Epoch 39: val_loss improved from 0.29444 to 0.29434, saving model to resnet50.h5\n"
     ]
    },
    {
     "name": "stderr",
     "output_type": "stream",
     "text": [
      "WARNING:absl:You are saving your model as an HDF5 file via `model.save()` or `keras.saving.save_model(model)`. This file format is considered legacy. We recommend using instead the native Keras format, e.g. `model.save('my_model.keras')` or `keras.saving.save_model(model, 'my_model.keras')`. \n"
     ]
    },
    {
     "name": "stdout",
     "output_type": "stream",
     "text": [
      "\u001b[1m40/40\u001b[0m \u001b[32m━━━━━━━━━━━━━━━━━━━━\u001b[0m\u001b[37m\u001b[0m \u001b[1m22s\u001b[0m 537ms/step - accuracy: 0.7460 - auc_roc: 0.8650 - loss: 0.4382 - precision: 0.7065 - recall: 0.8061 - val_accuracy: 0.9000 - val_auc_roc: 0.9594 - val_loss: 0.2943 - val_precision: 0.8478 - val_recall: 0.9750 - learning_rate: 1.0000e-04\n",
      "Epoch 40/50\n",
      "\u001b[1m40/40\u001b[0m \u001b[32m━━━━━━━━━━━━━━━━━━━━\u001b[0m\u001b[37m\u001b[0m \u001b[1m0s\u001b[0m 416ms/step - accuracy: 0.8137 - auc_roc: 0.8803 - loss: 0.4167 - precision: 0.7770 - recall: 0.8872\n",
      "Epoch 40: val_loss improved from 0.29434 to 0.28620, saving model to resnet50.h5\n"
     ]
    },
    {
     "name": "stderr",
     "output_type": "stream",
     "text": [
      "WARNING:absl:You are saving your model as an HDF5 file via `model.save()` or `keras.saving.save_model(model)`. This file format is considered legacy. We recommend using instead the native Keras format, e.g. `model.save('my_model.keras')` or `keras.saving.save_model(model, 'my_model.keras')`. \n"
     ]
    },
    {
     "name": "stdout",
     "output_type": "stream",
     "text": [
      "\u001b[1m40/40\u001b[0m \u001b[32m━━━━━━━━━━━━━━━━━━━━\u001b[0m\u001b[37m\u001b[0m \u001b[1m21s\u001b[0m 532ms/step - accuracy: 0.8135 - auc_roc: 0.8804 - loss: 0.4168 - precision: 0.7766 - recall: 0.8873 - val_accuracy: 0.9000 - val_auc_roc: 0.9597 - val_loss: 0.2862 - val_precision: 0.8478 - val_recall: 0.9750 - learning_rate: 1.0000e-04\n",
      "Epoch 41/50\n",
      "\u001b[1m40/40\u001b[0m \u001b[32m━━━━━━━━━━━━━━━━━━━━\u001b[0m\u001b[37m\u001b[0m \u001b[1m0s\u001b[0m 410ms/step - accuracy: 0.7971 - auc_roc: 0.8747 - loss: 0.4217 - precision: 0.7544 - recall: 0.8863\n",
      "Epoch 41: val_loss improved from 0.28620 to 0.28426, saving model to resnet50.h5\n"
     ]
    },
    {
     "name": "stderr",
     "output_type": "stream",
     "text": [
      "WARNING:absl:You are saving your model as an HDF5 file via `model.save()` or `keras.saving.save_model(model)`. This file format is considered legacy. We recommend using instead the native Keras format, e.g. `model.save('my_model.keras')` or `keras.saving.save_model(model, 'my_model.keras')`. \n"
     ]
    },
    {
     "name": "stdout",
     "output_type": "stream",
     "text": [
      "\u001b[1m40/40\u001b[0m \u001b[32m━━━━━━━━━━━━━━━━━━━━\u001b[0m\u001b[37m\u001b[0m \u001b[1m21s\u001b[0m 528ms/step - accuracy: 0.7971 - auc_roc: 0.8749 - loss: 0.4216 - precision: 0.7541 - recall: 0.8868 - val_accuracy: 0.8875 - val_auc_roc: 0.9594 - val_loss: 0.2843 - val_precision: 0.8298 - val_recall: 0.9750 - learning_rate: 1.0000e-04\n",
      "Epoch 42/50\n",
      "\u001b[1m40/40\u001b[0m \u001b[32m━━━━━━━━━━━━━━━━━━━━\u001b[0m\u001b[37m\u001b[0m \u001b[1m0s\u001b[0m 410ms/step - accuracy: 0.8137 - auc_roc: 0.8968 - loss: 0.3996 - precision: 0.8053 - recall: 0.8458\n",
      "Epoch 42: val_loss did not improve from 0.28426\n",
      "\u001b[1m40/40\u001b[0m \u001b[32m━━━━━━━━━━━━━━━━━━━━\u001b[0m\u001b[37m\u001b[0m \u001b[1m21s\u001b[0m 512ms/step - accuracy: 0.8132 - auc_roc: 0.8960 - loss: 0.4008 - precision: 0.8043 - recall: 0.8459 - val_accuracy: 0.8875 - val_auc_roc: 0.9572 - val_loss: 0.2843 - val_precision: 0.8298 - val_recall: 0.9750 - learning_rate: 1.0000e-04\n",
      "Epoch 43/50\n",
      "\u001b[1m40/40\u001b[0m \u001b[32m━━━━━━━━━━━━━━━━━━━━\u001b[0m\u001b[37m\u001b[0m \u001b[1m0s\u001b[0m 411ms/step - accuracy: 0.8524 - auc_roc: 0.9389 - loss: 0.3422 - precision: 0.8059 - recall: 0.9228\n",
      "Epoch 43: val_loss improved from 0.28426 to 0.28363, saving model to resnet50.h5\n"
     ]
    },
    {
     "name": "stderr",
     "output_type": "stream",
     "text": [
      "WARNING:absl:You are saving your model as an HDF5 file via `model.save()` or `keras.saving.save_model(model)`. This file format is considered legacy. We recommend using instead the native Keras format, e.g. `model.save('my_model.keras')` or `keras.saving.save_model(model, 'my_model.keras')`. \n"
     ]
    },
    {
     "name": "stdout",
     "output_type": "stream",
     "text": [
      "\u001b[1m40/40\u001b[0m \u001b[32m━━━━━━━━━━━━━━━━━━━━\u001b[0m\u001b[37m\u001b[0m \u001b[1m21s\u001b[0m 527ms/step - accuracy: 0.8518 - auc_roc: 0.9384 - loss: 0.3430 - precision: 0.8061 - recall: 0.9212 - val_accuracy: 0.8875 - val_auc_roc: 0.9591 - val_loss: 0.2836 - val_precision: 0.8298 - val_recall: 0.9750 - learning_rate: 1.0000e-04\n",
      "Epoch 44/50\n",
      "\u001b[1m40/40\u001b[0m \u001b[32m━━━━━━━━━━━━━━━━━━━━\u001b[0m\u001b[37m\u001b[0m \u001b[1m0s\u001b[0m 412ms/step - accuracy: 0.7699 - auc_roc: 0.8745 - loss: 0.4395 - precision: 0.7145 - recall: 0.8283\n",
      "Epoch 44: val_loss improved from 0.28363 to 0.28184, saving model to resnet50.h5\n"
     ]
    },
    {
     "name": "stderr",
     "output_type": "stream",
     "text": [
      "WARNING:absl:You are saving your model as an HDF5 file via `model.save()` or `keras.saving.save_model(model)`. This file format is considered legacy. We recommend using instead the native Keras format, e.g. `model.save('my_model.keras')` or `keras.saving.save_model(model, 'my_model.keras')`. \n"
     ]
    },
    {
     "name": "stdout",
     "output_type": "stream",
     "text": [
      "\u001b[1m40/40\u001b[0m \u001b[32m━━━━━━━━━━━━━━━━━━━━\u001b[0m\u001b[37m\u001b[0m \u001b[1m21s\u001b[0m 530ms/step - accuracy: 0.7705 - auc_roc: 0.8746 - loss: 0.4393 - precision: 0.7158 - recall: 0.8287 - val_accuracy: 0.8875 - val_auc_roc: 0.9612 - val_loss: 0.2818 - val_precision: 0.8298 - val_recall: 0.9750 - learning_rate: 1.0000e-04\n",
      "Epoch 45/50\n",
      "\u001b[1m40/40\u001b[0m \u001b[32m━━━━━━━━━━━━━━━━━━━━\u001b[0m\u001b[37m\u001b[0m \u001b[1m0s\u001b[0m 409ms/step - accuracy: 0.7981 - auc_roc: 0.8774 - loss: 0.4289 - precision: 0.7594 - recall: 0.9029\n",
      "Epoch 45: val_loss did not improve from 0.28184\n",
      "\u001b[1m40/40\u001b[0m \u001b[32m━━━━━━━━━━━━━━━━━━━━\u001b[0m\u001b[37m\u001b[0m \u001b[1m21s\u001b[0m 511ms/step - accuracy: 0.7983 - auc_roc: 0.8777 - loss: 0.4286 - precision: 0.7594 - recall: 0.9028 - val_accuracy: 0.8875 - val_auc_roc: 0.9591 - val_loss: 0.2836 - val_precision: 0.8298 - val_recall: 0.9750 - learning_rate: 1.0000e-04\n",
      "Epoch 46/50\n",
      "\u001b[1m40/40\u001b[0m \u001b[32m━━━━━━━━━━━━━━━━━━━━\u001b[0m\u001b[37m\u001b[0m \u001b[1m0s\u001b[0m 412ms/step - accuracy: 0.8103 - auc_roc: 0.9097 - loss: 0.3846 - precision: 0.7923 - recall: 0.8642\n",
      "Epoch 46: val_loss improved from 0.28184 to 0.27453, saving model to resnet50.h5\n"
     ]
    },
    {
     "name": "stderr",
     "output_type": "stream",
     "text": [
      "WARNING:absl:You are saving your model as an HDF5 file via `model.save()` or `keras.saving.save_model(model)`. This file format is considered legacy. We recommend using instead the native Keras format, e.g. `model.save('my_model.keras')` or `keras.saving.save_model(model, 'my_model.keras')`. \n"
     ]
    },
    {
     "name": "stdout",
     "output_type": "stream",
     "text": [
      "\u001b[1m40/40\u001b[0m \u001b[32m━━━━━━━━━━━━━━━━━━━━\u001b[0m\u001b[37m\u001b[0m \u001b[1m21s\u001b[0m 528ms/step - accuracy: 0.8102 - auc_roc: 0.9093 - loss: 0.3852 - precision: 0.7917 - recall: 0.8647 - val_accuracy: 0.8750 - val_auc_roc: 0.9616 - val_loss: 0.2745 - val_precision: 0.8125 - val_recall: 0.9750 - learning_rate: 1.0000e-04\n",
      "Epoch 47/50\n",
      "\u001b[1m40/40\u001b[0m \u001b[32m━━━━━━━━━━━━━━━━━━━━\u001b[0m\u001b[37m\u001b[0m \u001b[1m0s\u001b[0m 410ms/step - accuracy: 0.8311 - auc_roc: 0.8907 - loss: 0.4394 - precision: 0.8230 - recall: 0.8769\n",
      "Epoch 47: val_loss did not improve from 0.27453\n",
      "\u001b[1m40/40\u001b[0m \u001b[32m━━━━━━━━━━━━━━━━━━━━\u001b[0m\u001b[37m\u001b[0m \u001b[1m21s\u001b[0m 512ms/step - accuracy: 0.8304 - auc_roc: 0.8905 - loss: 0.4392 - precision: 0.8215 - recall: 0.8770 - val_accuracy: 0.9250 - val_auc_roc: 0.9609 - val_loss: 0.2830 - val_precision: 0.8864 - val_recall: 0.9750 - learning_rate: 1.0000e-04\n",
      "Epoch 48/50\n",
      "\u001b[1m40/40\u001b[0m \u001b[32m━━━━━━━━━━━━━━━━━━━━\u001b[0m\u001b[37m\u001b[0m \u001b[1m0s\u001b[0m 411ms/step - accuracy: 0.7865 - auc_roc: 0.8869 - loss: 0.4207 - precision: 0.7644 - recall: 0.8365\n",
      "Epoch 48: val_loss improved from 0.27453 to 0.26964, saving model to resnet50.h5\n"
     ]
    },
    {
     "name": "stderr",
     "output_type": "stream",
     "text": [
      "WARNING:absl:You are saving your model as an HDF5 file via `model.save()` or `keras.saving.save_model(model)`. This file format is considered legacy. We recommend using instead the native Keras format, e.g. `model.save('my_model.keras')` or `keras.saving.save_model(model, 'my_model.keras')`. \n"
     ]
    },
    {
     "name": "stdout",
     "output_type": "stream",
     "text": [
      "\u001b[1m40/40\u001b[0m \u001b[32m━━━━━━━━━━━━━━━━━━━━\u001b[0m\u001b[37m\u001b[0m \u001b[1m21s\u001b[0m 526ms/step - accuracy: 0.7875 - auc_roc: 0.8874 - loss: 0.4199 - precision: 0.7651 - recall: 0.8376 - val_accuracy: 0.8875 - val_auc_roc: 0.9638 - val_loss: 0.2696 - val_precision: 0.8298 - val_recall: 0.9750 - learning_rate: 1.0000e-04\n",
      "Epoch 49/50\n",
      "\u001b[1m40/40\u001b[0m \u001b[32m━━━━━━━━━━━━━━━━━━━━\u001b[0m\u001b[37m\u001b[0m \u001b[1m0s\u001b[0m 411ms/step - accuracy: 0.7981 - auc_roc: 0.8799 - loss: 0.4234 - precision: 0.7617 - recall: 0.8516\n",
      "Epoch 49: val_loss did not improve from 0.26964\n",
      "\u001b[1m40/40\u001b[0m \u001b[32m━━━━━━━━━━━━━━━━━━━━\u001b[0m\u001b[37m\u001b[0m \u001b[1m21s\u001b[0m 514ms/step - accuracy: 0.7978 - auc_roc: 0.8797 - loss: 0.4237 - precision: 0.7616 - recall: 0.8514 - val_accuracy: 0.9125 - val_auc_roc: 0.9641 - val_loss: 0.2729 - val_precision: 0.8667 - val_recall: 0.9750 - learning_rate: 1.0000e-04\n",
      "Epoch 50/50\n",
      "\u001b[1m40/40\u001b[0m \u001b[32m━━━━━━━━━━━━━━━━━━━━\u001b[0m\u001b[37m\u001b[0m \u001b[1m0s\u001b[0m 414ms/step - accuracy: 0.8167 - auc_roc: 0.8793 - loss: 0.4162 - precision: 0.7511 - recall: 0.9300\n",
      "Epoch 50: val_loss did not improve from 0.26964\n",
      "\u001b[1m40/40\u001b[0m \u001b[32m━━━━━━━━━━━━━━━━━━━━\u001b[0m\u001b[37m\u001b[0m \u001b[1m21s\u001b[0m 516ms/step - accuracy: 0.8165 - auc_roc: 0.8795 - loss: 0.4159 - precision: 0.7516 - recall: 0.9286 - val_accuracy: 0.9125 - val_auc_roc: 0.9659 - val_loss: 0.2729 - val_precision: 0.8667 - val_recall: 0.9750 - learning_rate: 1.0000e-04\n"
     ]
    }
   ],
   "source": [
    "# Train (Warm-up)\n",
    "history = model.fit(\n",
    "    train_gen,\n",
    "    validation_data=val_gen,\n",
    "    epochs=50,\n",
    "    callbacks=callbacks\n",
    ")"
   ]
  },
  {
   "cell_type": "code",
   "execution_count": 15,
   "id": "fd8d7abc",
   "metadata": {},
   "outputs": [],
   "source": [
    "from sklearn.metrics import classification_report, confusion_matrix, ConfusionMatrixDisplay\n",
    "import numpy as np\n",
    "import matplotlib.pyplot as plt\n"
   ]
  },
  {
   "cell_type": "code",
   "execution_count": 16,
   "id": "a548c680",
   "metadata": {},
   "outputs": [],
   "source": [
    "# Fine-tune: Unfreeze last few layers of base model\n",
    "base_model.trainable = True\n",
    "for layer in base_model.layers[:-30]:  # Freeze all except last 30 layers\n",
    "    layer.trainable = False"
   ]
  },
  {
   "cell_type": "code",
   "execution_count": 17,
   "id": "97fbe17c",
   "metadata": {},
   "outputs": [],
   "source": [
    "# Compile again after unfreezing layers for fine-tuning\n",
    "model.compile(\n",
    "    optimizer=tf.keras.optimizers.Adam(learning_rate=1e-5),\n",
    "    loss='binary_crossentropy',\n",
    "    metrics=[\n",
    "        'accuracy',\n",
    "        Precision(name='precision'),\n",
    "        Recall(name='recall'),\n",
    "        AUC(name='auc_roc')\n",
    "    ]\n",
    ")"
   ]
  },
  {
   "cell_type": "code",
   "execution_count": 18,
   "id": "9975aa7c",
   "metadata": {},
   "outputs": [
    {
     "name": "stdout",
     "output_type": "stream",
     "text": [
      "Epoch 1/35\n",
      "\u001b[1m40/40\u001b[0m \u001b[32m━━━━━━━━━━━━━━━━━━━━\u001b[0m\u001b[37m\u001b[0m \u001b[1m0s\u001b[0m 646ms/step - accuracy: 0.6608 - auc_roc: 0.7451 - loss: 0.7655 - precision: 0.6566 - recall: 0.6797\n",
      "Epoch 1: val_loss did not improve from 0.26964\n",
      "\u001b[1m40/40\u001b[0m \u001b[32m━━━━━━━━━━━━━━━━━━━━\u001b[0m\u001b[37m\u001b[0m \u001b[1m42s\u001b[0m 812ms/step - accuracy: 0.6619 - auc_roc: 0.7459 - loss: 0.7639 - precision: 0.6573 - recall: 0.6813 - val_accuracy: 0.5000 - val_auc_roc: 0.5000 - val_loss: 9.1261 - val_precision: 0.0000e+00 - val_recall: 0.0000e+00 - learning_rate: 1.0000e-05\n",
      "Epoch 2/35\n",
      "\u001b[1m40/40\u001b[0m \u001b[32m━━━━━━━━━━━━━━━━━━━━\u001b[0m\u001b[37m\u001b[0m \u001b[1m0s\u001b[0m 629ms/step - accuracy: 0.7275 - auc_roc: 0.8116 - loss: 0.6471 - precision: 0.7157 - recall: 0.7603\n",
      "Epoch 2: val_loss did not improve from 0.26964\n",
      "\u001b[1m40/40\u001b[0m \u001b[32m━━━━━━━━━━━━━━━━━━━━\u001b[0m\u001b[37m\u001b[0m \u001b[1m29s\u001b[0m 733ms/step - accuracy: 0.7281 - auc_roc: 0.8119 - loss: 0.6464 - precision: 0.7163 - recall: 0.7607 - val_accuracy: 0.5000 - val_auc_roc: 0.5000 - val_loss: 7.4664 - val_precision: 0.0000e+00 - val_recall: 0.0000e+00 - learning_rate: 1.0000e-05\n",
      "Epoch 3/35\n",
      "\u001b[1m40/40\u001b[0m \u001b[32m━━━━━━━━━━━━━━━━━━━━\u001b[0m\u001b[37m\u001b[0m \u001b[1m0s\u001b[0m 647ms/step - accuracy: 0.7746 - auc_roc: 0.8410 - loss: 0.5835 - precision: 0.7588 - recall: 0.7969\n",
      "Epoch 3: val_loss did not improve from 0.26964\n",
      "\u001b[1m40/40\u001b[0m \u001b[32m━━━━━━━━━━━━━━━━━━━━\u001b[0m\u001b[37m\u001b[0m \u001b[1m30s\u001b[0m 753ms/step - accuracy: 0.7746 - auc_roc: 0.8412 - loss: 0.5827 - precision: 0.7587 - recall: 0.7973 - val_accuracy: 0.5125 - val_auc_roc: 0.9391 - val_loss: 0.9181 - val_precision: 1.0000 - val_recall: 0.0250 - learning_rate: 1.0000e-05\n",
      "Epoch 4/35\n",
      "\u001b[1m40/40\u001b[0m \u001b[32m━━━━━━━━━━━━━━━━━━━━\u001b[0m\u001b[37m\u001b[0m \u001b[1m0s\u001b[0m 630ms/step - accuracy: 0.7951 - auc_roc: 0.8713 - loss: 0.4731 - precision: 0.8004 - recall: 0.7828\n",
      "Epoch 4: val_loss did not improve from 0.26964\n",
      "\u001b[1m40/40\u001b[0m \u001b[32m━━━━━━━━━━━━━━━━━━━━\u001b[0m\u001b[37m\u001b[0m \u001b[1m29s\u001b[0m 735ms/step - accuracy: 0.7950 - auc_roc: 0.8714 - loss: 0.4733 - precision: 0.7999 - recall: 0.7834 - val_accuracy: 0.8625 - val_auc_roc: 0.9391 - val_loss: 0.3218 - val_precision: 0.8222 - val_recall: 0.9250 - learning_rate: 1.0000e-05\n",
      "Epoch 5/35\n",
      "\u001b[1m40/40\u001b[0m \u001b[32m━━━━━━━━━━━━━━━━━━━━\u001b[0m\u001b[37m\u001b[0m \u001b[1m0s\u001b[0m 631ms/step - accuracy: 0.8029 - auc_roc: 0.8827 - loss: 0.4639 - precision: 0.7792 - recall: 0.8543\n",
      "Epoch 5: val_loss did not improve from 0.26964\n",
      "\u001b[1m40/40\u001b[0m \u001b[32m━━━━━━━━━━━━━━━━━━━━\u001b[0m\u001b[37m\u001b[0m \u001b[1m29s\u001b[0m 734ms/step - accuracy: 0.8036 - auc_roc: 0.8830 - loss: 0.4631 - precision: 0.7795 - recall: 0.8554 - val_accuracy: 0.6625 - val_auc_roc: 0.8738 - val_loss: 0.8211 - val_precision: 0.6000 - val_recall: 0.9750 - learning_rate: 1.0000e-05\n",
      "Epoch 6/35\n",
      "\u001b[1m40/40\u001b[0m \u001b[32m━━━━━━━━━━━━━━━━━━━━\u001b[0m\u001b[37m\u001b[0m \u001b[1m0s\u001b[0m 631ms/step - accuracy: 0.8260 - auc_roc: 0.8896 - loss: 0.4775 - precision: 0.8498 - recall: 0.7901\n",
      "Epoch 6: val_loss did not improve from 0.26964\n",
      "\u001b[1m40/40\u001b[0m \u001b[32m━━━━━━━━━━━━━━━━━━━━\u001b[0m\u001b[37m\u001b[0m \u001b[1m29s\u001b[0m 734ms/step - accuracy: 0.8254 - auc_roc: 0.8893 - loss: 0.4780 - precision: 0.8485 - recall: 0.7907 - val_accuracy: 0.7750 - val_auc_roc: 0.9172 - val_loss: 0.5559 - val_precision: 0.7037 - val_recall: 0.9500 - learning_rate: 1.0000e-05\n",
      "Epoch 7/35\n",
      "\u001b[1m40/40\u001b[0m \u001b[32m━━━━━━━━━━━━━━━━━━━━\u001b[0m\u001b[37m\u001b[0m \u001b[1m0s\u001b[0m 632ms/step - accuracy: 0.8192 - auc_roc: 0.8740 - loss: 0.5191 - precision: 0.7997 - recall: 0.8585\n",
      "Epoch 7: ReduceLROnPlateau reducing learning rate to 1.9999999494757505e-06.\n",
      "\n",
      "Epoch 7: val_loss did not improve from 0.26964\n",
      "\u001b[1m40/40\u001b[0m \u001b[32m━━━━━━━━━━━━━━━━━━━━\u001b[0m\u001b[37m\u001b[0m \u001b[1m29s\u001b[0m 735ms/step - accuracy: 0.8186 - auc_roc: 0.8737 - loss: 0.5193 - precision: 0.7993 - recall: 0.8574 - val_accuracy: 0.7875 - val_auc_roc: 0.9456 - val_loss: 0.4211 - val_precision: 0.7170 - val_recall: 0.9500 - learning_rate: 1.0000e-05\n",
      "Epoch 8/35\n",
      "\u001b[1m40/40\u001b[0m \u001b[32m━━━━━━━━━━━━━━━━━━━━\u001b[0m\u001b[37m\u001b[0m \u001b[1m0s\u001b[0m 634ms/step - accuracy: 0.7811 - auc_roc: 0.9000 - loss: 0.4541 - precision: 0.8339 - recall: 0.7605\n",
      "Epoch 8: val_loss improved from 0.26964 to 0.26963, saving model to resnet50.h5\n"
     ]
    },
    {
     "name": "stderr",
     "output_type": "stream",
     "text": [
      "WARNING:absl:You are saving your model as an HDF5 file via `model.save()` or `keras.saving.save_model(model)`. This file format is considered legacy. We recommend using instead the native Keras format, e.g. `model.save('my_model.keras')` or `keras.saving.save_model(model, 'my_model.keras')`. \n"
     ]
    },
    {
     "name": "stdout",
     "output_type": "stream",
     "text": [
      "\u001b[1m40/40\u001b[0m \u001b[32m━━━━━━━━━━━━━━━━━━━━\u001b[0m\u001b[37m\u001b[0m \u001b[1m31s\u001b[0m 767ms/step - accuracy: 0.7814 - auc_roc: 0.8998 - loss: 0.4539 - precision: 0.8331 - recall: 0.7610 - val_accuracy: 0.9000 - val_auc_roc: 0.9547 - val_loss: 0.2696 - val_precision: 0.9000 - val_recall: 0.9000 - learning_rate: 2.0000e-06\n",
      "Epoch 9/35\n",
      "\u001b[1m40/40\u001b[0m \u001b[32m━━━━━━━━━━━━━━━━━━━━\u001b[0m\u001b[37m\u001b[0m \u001b[1m0s\u001b[0m 630ms/step - accuracy: 0.8409 - auc_roc: 0.9120 - loss: 0.3950 - precision: 0.8395 - recall: 0.8548\n",
      "Epoch 9: val_loss did not improve from 0.26963\n",
      "\u001b[1m40/40\u001b[0m \u001b[32m━━━━━━━━━━━━━━━━━━━━\u001b[0m\u001b[37m\u001b[0m \u001b[1m29s\u001b[0m 732ms/step - accuracy: 0.8403 - auc_roc: 0.9115 - loss: 0.3963 - precision: 0.8386 - recall: 0.8543 - val_accuracy: 0.7500 - val_auc_roc: 0.9744 - val_loss: 0.4712 - val_precision: 0.9545 - val_recall: 0.5250 - learning_rate: 2.0000e-06\n",
      "Epoch 10/35\n",
      "\u001b[1m40/40\u001b[0m \u001b[32m━━━━━━━━━━━━━━━━━━━━\u001b[0m\u001b[37m\u001b[0m \u001b[1m0s\u001b[0m 634ms/step - accuracy: 0.8137 - auc_roc: 0.8968 - loss: 0.4706 - precision: 0.8438 - recall: 0.7860\n",
      "Epoch 10: val_loss did not improve from 0.26963\n",
      "\u001b[1m40/40\u001b[0m \u001b[32m━━━━━━━━━━━━━━━━━━━━\u001b[0m\u001b[37m\u001b[0m \u001b[1m29s\u001b[0m 736ms/step - accuracy: 0.8138 - auc_roc: 0.8966 - loss: 0.4702 - precision: 0.8432 - recall: 0.7865 - val_accuracy: 0.7000 - val_auc_roc: 0.9813 - val_loss: 0.6015 - val_precision: 1.0000 - val_recall: 0.4000 - learning_rate: 2.0000e-06\n",
      "Epoch 11/35\n",
      "\u001b[1m40/40\u001b[0m \u001b[32m━━━━━━━━━━━━━━━━━━━━\u001b[0m\u001b[37m\u001b[0m \u001b[1m0s\u001b[0m 631ms/step - accuracy: 0.8138 - auc_roc: 0.9145 - loss: 0.3560 - precision: 0.8158 - recall: 0.8360\n",
      "Epoch 11: ReduceLROnPlateau reducing learning rate to 3.999999989900971e-07.\n",
      "\n",
      "Epoch 11: val_loss did not improve from 0.26963\n",
      "\u001b[1m40/40\u001b[0m \u001b[32m━━━━━━━━━━━━━━━━━━━━\u001b[0m\u001b[37m\u001b[0m \u001b[1m30s\u001b[0m 736ms/step - accuracy: 0.8143 - auc_roc: 0.9146 - loss: 0.3564 - precision: 0.8159 - recall: 0.8361 - val_accuracy: 0.7125 - val_auc_roc: 0.9731 - val_loss: 0.5877 - val_precision: 1.0000 - val_recall: 0.4250 - learning_rate: 2.0000e-06\n",
      "Epoch 12/35\n",
      "\u001b[1m40/40\u001b[0m \u001b[32m━━━━━━━━━━━━━━━━━━━━\u001b[0m\u001b[37m\u001b[0m \u001b[1m0s\u001b[0m 647ms/step - accuracy: 0.8389 - auc_roc: 0.9262 - loss: 0.3549 - precision: 0.8586 - recall: 0.8146\n",
      "Epoch 12: val_loss did not improve from 0.26963\n",
      "\u001b[1m40/40\u001b[0m \u001b[32m━━━━━━━━━━━━━━━━━━━━\u001b[0m\u001b[37m\u001b[0m \u001b[1m30s\u001b[0m 759ms/step - accuracy: 0.8389 - auc_roc: 0.9260 - loss: 0.3553 - precision: 0.8580 - recall: 0.8153 - val_accuracy: 0.7375 - val_auc_roc: 0.9744 - val_loss: 0.4153 - val_precision: 1.0000 - val_recall: 0.4750 - learning_rate: 4.0000e-07\n",
      "Epoch 13/35\n",
      "\u001b[1m40/40\u001b[0m \u001b[32m━━━━━━━━━━━━━━━━━━━━\u001b[0m\u001b[37m\u001b[0m \u001b[1m0s\u001b[0m 664ms/step - accuracy: 0.8358 - auc_roc: 0.9101 - loss: 0.3986 - precision: 0.8427 - recall: 0.8255\n",
      "Epoch 13: val_loss did not improve from 0.26963\n",
      "\u001b[1m40/40\u001b[0m \u001b[32m━━━━━━━━━━━━━━━━━━━━\u001b[0m\u001b[37m\u001b[0m \u001b[1m31s\u001b[0m 771ms/step - accuracy: 0.8354 - auc_roc: 0.9098 - loss: 0.3992 - precision: 0.8423 - recall: 0.8250 - val_accuracy: 0.7375 - val_auc_roc: 0.9731 - val_loss: 0.4323 - val_precision: 1.0000 - val_recall: 0.4750 - learning_rate: 4.0000e-07\n",
      "Epoch 14/35\n",
      "\u001b[1m40/40\u001b[0m \u001b[32m━━━━━━━━━━━━━━━━━━━━\u001b[0m\u001b[37m\u001b[0m \u001b[1m0s\u001b[0m 634ms/step - accuracy: 0.7842 - auc_roc: 0.8656 - loss: 0.5095 - precision: 0.7340 - recall: 0.7975\n",
      "Epoch 14: ReduceLROnPlateau reducing learning rate to 8.00000009348878e-08.\n",
      "\n",
      "Epoch 14: val_loss did not improve from 0.26963\n",
      "\u001b[1m40/40\u001b[0m \u001b[32m━━━━━━━━━━━━━━━━━━━━\u001b[0m\u001b[37m\u001b[0m \u001b[1m30s\u001b[0m 741ms/step - accuracy: 0.7851 - auc_roc: 0.8665 - loss: 0.5073 - precision: 0.7361 - recall: 0.7982 - val_accuracy: 0.8125 - val_auc_roc: 0.9838 - val_loss: 0.2940 - val_precision: 0.9630 - val_recall: 0.6500 - learning_rate: 4.0000e-07\n",
      "Epoch 15/35\n",
      "\u001b[1m40/40\u001b[0m \u001b[32m━━━━━━━━━━━━━━━━━━━━\u001b[0m\u001b[37m\u001b[0m \u001b[1m0s\u001b[0m 638ms/step - accuracy: 0.8433 - auc_roc: 0.8836 - loss: 0.5076 - precision: 0.8152 - recall: 0.8636\n",
      "Epoch 15: val_loss improved from 0.26963 to 0.25719, saving model to resnet50.h5\n"
     ]
    },
    {
     "name": "stderr",
     "output_type": "stream",
     "text": [
      "WARNING:absl:You are saving your model as an HDF5 file via `model.save()` or `keras.saving.save_model(model)`. This file format is considered legacy. We recommend using instead the native Keras format, e.g. `model.save('my_model.keras')` or `keras.saving.save_model(model, 'my_model.keras')`. \n"
     ]
    },
    {
     "name": "stdout",
     "output_type": "stream",
     "text": [
      "\u001b[1m40/40\u001b[0m \u001b[32m━━━━━━━━━━━━━━━━━━━━\u001b[0m\u001b[37m\u001b[0m \u001b[1m31s\u001b[0m 777ms/step - accuracy: 0.8423 - auc_roc: 0.8833 - loss: 0.5081 - precision: 0.8149 - recall: 0.8620 - val_accuracy: 0.8500 - val_auc_roc: 0.9844 - val_loss: 0.2572 - val_precision: 0.9667 - val_recall: 0.7250 - learning_rate: 8.0000e-08\n",
      "Epoch 16/35\n",
      "\u001b[1m40/40\u001b[0m \u001b[32m━━━━━━━━━━━━━━━━━━━━\u001b[0m\u001b[37m\u001b[0m \u001b[1m0s\u001b[0m 626ms/step - accuracy: 0.8487 - auc_roc: 0.9318 - loss: 0.3364 - precision: 0.8683 - recall: 0.8238\n",
      "Epoch 16: val_loss improved from 0.25719 to 0.22388, saving model to resnet50.h5\n"
     ]
    },
    {
     "name": "stderr",
     "output_type": "stream",
     "text": [
      "WARNING:absl:You are saving your model as an HDF5 file via `model.save()` or `keras.saving.save_model(model)`. This file format is considered legacy. We recommend using instead the native Keras format, e.g. `model.save('my_model.keras')` or `keras.saving.save_model(model, 'my_model.keras')`. \n"
     ]
    },
    {
     "name": "stdout",
     "output_type": "stream",
     "text": [
      "\u001b[1m40/40\u001b[0m \u001b[32m━━━━━━━━━━━━━━━━━━━━\u001b[0m\u001b[37m\u001b[0m \u001b[1m31s\u001b[0m 765ms/step - accuracy: 0.8484 - auc_roc: 0.9314 - loss: 0.3373 - precision: 0.8676 - recall: 0.8241 - val_accuracy: 0.8875 - val_auc_roc: 0.9872 - val_loss: 0.2239 - val_precision: 0.9697 - val_recall: 0.8000 - learning_rate: 8.0000e-08\n",
      "Epoch 17/35\n",
      "\u001b[1m40/40\u001b[0m \u001b[32m━━━━━━━━━━━━━━━━━━━━\u001b[0m\u001b[37m\u001b[0m \u001b[1m0s\u001b[0m 626ms/step - accuracy: 0.8093 - auc_roc: 0.8995 - loss: 0.4343 - precision: 0.7858 - recall: 0.8381\n",
      "Epoch 17: val_loss improved from 0.22388 to 0.22376, saving model to resnet50.h5\n"
     ]
    },
    {
     "name": "stderr",
     "output_type": "stream",
     "text": [
      "WARNING:absl:You are saving your model as an HDF5 file via `model.save()` or `keras.saving.save_model(model)`. This file format is considered legacy. We recommend using instead the native Keras format, e.g. `model.save('my_model.keras')` or `keras.saving.save_model(model, 'my_model.keras')`. \n"
     ]
    },
    {
     "name": "stdout",
     "output_type": "stream",
     "text": [
      "\u001b[1m40/40\u001b[0m \u001b[32m━━━━━━━━━━━━━━━━━━━━\u001b[0m\u001b[37m\u001b[0m \u001b[1m30s\u001b[0m 761ms/step - accuracy: 0.8095 - auc_roc: 0.8995 - loss: 0.4342 - precision: 0.7862 - recall: 0.8383 - val_accuracy: 0.8875 - val_auc_roc: 0.9878 - val_loss: 0.2238 - val_precision: 0.9697 - val_recall: 0.8000 - learning_rate: 8.0000e-08\n",
      "Epoch 18/35\n",
      "\u001b[1m40/40\u001b[0m \u001b[32m━━━━━━━━━━━━━━━━━━━━\u001b[0m\u001b[37m\u001b[0m \u001b[1m0s\u001b[0m 666ms/step - accuracy: 0.8618 - auc_roc: 0.9291 - loss: 0.3459 - precision: 0.8471 - recall: 0.8842\n",
      "Epoch 18: val_loss improved from 0.22376 to 0.21195, saving model to resnet50.h5\n"
     ]
    },
    {
     "name": "stderr",
     "output_type": "stream",
     "text": [
      "WARNING:absl:You are saving your model as an HDF5 file via `model.save()` or `keras.saving.save_model(model)`. This file format is considered legacy. We recommend using instead the native Keras format, e.g. `model.save('my_model.keras')` or `keras.saving.save_model(model, 'my_model.keras')`. \n"
     ]
    },
    {
     "name": "stdout",
     "output_type": "stream",
     "text": [
      "\u001b[1m40/40\u001b[0m \u001b[32m━━━━━━━━━━━━━━━━━━━━\u001b[0m\u001b[37m\u001b[0m \u001b[1m32s\u001b[0m 809ms/step - accuracy: 0.8614 - auc_roc: 0.9288 - loss: 0.3466 - precision: 0.8466 - recall: 0.8842 - val_accuracy: 0.9000 - val_auc_roc: 0.9887 - val_loss: 0.2120 - val_precision: 1.0000 - val_recall: 0.8000 - learning_rate: 8.0000e-08\n",
      "Epoch 19/35\n",
      "\u001b[1m40/40\u001b[0m \u001b[32m━━━━━━━━━━━━━━━━━━━━\u001b[0m\u001b[37m\u001b[0m \u001b[1m0s\u001b[0m 660ms/step - accuracy: 0.8365 - auc_roc: 0.8855 - loss: 0.4835 - precision: 0.8522 - recall: 0.8459\n",
      "Epoch 19: val_loss improved from 0.21195 to 0.19775, saving model to resnet50.h5\n"
     ]
    },
    {
     "name": "stderr",
     "output_type": "stream",
     "text": [
      "WARNING:absl:You are saving your model as an HDF5 file via `model.save()` or `keras.saving.save_model(model)`. This file format is considered legacy. We recommend using instead the native Keras format, e.g. `model.save('my_model.keras')` or `keras.saving.save_model(model, 'my_model.keras')`. \n"
     ]
    },
    {
     "name": "stdout",
     "output_type": "stream",
     "text": [
      "\u001b[1m40/40\u001b[0m \u001b[32m━━━━━━━━━━━━━━━━━━━━\u001b[0m\u001b[37m\u001b[0m \u001b[1m32s\u001b[0m 803ms/step - accuracy: 0.8360 - auc_roc: 0.8853 - loss: 0.4837 - precision: 0.8511 - recall: 0.8455 - val_accuracy: 0.9000 - val_auc_roc: 0.9888 - val_loss: 0.1977 - val_precision: 0.9706 - val_recall: 0.8250 - learning_rate: 8.0000e-08\n",
      "Epoch 20/35\n",
      "\u001b[1m40/40\u001b[0m \u001b[32m━━━━━━━━━━━━━━━━━━━━\u001b[0m\u001b[37m\u001b[0m \u001b[1m0s\u001b[0m 668ms/step - accuracy: 0.8184 - auc_roc: 0.8748 - loss: 0.5263 - precision: 0.7906 - recall: 0.8648\n",
      "Epoch 20: val_loss improved from 0.19775 to 0.19137, saving model to resnet50.h5\n"
     ]
    },
    {
     "name": "stderr",
     "output_type": "stream",
     "text": [
      "WARNING:absl:You are saving your model as an HDF5 file via `model.save()` or `keras.saving.save_model(model)`. This file format is considered legacy. We recommend using instead the native Keras format, e.g. `model.save('my_model.keras')` or `keras.saving.save_model(model, 'my_model.keras')`. \n"
     ]
    },
    {
     "name": "stdout",
     "output_type": "stream",
     "text": [
      "\u001b[1m40/40\u001b[0m \u001b[32m━━━━━━━━━━━━━━━━━━━━\u001b[0m\u001b[37m\u001b[0m \u001b[1m32s\u001b[0m 800ms/step - accuracy: 0.8189 - auc_roc: 0.8755 - loss: 0.5235 - precision: 0.7910 - recall: 0.8654 - val_accuracy: 0.9000 - val_auc_roc: 0.9881 - val_loss: 0.1914 - val_precision: 0.9444 - val_recall: 0.8500 - learning_rate: 8.0000e-08\n",
      "Epoch 21/35\n",
      "\u001b[1m40/40\u001b[0m \u001b[32m━━━━━━━━━━━━━━━━━━━━\u001b[0m\u001b[37m\u001b[0m \u001b[1m0s\u001b[0m 679ms/step - accuracy: 0.8493 - auc_roc: 0.9181 - loss: 0.3802 - precision: 0.8685 - recall: 0.8232\n",
      "Epoch 21: val_loss improved from 0.19137 to 0.18036, saving model to resnet50.h5\n"
     ]
    },
    {
     "name": "stderr",
     "output_type": "stream",
     "text": [
      "WARNING:absl:You are saving your model as an HDF5 file via `model.save()` or `keras.saving.save_model(model)`. This file format is considered legacy. We recommend using instead the native Keras format, e.g. `model.save('my_model.keras')` or `keras.saving.save_model(model, 'my_model.keras')`. \n"
     ]
    },
    {
     "name": "stdout",
     "output_type": "stream",
     "text": [
      "\u001b[1m40/40\u001b[0m \u001b[32m━━━━━━━━━━━━━━━━━━━━\u001b[0m\u001b[37m\u001b[0m \u001b[1m33s\u001b[0m 826ms/step - accuracy: 0.8489 - auc_roc: 0.9179 - loss: 0.3803 - precision: 0.8677 - recall: 0.8232 - val_accuracy: 0.9250 - val_auc_roc: 0.9897 - val_loss: 0.1804 - val_precision: 0.9474 - val_recall: 0.9000 - learning_rate: 8.0000e-08\n",
      "Epoch 22/35\n",
      "\u001b[1m40/40\u001b[0m \u001b[32m━━━━━━━━━━━━━━━━━━━━\u001b[0m\u001b[37m\u001b[0m \u001b[1m0s\u001b[0m 671ms/step - accuracy: 0.8463 - auc_roc: 0.9151 - loss: 0.3866 - precision: 0.8236 - recall: 0.8949\n",
      "Epoch 22: val_loss did not improve from 0.18036\n",
      "\u001b[1m40/40\u001b[0m \u001b[32m━━━━━━━━━━━━━━━━━━━━\u001b[0m\u001b[37m\u001b[0m \u001b[1m31s\u001b[0m 779ms/step - accuracy: 0.8457 - auc_roc: 0.9148 - loss: 0.3874 - precision: 0.8227 - recall: 0.8945 - val_accuracy: 0.9250 - val_auc_roc: 0.9894 - val_loss: 0.1856 - val_precision: 0.9722 - val_recall: 0.8750 - learning_rate: 8.0000e-08\n",
      "Epoch 23/35\n",
      "\u001b[1m40/40\u001b[0m \u001b[32m━━━━━━━━━━━━━━━━━━━━\u001b[0m\u001b[37m\u001b[0m \u001b[1m0s\u001b[0m 676ms/step - accuracy: 0.8580 - auc_roc: 0.9489 - loss: 0.2877 - precision: 0.8495 - recall: 0.8731\n",
      "Epoch 23: val_loss did not improve from 0.18036\n",
      "\u001b[1m40/40\u001b[0m \u001b[32m━━━━━━━━━━━━━━━━━━━━\u001b[0m\u001b[37m\u001b[0m \u001b[1m32s\u001b[0m 788ms/step - accuracy: 0.8577 - auc_roc: 0.9484 - loss: 0.2890 - precision: 0.8492 - recall: 0.8729 - val_accuracy: 0.9125 - val_auc_roc: 0.9884 - val_loss: 0.1848 - val_precision: 0.9459 - val_recall: 0.8750 - learning_rate: 8.0000e-08\n",
      "Epoch 24/35\n",
      "\u001b[1m40/40\u001b[0m \u001b[32m━━━━━━━━━━━━━━━━━━━━\u001b[0m\u001b[37m\u001b[0m \u001b[1m0s\u001b[0m 684ms/step - accuracy: 0.8274 - auc_roc: 0.9145 - loss: 0.3678 - precision: 0.8094 - recall: 0.8598\n",
      "Epoch 24: ReduceLROnPlateau reducing learning rate to 1.5999999902760466e-08.\n",
      "\n",
      "Epoch 24: val_loss did not improve from 0.18036\n",
      "\u001b[1m40/40\u001b[0m \u001b[32m━━━━━━━━━━━━━━━━━━━━\u001b[0m\u001b[37m\u001b[0m \u001b[1m32s\u001b[0m 793ms/step - accuracy: 0.8274 - auc_roc: 0.9142 - loss: 0.3688 - precision: 0.8092 - recall: 0.8599 - val_accuracy: 0.9125 - val_auc_roc: 0.9881 - val_loss: 0.1888 - val_precision: 0.9459 - val_recall: 0.8750 - learning_rate: 8.0000e-08\n",
      "Epoch 25/35\n",
      "\u001b[1m40/40\u001b[0m \u001b[32m━━━━━━━━━━━━━━━━━━━━\u001b[0m\u001b[37m\u001b[0m \u001b[1m0s\u001b[0m 688ms/step - accuracy: 0.8256 - auc_roc: 0.9126 - loss: 0.4078 - precision: 0.8256 - recall: 0.8379\n",
      "Epoch 25: val_loss did not improve from 0.18036\n",
      "\u001b[1m40/40\u001b[0m \u001b[32m━━━━━━━━━━━━━━━━━━━━\u001b[0m\u001b[37m\u001b[0m \u001b[1m32s\u001b[0m 795ms/step - accuracy: 0.8248 - auc_roc: 0.9115 - loss: 0.4100 - precision: 0.8247 - recall: 0.8370 - val_accuracy: 0.9250 - val_auc_roc: 0.9900 - val_loss: 0.1852 - val_precision: 0.9722 - val_recall: 0.8750 - learning_rate: 1.6000e-08\n",
      "Epoch 26/35\n",
      "\u001b[1m40/40\u001b[0m \u001b[32m━━━━━━━━━━━━━━━━━━━━\u001b[0m\u001b[37m\u001b[0m \u001b[1m0s\u001b[0m 672ms/step - accuracy: 0.8074 - auc_roc: 0.9213 - loss: 0.3610 - precision: 0.7997 - recall: 0.8288\n",
      "Epoch 26: val_loss did not improve from 0.18036\n",
      "\u001b[1m40/40\u001b[0m \u001b[32m━━━━━━━━━━━━━━━━━━━━\u001b[0m\u001b[37m\u001b[0m \u001b[1m31s\u001b[0m 777ms/step - accuracy: 0.8075 - auc_roc: 0.9212 - loss: 0.3611 - precision: 0.7994 - recall: 0.8294 - val_accuracy: 0.9250 - val_auc_roc: 0.9900 - val_loss: 0.1847 - val_precision: 0.9722 - val_recall: 0.8750 - learning_rate: 1.6000e-08\n",
      "Epoch 27/35\n",
      "\u001b[1m40/40\u001b[0m \u001b[32m━━━━━━━━━━━━━━━━━━━━\u001b[0m\u001b[37m\u001b[0m \u001b[1m0s\u001b[0m 664ms/step - accuracy: 0.7953 - auc_roc: 0.8942 - loss: 0.4276 - precision: 0.7717 - recall: 0.8134\n",
      "Epoch 27: ReduceLROnPlateau reducing learning rate to 3.1999999094978194e-09.\n",
      "\n",
      "Epoch 27: val_loss did not improve from 0.18036\n",
      "\u001b[1m40/40\u001b[0m \u001b[32m━━━━━━━━━━━━━━━━━━━━\u001b[0m\u001b[37m\u001b[0m \u001b[1m31s\u001b[0m 778ms/step - accuracy: 0.7959 - auc_roc: 0.8945 - loss: 0.4270 - precision: 0.7728 - recall: 0.8135 - val_accuracy: 0.9375 - val_auc_roc: 0.9903 - val_loss: 0.1824 - val_precision: 0.9730 - val_recall: 0.9000 - learning_rate: 1.6000e-08\n",
      "Epoch 28/35\n",
      "\u001b[1m40/40\u001b[0m \u001b[32m━━━━━━━━━━━━━━━━━━━━\u001b[0m\u001b[37m\u001b[0m \u001b[1m0s\u001b[0m 679ms/step - accuracy: 0.8457 - auc_roc: 0.9296 - loss: 0.3495 - precision: 0.8231 - recall: 0.8781\n",
      "Epoch 28: val_loss did not improve from 0.18036\n",
      "\u001b[1m40/40\u001b[0m \u001b[32m━━━━━━━━━━━━━━━━━━━━\u001b[0m\u001b[37m\u001b[0m \u001b[1m32s\u001b[0m 786ms/step - accuracy: 0.8451 - auc_roc: 0.9290 - loss: 0.3511 - precision: 0.8228 - recall: 0.8770 - val_accuracy: 0.9375 - val_auc_roc: 0.9906 - val_loss: 0.1809 - val_precision: 0.9730 - val_recall: 0.9000 - learning_rate: 3.2000e-09\n"
     ]
    }
   ],
   "source": [
    "# Fine-tune training\n",
    "history_finetune = model.fit(\n",
    "    train_gen,\n",
    "    validation_data=val_gen,\n",
    "    epochs=35,\n",
    "    callbacks=callbacks\n",
    ")"
   ]
  },
  {
   "cell_type": "code",
   "execution_count": 19,
   "id": "b6e23a9d",
   "metadata": {},
   "outputs": [
    {
     "name": "stdout",
     "output_type": "stream",
     "text": [
      "\u001b[1m10/10\u001b[0m \u001b[32m━━━━━━━━━━━━━━━━━━━━\u001b[0m\u001b[37m\u001b[0m \u001b[1m4s\u001b[0m 416ms/step - accuracy: 0.9076 - auc_roc: 0.5393 - loss: 0.1436 - precision: 0.4904 - recall: 0.4818       \n",
      "loss: 0.1804\n",
      "compile_metrics: 0.9250\n"
     ]
    }
   ],
   "source": [
    "# Evaluate on validation set\n",
    "results = model.evaluate(val_gen)\n",
    "for name, value in zip(model.metrics_names, results):\n",
    "    print(f\"{name}: {value:.4f}\")"
   ]
  },
  {
   "cell_type": "code",
   "execution_count": 20,
   "id": "d6816e95",
   "metadata": {},
   "outputs": [
    {
     "data": {
      "image/png": "[encoded data removed]",
      "text/plain": [
       "<Figure size 1200x400 with 2 Axes>"
      ]
     },
     "metadata": {},
     "output_type": "display_data"
    }
   ],
   "source": [
    "import matplotlib.pyplot as plt\n",
    "\n",
    "# Plotting training & validation accuracy and loss values\n",
    "plt.figure(figsize=(12, 4))\n",
    "\n",
    "# Accuracy plot\n",
    "plt.subplot(1, 2, 1)\n",
    "plt.plot(history_finetune.history['accuracy'], label='Training Accuracy')\n",
    "plt.plot(history_finetune.history['val_accuracy'], label='Validation Accuracy')\n",
    "plt.title('Accuracy (ResNet50)')\n",
    "plt.xlabel('Epoch')\n",
    "plt.ylabel('Accuracy')\n",
    "plt.legend()\n",
    "\n",
    "# Loss plot\n",
    "plt.subplot(1, 2, 2)\n",
    "plt.plot(history_finetune.history['loss'], label='Training Loss')\n",
    "plt.plot(history_finetune.history['val_loss'], label='Validation Loss')\n",
    "plt.title('Loss (ResNet50)')\n",
    "plt.xlabel('Epoch')\n",
    "plt.ylabel('Loss')\n",
    "plt.legend()\n",
    "\n",
    "plt.tight_layout()\n",
    "plt.show()\n"
   ]
  },
  {
   "cell_type": "code",
   "execution_count": 21,
   "id": "f6f4d09b",
   "metadata": {},
   "outputs": [
    {
     "name": "stdout",
     "output_type": "stream",
     "text": [
      "\u001b[1m10/10\u001b[0m \u001b[32m━━━━━━━━━━━━━━━━━━━━\u001b[0m\u001b[37m\u001b[0m \u001b[1m6s\u001b[0m 417ms/step\n",
      "              precision    recall  f1-score   support\n",
      "\n",
      "      female       0.90      0.95      0.93        40\n",
      "        male       0.95      0.90      0.92        40\n",
      "\n",
      "    accuracy                           0.93        80\n",
      "   macro avg       0.93      0.93      0.92        80\n",
      "weighted avg       0.93      0.93      0.92        80\n",
      "\n"
     ]
    },
    {
     "data": {
      "image/png": "[encoded data removed]",
      "text/plain": [
       "<Figure size 640x480 with 2 Axes>"
      ]
     },
     "metadata": {},
     "output_type": "display_data"
    }
   ],
   "source": [
    "import numpy as np\n",
    "from sklearn.metrics import classification_report, confusion_matrix\n",
    "import matplotlib.pyplot as plt\n",
    "import seaborn as sns\n",
    "\n",
    "# Predict\n",
    "y_pred_probs = model.predict(val_gen)\n",
    "y_pred = (y_pred_probs > 0.5).astype(int)\n",
    "y_true = val_gen.classes\n",
    "\n",
    "# Report\n",
    "print(classification_report(y_true, y_pred, target_names=['female', 'male']))\n",
    "\n",
    "# Confusion Matrix\n",
    "cm = confusion_matrix(y_true, y_pred)\n",
    "disp = ConfusionMatrixDisplay(confusion_matrix=cm, display_labels=['female', 'male'])\n",
    "disp.plot(cmap=plt.cm.Blues)\n",
    "plt.title('Confusion Matrix (ResNet50)')\n",
    "plt.show()"
   ]
  },
  {
   "cell_type": "code",
   "execution_count": 22,
   "id": "6e38b490",
   "metadata": {},
   "outputs": [
    {
     "name": "stdout",
     "output_type": "stream",
     "text": [
      "AUC-ROC Score: 0.9900\n"
     ]
    }
   ],
   "source": [
    "# 5. AUC-ROC\n",
    "\n",
    "from sklearn.metrics import roc_auc_score, roc_curve, auc, ConfusionMatrixDisplay\n",
    "\n",
    "\n",
    "auc_score = roc_auc_score(y_true, y_pred_probs)\n",
    "print(f\"AUC-ROC Score: {auc_score:.4f}\")"
   ]
  },
  {
   "cell_type": "code",
   "execution_count": 23,
   "id": "95a72cda",
   "metadata": {},
   "outputs": [
    {
     "data": {
      "image/png": "[encoded data removed]",
      "text/plain": [
       "<Figure size 800x600 with 1 Axes>"
      ]
     },
     "metadata": {},
     "output_type": "display_data"
    }
   ],
   "source": [
    "# Compute ROC curve and AUC\n",
    "fpr, tpr, thresholds = roc_curve(y_true, y_pred_probs)\n",
    "roc_auc = auc(fpr, tpr)\n",
    "\n",
    "# Plotting the ROC curve\n",
    "plt.figure(figsize=(8, 6))\n",
    "plt.plot(fpr, tpr, color='darkorange', lw=2, label=f'AUC = {roc_auc:.4f}')\n",
    "plt.plot([0, 1], [0, 1], color='navy', lw=2, linestyle='--')\n",
    "plt.xlim([0.0, 1.0])\n",
    "plt.ylim([0.0, 1.05])\n",
    "plt.xlabel('False Positive Rate')\n",
    "plt.ylabel('True Positive Rate')\n",
    "plt.title('ROC Curve (ResNet50)')\n",
    "plt.legend(loc=\"lower right\")\n",
    "plt.grid(True)\n",
    "plt.show()"
   ]
  },
  {
   "cell_type": "code",
   "execution_count": 24,
   "id": "6a8ad30f",
   "metadata": {},
   "outputs": [
    {
     "data": {
      "image/png": "[encoded data removed]",
      "text/plain": [
       "<Figure size 800x600 with 1 Axes>"
      ]
     },
     "metadata": {},
     "output_type": "display_data"
    }
   ],
   "source": [
    "import matplotlib.pyplot as plt\n",
    "from sklearn.metrics import precision_recall_curve, average_precision_score\n",
    "\n",
    "# Compute precision-recall pairs and average precision\n",
    "precision, recall, thresholds = precision_recall_curve(y_true, y_pred_probs)\n",
    "ap_score = average_precision_score(y_true, y_pred_probs)\n",
    "\n",
    "# Plot Precision-Recall Curve with AP score\n",
    "plt.figure(figsize=(8, 6))\n",
    "plt.plot(recall, precision, color='b', linewidth=2, label=f'AP = {ap_score:.2f}')\n",
    "plt.xlabel('Recall')\n",
    "plt.ylabel('Precision')\n",
    "plt.title('Precision-Recall Curve (ResNet50)')\n",
    "plt.grid(True)\n",
    "plt.legend()\n",
    "plt.show()\n"
   ]
  }
 ],
 "metadata": {
  "kernelspec": {
   "display_name": "myenv",
   "language": "python",
   "name": "python3"
  },
  "language_info": {
   "codemirror_mode": {
    "name": "ipython",
    "version": 3
   },
   "file_extension": ".py",
   "mimetype": "text/x-python",
   "name": "python",
   "nbconvert_exporter": "python",
   "pygments_lexer": "ipython3",
   "version": "3.11.9"
  }
 },
 "nbformat": 4,
 "nbformat_minor": 5
}
