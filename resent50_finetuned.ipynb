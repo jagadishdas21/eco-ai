{
 "cells": [
  {
   "cell_type": "code",
   "execution_count": 76,
   "id": "a3afbb66",
   "metadata": {},
   "outputs": [],
   "source": [
    "import tensorflow as tf\n",
    "from tensorflow.keras.preprocessing.image import ImageDataGenerator\n",
    "from tensorflow.keras.applications import ResNet50\n",
    "from tensorflow.keras.models import Model\n",
    "from tensorflow.keras.layers import Dense, GlobalAveragePooling2D, Dropout, BatchNormalization\n",
    "from tensorflow.keras.callbacks import EarlyStopping, ReduceLROnPlateau, ModelCheckpoint\n"
   ]
  },
  {
   "cell_type": "code",
   "execution_count": 77,
   "id": "97817356",
   "metadata": {},
   "outputs": [],
   "source": [
    "# Set paths\n",
    "train_dir = 'split-data/train'\n",
    "val_dir = 'split-data/val' "
   ]
  },
  {
   "cell_type": "code",
   "execution_count": 78,
   "id": "e6910305",
   "metadata": {},
   "outputs": [],
   "source": [
    "# Image parameters\n",
    "img_size = 256\n",
    "batch_size = 8\n",
    "num_classes = 1\n"
   ]
  },
  {
   "cell_type": "code",
   "execution_count": 79,
   "id": "9cea9769",
   "metadata": {},
   "outputs": [],
   "source": [
    "# Data Augmentation\n",
    "train_datagen = ImageDataGenerator(\n",
    "    rescale=1./255,\n",
    "    rotation_range=20,\n",
    "    width_shift_range=0.2,\n",
    "    height_shift_range=0.2,\n",
    "    horizontal_flip=True,\n",
    "    zoom_range=0.2,\n",
    "    shear_range=0.1,\n",
    "    fill_mode='nearest'\n",
    ")"
   ]
  },
  {
   "cell_type": "code",
   "execution_count": 80,
   "id": "e1249475",
   "metadata": {},
   "outputs": [],
   "source": [
    "val_datagen = ImageDataGenerator(rescale=1./255)"
   ]
  },
  {
   "cell_type": "code",
   "execution_count": 81,
   "id": "60c70dde",
   "metadata": {},
   "outputs": [
    {
     "name": "stdout",
     "output_type": "stream",
     "text": [
      "Found 320 images belonging to 2 classes.\n"
     ]
    }
   ],
   "source": [
    "train_gen = train_datagen.flow_from_directory(\n",
    "    train_dir,\n",
    "    target_size=(img_size, img_size),\n",
    "    batch_size=batch_size,\n",
    "    class_mode='binary'\n",
    ")"
   ]
  },
  {
   "cell_type": "code",
   "execution_count": 82,
   "id": "801b275b",
   "metadata": {},
   "outputs": [
    {
     "name": "stdout",
     "output_type": "stream",
     "text": [
      "Found 80 images belonging to 2 classes.\n"
     ]
    }
   ],
   "source": [
    "val_gen = val_datagen.flow_from_directory(\n",
    "    val_dir,\n",
    "    target_size=(img_size, img_size),\n",
    "    batch_size=batch_size,\n",
    "    class_mode='binary',\n",
    "    shuffle=False\n",
    ")"
   ]
  },
  {
   "cell_type": "code",
   "execution_count": 83,
   "id": "80fe1572",
   "metadata": {},
   "outputs": [],
   "source": [
    "# Build the model\n",
    "base_model = ResNet50(include_top=False, weights='imagenet', input_shape=(img_size, img_size, 3))\n",
    "base_model.trainable = False"
   ]
  },
  {
   "cell_type": "code",
   "execution_count": 84,
   "id": "babb2662",
   "metadata": {},
   "outputs": [],
   "source": [
    "x = base_model.output\n",
    "x = GlobalAveragePooling2D()(x)\n",
    "x = BatchNormalization()(x)\n",
    "x = Dropout(0.5)(x)\n",
    "x = Dense(256, activation='gelu')(x)\n",
    "x = Dropout(0.4)(x)\n",
    "preds = Dense(1, activation='sigmoid')(x)"
   ]
  },
  {
   "cell_type": "code",
   "execution_count": 85,
   "id": "7b58e7c9",
   "metadata": {},
   "outputs": [],
   "source": [
    "model = Model(inputs=base_model.input, outputs=preds)"
   ]
  },
  {
   "cell_type": "code",
   "execution_count": 86,
   "id": "7e958458",
   "metadata": {},
   "outputs": [
    {
     "data": {
      "text/plain": [
       "<bound method Model.summary of <Functional name=functional_3, built=True>>"
      ]
     },
     "execution_count": 86,
     "metadata": {},
     "output_type": "execute_result"
    }
   ],
   "source": [
    "model.summary"
   ]
  },
  {
   "cell_type": "code",
   "execution_count": 87,
   "id": "8e211b9d",
   "metadata": {},
   "outputs": [],
   "source": [
    "from tensorflow.keras.metrics import AUC, Precision, Recall\n",
    "\n",
    "# Compile with additional metrics\n",
    "model.compile(\n",
    "    optimizer=tf.keras.optimizers.Adam(learning_rate=1e-4),\n",
    "    loss='binary_crossentropy',\n",
    "    metrics=[\n",
    "        'accuracy',\n",
    "        Precision(name='precision'),\n",
    "        Recall(name='recall'),\n",
    "        AUC(name='auc_roc')\n",
    "    ]\n",
    ")"
   ]
  },
  {
   "cell_type": "code",
   "execution_count": 88,
   "id": "f04eb7fa",
   "metadata": {},
   "outputs": [],
   "source": [
    "# Callbacks\n",
    "callbacks = [\n",
    "    EarlyStopping(monitor='val_loss', patience=7, restore_best_weights=True),\n",
    "    ReduceLROnPlateau(monitor='val_loss', factor=0.1, patience=3, verbose=1),\n",
    "    ModelCheckpoint('best_model.h5', monitor='val_loss', save_best_only=True, verbose=1)\n",
    "]"
   ]
  },
  {
   "cell_type": "code",
   "execution_count": 89,
   "id": "a07e0066",
   "metadata": {},
   "outputs": [
    {
     "name": "stderr",
     "output_type": "stream",
     "text": [
      "d:\\Dissertation-Project\\Projects\\code\\myenv\\Lib\\site-packages\\keras\\src\\trainers\\data_adapters\\py_dataset_adapter.py:121: UserWarning: Your `PyDataset` class should call `super().__init__(**kwargs)` in its constructor. `**kwargs` can include `workers`, `use_multiprocessing`, `max_queue_size`. Do not pass these arguments to `fit()`, as they will be ignored.\n",
      "  self._warn_if_super_not_called()\n"
     ]
    },
    {
     "name": "stdout",
     "output_type": "stream",
     "text": [
      "Epoch 1/50\n",
      "\u001b[1m40/40\u001b[0m \u001b[32m━━━━━━━━━━━━━━━━━━━━\u001b[0m\u001b[37m\u001b[0m \u001b[1m0s\u001b[0m 470ms/step - accuracy: 0.6483 - auc_roc: 0.7269 - loss: 0.6213 - precision: 0.6748 - recall: 0.6311\n",
      "Epoch 1: val_loss improved from inf to 1.39313, saving model to best_model.h5\n"
     ]
    },
    {
     "name": "stderr",
     "output_type": "stream",
     "text": [
      "WARNING:absl:You are saving your model as an HDF5 file via `model.save()` or `keras.saving.save_model(model)`. This file format is considered legacy. We recommend using instead the native Keras format, e.g. `model.save('my_model.keras')` or `keras.saving.save_model(model, 'my_model.keras')`. \n"
     ]
    },
    {
     "name": "stdout",
     "output_type": "stream",
     "text": [
      "\u001b[1m40/40\u001b[0m \u001b[32m━━━━━━━━━━━━━━━━━━━━\u001b[0m\u001b[37m\u001b[0m \u001b[1m38s\u001b[0m 665ms/step - accuracy: 0.6493 - auc_roc: 0.7276 - loss: 0.6203 - precision: 0.6747 - recall: 0.6339 - val_accuracy: 0.5000 - val_auc_roc: 0.8700 - val_loss: 1.3931 - val_precision: 0.0000e+00 - val_recall: 0.0000e+00 - learning_rate: 1.0000e-04\n",
      "Epoch 2/50\n",
      "\u001b[1m40/40\u001b[0m \u001b[32m━━━━━━━━━━━━━━━━━━━━\u001b[0m\u001b[37m\u001b[0m \u001b[1m0s\u001b[0m 459ms/step - accuracy: 0.7311 - auc_roc: 0.7764 - loss: 0.5487 - precision: 0.6567 - recall: 0.9276\n",
      "Epoch 2: val_loss improved from 1.39313 to 1.26436, saving model to best_model.h5\n"
     ]
    },
    {
     "name": "stderr",
     "output_type": "stream",
     "text": [
      "WARNING:absl:You are saving your model as an HDF5 file via `model.save()` or `keras.saving.save_model(model)`. This file format is considered legacy. We recommend using instead the native Keras format, e.g. `model.save('my_model.keras')` or `keras.saving.save_model(model, 'my_model.keras')`. \n"
     ]
    },
    {
     "name": "stdout",
     "output_type": "stream",
     "text": [
      "\u001b[1m40/40\u001b[0m \u001b[32m━━━━━━━━━━━━━━━━━━━━\u001b[0m\u001b[37m\u001b[0m \u001b[1m24s\u001b[0m 599ms/step - accuracy: 0.7313 - auc_roc: 0.7764 - loss: 0.5486 - precision: 0.6574 - recall: 0.9265 - val_accuracy: 0.5000 - val_auc_roc: 0.8669 - val_loss: 1.2644 - val_precision: 0.0000e+00 - val_recall: 0.0000e+00 - learning_rate: 1.0000e-04\n",
      "Epoch 3/50\n",
      "\u001b[1m40/40\u001b[0m \u001b[32m━━━━━━━━━━━━━━━━━━━━\u001b[0m\u001b[37m\u001b[0m \u001b[1m0s\u001b[0m 463ms/step - accuracy: 0.7219 - auc_roc: 0.8171 - loss: 0.5278 - precision: 0.6476 - recall: 0.8989\n",
      "Epoch 3: val_loss improved from 1.26436 to 1.11442, saving model to best_model.h5\n"
     ]
    },
    {
     "name": "stderr",
     "output_type": "stream",
     "text": [
      "WARNING:absl:You are saving your model as an HDF5 file via `model.save()` or `keras.saving.save_model(model)`. This file format is considered legacy. We recommend using instead the native Keras format, e.g. `model.save('my_model.keras')` or `keras.saving.save_model(model, 'my_model.keras')`. \n"
     ]
    },
    {
     "name": "stdout",
     "output_type": "stream",
     "text": [
      "\u001b[1m40/40\u001b[0m \u001b[32m━━━━━━━━━━━━━━━━━━━━\u001b[0m\u001b[37m\u001b[0m \u001b[1m23s\u001b[0m 584ms/step - accuracy: 0.7217 - auc_roc: 0.8164 - loss: 0.5282 - precision: 0.6481 - recall: 0.8975 - val_accuracy: 0.5000 - val_auc_roc: 0.8828 - val_loss: 1.1144 - val_precision: 0.0000e+00 - val_recall: 0.0000e+00 - learning_rate: 1.0000e-04\n",
      "Epoch 4/50\n",
      "\u001b[1m40/40\u001b[0m \u001b[32m━━━━━━━━━━━━━━━━━━━━\u001b[0m\u001b[37m\u001b[0m \u001b[1m0s\u001b[0m 449ms/step - accuracy: 0.7171 - auc_roc: 0.7622 - loss: 0.5589 - precision: 0.6338 - recall: 0.8780\n",
      "Epoch 4: val_loss improved from 1.11442 to 0.94678, saving model to best_model.h5\n"
     ]
    },
    {
     "name": "stderr",
     "output_type": "stream",
     "text": [
      "WARNING:absl:You are saving your model as an HDF5 file via `model.save()` or `keras.saving.save_model(model)`. This file format is considered legacy. We recommend using instead the native Keras format, e.g. `model.save('my_model.keras')` or `keras.saving.save_model(model, 'my_model.keras')`. \n"
     ]
    },
    {
     "name": "stdout",
     "output_type": "stream",
     "text": [
      "\u001b[1m40/40\u001b[0m \u001b[32m━━━━━━━━━━━━━━━━━━━━\u001b[0m\u001b[37m\u001b[0m \u001b[1m23s\u001b[0m 578ms/step - accuracy: 0.7177 - auc_roc: 0.7625 - loss: 0.5583 - precision: 0.6351 - recall: 0.8781 - val_accuracy: 0.5000 - val_auc_roc: 0.8947 - val_loss: 0.9468 - val_precision: 0.0000e+00 - val_recall: 0.0000e+00 - learning_rate: 1.0000e-04\n",
      "Epoch 5/50\n",
      "\u001b[1m40/40\u001b[0m \u001b[32m━━━━━━━━━━━━━━━━━━━━\u001b[0m\u001b[37m\u001b[0m \u001b[1m0s\u001b[0m 441ms/step - accuracy: 0.7112 - auc_roc: 0.8350 - loss: 0.5171 - precision: 0.6305 - recall: 0.8675\n",
      "Epoch 5: val_loss improved from 0.94678 to 0.83242, saving model to best_model.h5\n"
     ]
    },
    {
     "name": "stderr",
     "output_type": "stream",
     "text": [
      "WARNING:absl:You are saving your model as an HDF5 file via `model.save()` or `keras.saving.save_model(model)`. This file format is considered legacy. We recommend using instead the native Keras format, e.g. `model.save('my_model.keras')` or `keras.saving.save_model(model, 'my_model.keras')`. \n"
     ]
    },
    {
     "name": "stdout",
     "output_type": "stream",
     "text": [
      "\u001b[1m40/40\u001b[0m \u001b[32m━━━━━━━━━━━━━━━━━━━━\u001b[0m\u001b[37m\u001b[0m \u001b[1m23s\u001b[0m 563ms/step - accuracy: 0.7115 - auc_roc: 0.8343 - loss: 0.5171 - precision: 0.6316 - recall: 0.8671 - val_accuracy: 0.5000 - val_auc_roc: 0.8956 - val_loss: 0.8324 - val_precision: 0.0000e+00 - val_recall: 0.0000e+00 - learning_rate: 1.0000e-04\n",
      "Epoch 6/50\n",
      "\u001b[1m40/40\u001b[0m \u001b[32m━━━━━━━━━━━━━━━━━━━━\u001b[0m\u001b[37m\u001b[0m \u001b[1m0s\u001b[0m 434ms/step - accuracy: 0.7295 - auc_roc: 0.7601 - loss: 0.5389 - precision: 0.6592 - recall: 0.8594\n",
      "Epoch 6: val_loss improved from 0.83242 to 0.73332, saving model to best_model.h5\n"
     ]
    },
    {
     "name": "stderr",
     "output_type": "stream",
     "text": [
      "WARNING:absl:You are saving your model as an HDF5 file via `model.save()` or `keras.saving.save_model(model)`. This file format is considered legacy. We recommend using instead the native Keras format, e.g. `model.save('my_model.keras')` or `keras.saving.save_model(model, 'my_model.keras')`. \n"
     ]
    },
    {
     "name": "stdout",
     "output_type": "stream",
     "text": [
      "\u001b[1m40/40\u001b[0m \u001b[32m━━━━━━━━━━━━━━━━━━━━\u001b[0m\u001b[37m\u001b[0m \u001b[1m23s\u001b[0m 561ms/step - accuracy: 0.7298 - auc_roc: 0.7605 - loss: 0.5385 - precision: 0.6603 - recall: 0.8590 - val_accuracy: 0.5000 - val_auc_roc: 0.9078 - val_loss: 0.7333 - val_precision: 0.0000e+00 - val_recall: 0.0000e+00 - learning_rate: 1.0000e-04\n",
      "Epoch 7/50\n",
      "\u001b[1m40/40\u001b[0m \u001b[32m━━━━━━━━━━━━━━━━━━━━\u001b[0m\u001b[37m\u001b[0m \u001b[1m0s\u001b[0m 453ms/step - accuracy: 0.7494 - auc_roc: 0.8536 - loss: 0.5003 - precision: 0.7251 - recall: 0.8423\n",
      "Epoch 7: val_loss improved from 0.73332 to 0.64437, saving model to best_model.h5\n"
     ]
    },
    {
     "name": "stderr",
     "output_type": "stream",
     "text": [
      "WARNING:absl:You are saving your model as an HDF5 file via `model.save()` or `keras.saving.save_model(model)`. This file format is considered legacy. We recommend using instead the native Keras format, e.g. `model.save('my_model.keras')` or `keras.saving.save_model(model, 'my_model.keras')`. \n"
     ]
    },
    {
     "name": "stdout",
     "output_type": "stream",
     "text": [
      "\u001b[1m40/40\u001b[0m \u001b[32m━━━━━━━━━━━━━━━━━━━━\u001b[0m\u001b[37m\u001b[0m \u001b[1m23s\u001b[0m 583ms/step - accuracy: 0.7490 - auc_roc: 0.8529 - loss: 0.5009 - precision: 0.7244 - recall: 0.8421 - val_accuracy: 0.5000 - val_auc_roc: 0.9084 - val_loss: 0.6444 - val_precision: 0.0000e+00 - val_recall: 0.0000e+00 - learning_rate: 1.0000e-04\n",
      "Epoch 8/50\n",
      "\u001b[1m40/40\u001b[0m \u001b[32m━━━━━━━━━━━━━━━━━━━━\u001b[0m\u001b[37m\u001b[0m \u001b[1m0s\u001b[0m 456ms/step - accuracy: 0.8068 - auc_roc: 0.8308 - loss: 0.4648 - precision: 0.7487 - recall: 0.9501\n",
      "Epoch 8: val_loss improved from 0.64437 to 0.58754, saving model to best_model.h5\n"
     ]
    },
    {
     "name": "stderr",
     "output_type": "stream",
     "text": [
      "WARNING:absl:You are saving your model as an HDF5 file via `model.save()` or `keras.saving.save_model(model)`. This file format is considered legacy. We recommend using instead the native Keras format, e.g. `model.save('my_model.keras')` or `keras.saving.save_model(model, 'my_model.keras')`. \n"
     ]
    },
    {
     "name": "stdout",
     "output_type": "stream",
     "text": [
      "\u001b[1m40/40\u001b[0m \u001b[32m━━━━━━━━━━━━━━━━━━━━\u001b[0m\u001b[37m\u001b[0m \u001b[1m23s\u001b[0m 583ms/step - accuracy: 0.8063 - auc_roc: 0.8306 - loss: 0.4655 - precision: 0.7481 - recall: 0.9497 - val_accuracy: 0.5125 - val_auc_roc: 0.9147 - val_loss: 0.5875 - val_precision: 1.0000 - val_recall: 0.0250 - learning_rate: 1.0000e-04\n",
      "Epoch 9/50\n",
      "\u001b[1m40/40\u001b[0m \u001b[32m━━━━━━━━━━━━━━━━━━━━\u001b[0m\u001b[37m\u001b[0m \u001b[1m0s\u001b[0m 441ms/step - accuracy: 0.7305 - auc_roc: 0.8496 - loss: 0.4698 - precision: 0.6525 - recall: 0.9244\n",
      "Epoch 9: val_loss improved from 0.58754 to 0.54581, saving model to best_model.h5\n"
     ]
    },
    {
     "name": "stderr",
     "output_type": "stream",
     "text": [
      "WARNING:absl:You are saving your model as an HDF5 file via `model.save()` or `keras.saving.save_model(model)`. This file format is considered legacy. We recommend using instead the native Keras format, e.g. `model.save('my_model.keras')` or `keras.saving.save_model(model, 'my_model.keras')`. \n"
     ]
    },
    {
     "name": "stdout",
     "output_type": "stream",
     "text": [
      "\u001b[1m40/40\u001b[0m \u001b[32m━━━━━━━━━━━━━━━━━━━━\u001b[0m\u001b[37m\u001b[0m \u001b[1m23s\u001b[0m 569ms/step - accuracy: 0.7313 - auc_roc: 0.8495 - loss: 0.4697 - precision: 0.6538 - recall: 0.9235 - val_accuracy: 0.6375 - val_auc_roc: 0.9159 - val_loss: 0.5458 - val_precision: 0.9231 - val_recall: 0.3000 - learning_rate: 1.0000e-04\n",
      "Epoch 10/50\n",
      "\u001b[1m40/40\u001b[0m \u001b[32m━━━━━━━━━━━━━━━━━━━━\u001b[0m\u001b[37m\u001b[0m \u001b[1m0s\u001b[0m 453ms/step - accuracy: 0.7517 - auc_roc: 0.8182 - loss: 0.4951 - precision: 0.7022 - recall: 0.8813\n",
      "Epoch 10: val_loss improved from 0.54581 to 0.49678, saving model to best_model.h5\n"
     ]
    },
    {
     "name": "stderr",
     "output_type": "stream",
     "text": [
      "WARNING:absl:You are saving your model as an HDF5 file via `model.save()` or `keras.saving.save_model(model)`. This file format is considered legacy. We recommend using instead the native Keras format, e.g. `model.save('my_model.keras')` or `keras.saving.save_model(model, 'my_model.keras')`. \n"
     ]
    },
    {
     "name": "stdout",
     "output_type": "stream",
     "text": [
      "\u001b[1m40/40\u001b[0m \u001b[32m━━━━━━━━━━━━━━━━━━━━\u001b[0m\u001b[37m\u001b[0m \u001b[1m24s\u001b[0m 589ms/step - accuracy: 0.7520 - auc_roc: 0.8186 - loss: 0.4950 - precision: 0.7024 - recall: 0.8816 - val_accuracy: 0.7750 - val_auc_roc: 0.9203 - val_loss: 0.4968 - val_precision: 0.8667 - val_recall: 0.6500 - learning_rate: 1.0000e-04\n",
      "Epoch 11/50\n",
      "\u001b[1m40/40\u001b[0m \u001b[32m━━━━━━━━━━━━━━━━━━━━\u001b[0m\u001b[37m\u001b[0m \u001b[1m0s\u001b[0m 458ms/step - accuracy: 0.7475 - auc_roc: 0.8144 - loss: 0.5151 - precision: 0.7069 - recall: 0.8329\n",
      "Epoch 11: val_loss improved from 0.49678 to 0.45073, saving model to best_model.h5\n"
     ]
    },
    {
     "name": "stderr",
     "output_type": "stream",
     "text": [
      "WARNING:absl:You are saving your model as an HDF5 file via `model.save()` or `keras.saving.save_model(model)`. This file format is considered legacy. We recommend using instead the native Keras format, e.g. `model.save('my_model.keras')` or `keras.saving.save_model(model, 'my_model.keras')`. \n"
     ]
    },
    {
     "name": "stdout",
     "output_type": "stream",
     "text": [
      "\u001b[1m40/40\u001b[0m \u001b[32m━━━━━━━━━━━━━━━━━━━━\u001b[0m\u001b[37m\u001b[0m \u001b[1m24s\u001b[0m 594ms/step - accuracy: 0.7472 - auc_roc: 0.8145 - loss: 0.5149 - precision: 0.7068 - recall: 0.8324 - val_accuracy: 0.8625 - val_auc_roc: 0.9272 - val_loss: 0.4507 - val_precision: 0.8372 - val_recall: 0.9000 - learning_rate: 1.0000e-04\n",
      "Epoch 12/50\n",
      "\u001b[1m40/40\u001b[0m \u001b[32m━━━━━━━━━━━━━━━━━━━━\u001b[0m\u001b[37m\u001b[0m \u001b[1m0s\u001b[0m 446ms/step - accuracy: 0.7802 - auc_roc: 0.8705 - loss: 0.4415 - precision: 0.7089 - recall: 0.9238\n",
      "Epoch 12: val_loss improved from 0.45073 to 0.41765, saving model to best_model.h5\n"
     ]
    },
    {
     "name": "stderr",
     "output_type": "stream",
     "text": [
      "WARNING:absl:You are saving your model as an HDF5 file via `model.save()` or `keras.saving.save_model(model)`. This file format is considered legacy. We recommend using instead the native Keras format, e.g. `model.save('my_model.keras')` or `keras.saving.save_model(model, 'my_model.keras')`. \n"
     ]
    },
    {
     "name": "stdout",
     "output_type": "stream",
     "text": [
      "\u001b[1m40/40\u001b[0m \u001b[32m━━━━━━━━━━━━━━━━━━━━\u001b[0m\u001b[37m\u001b[0m \u001b[1m23s\u001b[0m 571ms/step - accuracy: 0.7802 - auc_roc: 0.8697 - loss: 0.4421 - precision: 0.7092 - recall: 0.9233 - val_accuracy: 0.8500 - val_auc_roc: 0.9284 - val_loss: 0.4177 - val_precision: 0.7917 - val_recall: 0.9500 - learning_rate: 1.0000e-04\n",
      "Epoch 13/50\n",
      "\u001b[1m40/40\u001b[0m \u001b[32m━━━━━━━━━━━━━━━━━━━━\u001b[0m\u001b[37m\u001b[0m \u001b[1m0s\u001b[0m 440ms/step - accuracy: 0.7229 - auc_roc: 0.8191 - loss: 0.5189 - precision: 0.6815 - recall: 0.8274\n",
      "Epoch 13: val_loss improved from 0.41765 to 0.41449, saving model to best_model.h5\n"
     ]
    },
    {
     "name": "stderr",
     "output_type": "stream",
     "text": [
      "WARNING:absl:You are saving your model as an HDF5 file via `model.save()` or `keras.saving.save_model(model)`. This file format is considered legacy. We recommend using instead the native Keras format, e.g. `model.save('my_model.keras')` or `keras.saving.save_model(model, 'my_model.keras')`. \n"
     ]
    },
    {
     "name": "stdout",
     "output_type": "stream",
     "text": [
      "\u001b[1m40/40\u001b[0m \u001b[32m━━━━━━━━━━━━━━━━━━━━\u001b[0m\u001b[37m\u001b[0m \u001b[1m23s\u001b[0m 567ms/step - accuracy: 0.7236 - auc_roc: 0.8190 - loss: 0.5188 - precision: 0.6823 - recall: 0.8275 - val_accuracy: 0.8625 - val_auc_roc: 0.9275 - val_loss: 0.4145 - val_precision: 0.7959 - val_recall: 0.9750 - learning_rate: 1.0000e-04\n",
      "Epoch 14/50\n",
      "\u001b[1m40/40\u001b[0m \u001b[32m━━━━━━━━━━━━━━━━━━━━\u001b[0m\u001b[37m\u001b[0m \u001b[1m0s\u001b[0m 453ms/step - accuracy: 0.7686 - auc_roc: 0.8419 - loss: 0.4793 - precision: 0.7069 - recall: 0.9143\n",
      "Epoch 14: val_loss improved from 0.41449 to 0.38695, saving model to best_model.h5\n"
     ]
    },
    {
     "name": "stderr",
     "output_type": "stream",
     "text": [
      "WARNING:absl:You are saving your model as an HDF5 file via `model.save()` or `keras.saving.save_model(model)`. This file format is considered legacy. We recommend using instead the native Keras format, e.g. `model.save('my_model.keras')` or `keras.saving.save_model(model, 'my_model.keras')`. \n"
     ]
    },
    {
     "name": "stdout",
     "output_type": "stream",
     "text": [
      "\u001b[1m40/40\u001b[0m \u001b[32m━━━━━━━━━━━━━━━━━━━━\u001b[0m\u001b[37m\u001b[0m \u001b[1m23s\u001b[0m 578ms/step - accuracy: 0.7686 - auc_roc: 0.8422 - loss: 0.4790 - precision: 0.7071 - recall: 0.9137 - val_accuracy: 0.8500 - val_auc_roc: 0.9306 - val_loss: 0.3869 - val_precision: 0.7800 - val_recall: 0.9750 - learning_rate: 1.0000e-04\n",
      "Epoch 15/50\n",
      "\u001b[1m40/40\u001b[0m \u001b[32m━━━━━━━━━━━━━━━━━━━━\u001b[0m\u001b[37m\u001b[0m \u001b[1m0s\u001b[0m 437ms/step - accuracy: 0.7942 - auc_roc: 0.8606 - loss: 0.4650 - precision: 0.7497 - recall: 0.8800\n",
      "Epoch 15: val_loss improved from 0.38695 to 0.37127, saving model to best_model.h5\n"
     ]
    },
    {
     "name": "stderr",
     "output_type": "stream",
     "text": [
      "WARNING:absl:You are saving your model as an HDF5 file via `model.save()` or `keras.saving.save_model(model)`. This file format is considered legacy. We recommend using instead the native Keras format, e.g. `model.save('my_model.keras')` or `keras.saving.save_model(model, 'my_model.keras')`. \n"
     ]
    },
    {
     "name": "stdout",
     "output_type": "stream",
     "text": [
      "\u001b[1m40/40\u001b[0m \u001b[32m━━━━━━━━━━━━━━━━━━━━\u001b[0m\u001b[37m\u001b[0m \u001b[1m23s\u001b[0m 566ms/step - accuracy: 0.7939 - auc_roc: 0.8608 - loss: 0.4644 - precision: 0.7493 - recall: 0.8801 - val_accuracy: 0.8375 - val_auc_roc: 0.9347 - val_loss: 0.3713 - val_precision: 0.7647 - val_recall: 0.9750 - learning_rate: 1.0000e-04\n",
      "Epoch 16/50\n",
      "\u001b[1m40/40\u001b[0m \u001b[32m━━━━━━━━━━━━━━━━━━━━\u001b[0m\u001b[37m\u001b[0m \u001b[1m0s\u001b[0m 453ms/step - accuracy: 0.7989 - auc_roc: 0.8379 - loss: 0.4617 - precision: 0.7513 - recall: 0.9211\n",
      "Epoch 16: val_loss improved from 0.37127 to 0.35056, saving model to best_model.h5\n"
     ]
    },
    {
     "name": "stderr",
     "output_type": "stream",
     "text": [
      "WARNING:absl:You are saving your model as an HDF5 file via `model.save()` or `keras.saving.save_model(model)`. This file format is considered legacy. We recommend using instead the native Keras format, e.g. `model.save('my_model.keras')` or `keras.saving.save_model(model, 'my_model.keras')`. \n"
     ]
    },
    {
     "name": "stdout",
     "output_type": "stream",
     "text": [
      "\u001b[1m40/40\u001b[0m \u001b[32m━━━━━━━━━━━━━━━━━━━━\u001b[0m\u001b[37m\u001b[0m \u001b[1m23s\u001b[0m 584ms/step - accuracy: 0.7987 - auc_roc: 0.8382 - loss: 0.4614 - precision: 0.7509 - recall: 0.9207 - val_accuracy: 0.8250 - val_auc_roc: 0.9334 - val_loss: 0.3506 - val_precision: 0.7500 - val_recall: 0.9750 - learning_rate: 1.0000e-04\n",
      "Epoch 17/50\n",
      "\u001b[1m40/40\u001b[0m \u001b[32m━━━━━━━━━━━━━━━━━━━━\u001b[0m\u001b[37m\u001b[0m \u001b[1m0s\u001b[0m 448ms/step - accuracy: 0.8001 - auc_roc: 0.8499 - loss: 0.4656 - precision: 0.7840 - recall: 0.8702\n",
      "Epoch 17: val_loss improved from 0.35056 to 0.34733, saving model to best_model.h5\n"
     ]
    },
    {
     "name": "stderr",
     "output_type": "stream",
     "text": [
      "WARNING:absl:You are saving your model as an HDF5 file via `model.save()` or `keras.saving.save_model(model)`. This file format is considered legacy. We recommend using instead the native Keras format, e.g. `model.save('my_model.keras')` or `keras.saving.save_model(model, 'my_model.keras')`. \n"
     ]
    },
    {
     "name": "stdout",
     "output_type": "stream",
     "text": [
      "\u001b[1m40/40\u001b[0m \u001b[32m━━━━━━━━━━━━━━━━━━━━\u001b[0m\u001b[37m\u001b[0m \u001b[1m23s\u001b[0m 574ms/step - accuracy: 0.7995 - auc_roc: 0.8498 - loss: 0.4658 - precision: 0.7825 - recall: 0.8706 - val_accuracy: 0.8375 - val_auc_roc: 0.9484 - val_loss: 0.3473 - val_precision: 0.7547 - val_recall: 1.0000 - learning_rate: 1.0000e-04\n",
      "Epoch 18/50\n",
      "\u001b[1m40/40\u001b[0m \u001b[32m━━━━━━━━━━━━━━━━━━━━\u001b[0m\u001b[37m\u001b[0m \u001b[1m0s\u001b[0m 452ms/step - accuracy: 0.7619 - auc_roc: 0.8682 - loss: 0.4529 - precision: 0.6951 - recall: 0.9026\n",
      "Epoch 18: val_loss improved from 0.34733 to 0.34004, saving model to best_model.h5\n"
     ]
    },
    {
     "name": "stderr",
     "output_type": "stream",
     "text": [
      "WARNING:absl:You are saving your model as an HDF5 file via `model.save()` or `keras.saving.save_model(model)`. This file format is considered legacy. We recommend using instead the native Keras format, e.g. `model.save('my_model.keras')` or `keras.saving.save_model(model, 'my_model.keras')`. \n"
     ]
    },
    {
     "name": "stdout",
     "output_type": "stream",
     "text": [
      "\u001b[1m40/40\u001b[0m \u001b[32m━━━━━━━━━━━━━━━━━━━━\u001b[0m\u001b[37m\u001b[0m \u001b[1m23s\u001b[0m 586ms/step - accuracy: 0.7622 - auc_roc: 0.8681 - loss: 0.4526 - precision: 0.6956 - recall: 0.9024 - val_accuracy: 0.8375 - val_auc_roc: 0.9409 - val_loss: 0.3400 - val_precision: 0.7647 - val_recall: 0.9750 - learning_rate: 1.0000e-04\n",
      "Epoch 19/50\n",
      "\u001b[1m40/40\u001b[0m \u001b[32m━━━━━━━━━━━━━━━━━━━━\u001b[0m\u001b[37m\u001b[0m \u001b[1m0s\u001b[0m 459ms/step - accuracy: 0.7825 - auc_roc: 0.8441 - loss: 0.4757 - precision: 0.7191 - recall: 0.9137\n",
      "Epoch 19: val_loss improved from 0.34004 to 0.33962, saving model to best_model.h5\n"
     ]
    },
    {
     "name": "stderr",
     "output_type": "stream",
     "text": [
      "WARNING:absl:You are saving your model as an HDF5 file via `model.save()` or `keras.saving.save_model(model)`. This file format is considered legacy. We recommend using instead the native Keras format, e.g. `model.save('my_model.keras')` or `keras.saving.save_model(model, 'my_model.keras')`. \n"
     ]
    },
    {
     "name": "stdout",
     "output_type": "stream",
     "text": [
      "\u001b[1m40/40\u001b[0m \u001b[32m━━━━━━━━━━━━━━━━━━━━\u001b[0m\u001b[37m\u001b[0m \u001b[1m24s\u001b[0m 591ms/step - accuracy: 0.7826 - auc_roc: 0.8442 - loss: 0.4757 - precision: 0.7196 - recall: 0.9132 - val_accuracy: 0.8375 - val_auc_roc: 0.9472 - val_loss: 0.3396 - val_precision: 0.7647 - val_recall: 0.9750 - learning_rate: 1.0000e-04\n",
      "Epoch 20/50\n",
      "\u001b[1m40/40\u001b[0m \u001b[32m━━━━━━━━━━━━━━━━━━━━\u001b[0m\u001b[37m\u001b[0m \u001b[1m0s\u001b[0m 456ms/step - accuracy: 0.7502 - auc_roc: 0.8646 - loss: 0.4622 - precision: 0.6916 - recall: 0.8680\n",
      "Epoch 20: val_loss improved from 0.33962 to 0.33320, saving model to best_model.h5\n"
     ]
    },
    {
     "name": "stderr",
     "output_type": "stream",
     "text": [
      "WARNING:absl:You are saving your model as an HDF5 file via `model.save()` or `keras.saving.save_model(model)`. This file format is considered legacy. We recommend using instead the native Keras format, e.g. `model.save('my_model.keras')` or `keras.saving.save_model(model, 'my_model.keras')`. \n"
     ]
    },
    {
     "name": "stdout",
     "output_type": "stream",
     "text": [
      "\u001b[1m40/40\u001b[0m \u001b[32m━━━━━━━━━━━━━━━━━━━━\u001b[0m\u001b[37m\u001b[0m \u001b[1m24s\u001b[0m 588ms/step - accuracy: 0.7508 - auc_roc: 0.8645 - loss: 0.4620 - precision: 0.6926 - recall: 0.8677 - val_accuracy: 0.8375 - val_auc_roc: 0.9450 - val_loss: 0.3332 - val_precision: 0.7647 - val_recall: 0.9750 - learning_rate: 1.0000e-04\n",
      "Epoch 21/50\n",
      "\u001b[1m40/40\u001b[0m \u001b[32m━━━━━━━━━━━━━━━━━━━━\u001b[0m\u001b[37m\u001b[0m \u001b[1m0s\u001b[0m 453ms/step - accuracy: 0.7963 - auc_roc: 0.8752 - loss: 0.4619 - precision: 0.7676 - recall: 0.8816\n",
      "Epoch 21: val_loss improved from 0.33320 to 0.33184, saving model to best_model.h5\n"
     ]
    },
    {
     "name": "stderr",
     "output_type": "stream",
     "text": [
      "WARNING:absl:You are saving your model as an HDF5 file via `model.save()` or `keras.saving.save_model(model)`. This file format is considered legacy. We recommend using instead the native Keras format, e.g. `model.save('my_model.keras')` or `keras.saving.save_model(model, 'my_model.keras')`. \n"
     ]
    },
    {
     "name": "stdout",
     "output_type": "stream",
     "text": [
      "\u001b[1m40/40\u001b[0m \u001b[32m━━━━━━━━━━━━━━━━━━━━\u001b[0m\u001b[37m\u001b[0m \u001b[1m23s\u001b[0m 580ms/step - accuracy: 0.7960 - auc_roc: 0.8750 - loss: 0.4619 - precision: 0.7670 - recall: 0.8816 - val_accuracy: 0.8375 - val_auc_roc: 0.9409 - val_loss: 0.3318 - val_precision: 0.7647 - val_recall: 0.9750 - learning_rate: 1.0000e-04\n",
      "Epoch 22/50\n",
      "\u001b[1m40/40\u001b[0m \u001b[32m━━━━━━━━━━━━━━━━━━━━\u001b[0m\u001b[37m\u001b[0m \u001b[1m0s\u001b[0m 441ms/step - accuracy: 0.7247 - auc_roc: 0.8584 - loss: 0.4751 - precision: 0.6433 - recall: 0.9107\n",
      "Epoch 22: val_loss improved from 0.33184 to 0.32677, saving model to best_model.h5\n"
     ]
    },
    {
     "name": "stderr",
     "output_type": "stream",
     "text": [
      "WARNING:absl:You are saving your model as an HDF5 file via `model.save()` or `keras.saving.save_model(model)`. This file format is considered legacy. We recommend using instead the native Keras format, e.g. `model.save('my_model.keras')` or `keras.saving.save_model(model, 'my_model.keras')`. \n"
     ]
    },
    {
     "name": "stdout",
     "output_type": "stream",
     "text": [
      "\u001b[1m40/40\u001b[0m \u001b[32m━━━━━━━━━━━━━━━━━━━━\u001b[0m\u001b[37m\u001b[0m \u001b[1m23s\u001b[0m 572ms/step - accuracy: 0.7260 - auc_roc: 0.8586 - loss: 0.4745 - precision: 0.6452 - recall: 0.9104 - val_accuracy: 0.8500 - val_auc_roc: 0.9400 - val_loss: 0.3268 - val_precision: 0.7800 - val_recall: 0.9750 - learning_rate: 1.0000e-04\n",
      "Epoch 23/50\n",
      "\u001b[1m40/40\u001b[0m \u001b[32m━━━━━━━━━━━━━━━━━━━━\u001b[0m\u001b[37m\u001b[0m \u001b[1m0s\u001b[0m 444ms/step - accuracy: 0.8118 - auc_roc: 0.9040 - loss: 0.4062 - precision: 0.7858 - recall: 0.8609\n",
      "Epoch 23: val_loss improved from 0.32677 to 0.32171, saving model to best_model.h5\n"
     ]
    },
    {
     "name": "stderr",
     "output_type": "stream",
     "text": [
      "WARNING:absl:You are saving your model as an HDF5 file via `model.save()` or `keras.saving.save_model(model)`. This file format is considered legacy. We recommend using instead the native Keras format, e.g. `model.save('my_model.keras')` or `keras.saving.save_model(model, 'my_model.keras')`. \n"
     ]
    },
    {
     "name": "stdout",
     "output_type": "stream",
     "text": [
      "\u001b[1m40/40\u001b[0m \u001b[32m━━━━━━━━━━━━━━━━━━━━\u001b[0m\u001b[37m\u001b[0m \u001b[1m23s\u001b[0m 569ms/step - accuracy: 0.8112 - auc_roc: 0.9034 - loss: 0.4069 - precision: 0.7850 - recall: 0.8606 - val_accuracy: 0.8625 - val_auc_roc: 0.9400 - val_loss: 0.3217 - val_precision: 0.7959 - val_recall: 0.9750 - learning_rate: 1.0000e-04\n",
      "Epoch 24/50\n",
      "\u001b[1m40/40\u001b[0m \u001b[32m━━━━━━━━━━━━━━━━━━━━\u001b[0m\u001b[37m\u001b[0m \u001b[1m0s\u001b[0m 436ms/step - accuracy: 0.7836 - auc_roc: 0.8320 - loss: 0.4834 - precision: 0.7207 - recall: 0.9075\n",
      "Epoch 24: val_loss did not improve from 0.32171\n",
      "\u001b[1m40/40\u001b[0m \u001b[32m━━━━━━━━━━━━━━━━━━━━\u001b[0m\u001b[37m\u001b[0m \u001b[1m22s\u001b[0m 548ms/step - accuracy: 0.7833 - auc_roc: 0.8325 - loss: 0.4833 - precision: 0.7207 - recall: 0.9071 - val_accuracy: 0.8625 - val_auc_roc: 0.9441 - val_loss: 0.3233 - val_precision: 0.7959 - val_recall: 0.9750 - learning_rate: 1.0000e-04\n",
      "Epoch 25/50\n",
      "\u001b[1m40/40\u001b[0m \u001b[32m━━━━━━━━━━━━━━━━━━━━\u001b[0m\u001b[37m\u001b[0m \u001b[1m0s\u001b[0m 437ms/step - accuracy: 0.8200 - auc_roc: 0.8707 - loss: 0.4314 - precision: 0.7448 - recall: 0.9635\n",
      "Epoch 25: val_loss improved from 0.32171 to 0.31704, saving model to best_model.h5\n"
     ]
    },
    {
     "name": "stderr",
     "output_type": "stream",
     "text": [
      "WARNING:absl:You are saving your model as an HDF5 file via `model.save()` or `keras.saving.save_model(model)`. This file format is considered legacy. We recommend using instead the native Keras format, e.g. `model.save('my_model.keras')` or `keras.saving.save_model(model, 'my_model.keras')`. \n"
     ]
    },
    {
     "name": "stdout",
     "output_type": "stream",
     "text": [
      "\u001b[1m40/40\u001b[0m \u001b[32m━━━━━━━━━━━━━━━━━━━━\u001b[0m\u001b[37m\u001b[0m \u001b[1m23s\u001b[0m 571ms/step - accuracy: 0.8197 - auc_roc: 0.8704 - loss: 0.4318 - precision: 0.7448 - recall: 0.9627 - val_accuracy: 0.8625 - val_auc_roc: 0.9459 - val_loss: 0.3170 - val_precision: 0.7959 - val_recall: 0.9750 - learning_rate: 1.0000e-04\n",
      "Epoch 26/50\n",
      "\u001b[1m40/40\u001b[0m \u001b[32m━━━━━━━━━━━━━━━━━━━━\u001b[0m\u001b[37m\u001b[0m \u001b[1m0s\u001b[0m 445ms/step - accuracy: 0.7771 - auc_roc: 0.8835 - loss: 0.4373 - precision: 0.7204 - recall: 0.9091\n",
      "Epoch 26: val_loss improved from 0.31704 to 0.30937, saving model to best_model.h5\n"
     ]
    },
    {
     "name": "stderr",
     "output_type": "stream",
     "text": [
      "WARNING:absl:You are saving your model as an HDF5 file via `model.save()` or `keras.saving.save_model(model)`. This file format is considered legacy. We recommend using instead the native Keras format, e.g. `model.save('my_model.keras')` or `keras.saving.save_model(model, 'my_model.keras')`. \n"
     ]
    },
    {
     "name": "stdout",
     "output_type": "stream",
     "text": [
      "\u001b[1m40/40\u001b[0m \u001b[32m━━━━━━━━━━━━━━━━━━━━\u001b[0m\u001b[37m\u001b[0m \u001b[1m23s\u001b[0m 579ms/step - accuracy: 0.7773 - auc_roc: 0.8835 - loss: 0.4373 - precision: 0.7206 - recall: 0.9091 - val_accuracy: 0.8625 - val_auc_roc: 0.9519 - val_loss: 0.3094 - val_precision: 0.7959 - val_recall: 0.9750 - learning_rate: 1.0000e-04\n",
      "Epoch 27/50\n",
      "\u001b[1m40/40\u001b[0m \u001b[32m━━━━━━━━━━━━━━━━━━━━\u001b[0m\u001b[37m\u001b[0m \u001b[1m0s\u001b[0m 446ms/step - accuracy: 0.7661 - auc_roc: 0.8537 - loss: 0.4782 - precision: 0.7417 - recall: 0.8242\n",
      "Epoch 27: val_loss did not improve from 0.30937\n",
      "\u001b[1m40/40\u001b[0m \u001b[32m━━━━━━━━━━━━━━━━━━━━\u001b[0m\u001b[37m\u001b[0m \u001b[1m22s\u001b[0m 557ms/step - accuracy: 0.7662 - auc_roc: 0.8537 - loss: 0.4781 - precision: 0.7418 - recall: 0.8242 - val_accuracy: 0.8625 - val_auc_roc: 0.9484 - val_loss: 0.3106 - val_precision: 0.7959 - val_recall: 0.9750 - learning_rate: 1.0000e-04\n",
      "Epoch 28/50\n",
      "\u001b[1m40/40\u001b[0m \u001b[32m━━━━━━━━━━━━━━━━━━━━\u001b[0m\u001b[37m\u001b[0m \u001b[1m0s\u001b[0m 435ms/step - accuracy: 0.7879 - auc_roc: 0.8981 - loss: 0.4235 - precision: 0.7095 - recall: 0.9238\n",
      "Epoch 28: val_loss did not improve from 0.30937\n",
      "\u001b[1m40/40\u001b[0m \u001b[32m━━━━━━━━━━━━━━━━━━━━\u001b[0m\u001b[37m\u001b[0m \u001b[1m22s\u001b[0m 546ms/step - accuracy: 0.7876 - auc_roc: 0.8973 - loss: 0.4241 - precision: 0.7100 - recall: 0.9224 - val_accuracy: 0.8500 - val_auc_roc: 0.9431 - val_loss: 0.3104 - val_precision: 0.7917 - val_recall: 0.9500 - learning_rate: 1.0000e-04\n",
      "Epoch 29/50\n",
      "\u001b[1m40/40\u001b[0m \u001b[32m━━━━━━━━━━━━━━━━━━━━\u001b[0m\u001b[37m\u001b[0m \u001b[1m0s\u001b[0m 477ms/step - accuracy: 0.8016 - auc_roc: 0.9005 - loss: 0.4008 - precision: 0.7496 - recall: 0.9206\n",
      "Epoch 29: ReduceLROnPlateau reducing learning rate to 9.999999747378752e-06.\n",
      "\n",
      "Epoch 29: val_loss did not improve from 0.30937\n",
      "\u001b[1m40/40\u001b[0m \u001b[32m━━━━━━━━━━━━━━━━━━━━\u001b[0m\u001b[37m\u001b[0m \u001b[1m24s\u001b[0m 588ms/step - accuracy: 0.8017 - auc_roc: 0.9001 - loss: 0.4011 - precision: 0.7495 - recall: 0.9204 - val_accuracy: 0.8500 - val_auc_roc: 0.9344 - val_loss: 0.3141 - val_precision: 0.7917 - val_recall: 0.9500 - learning_rate: 1.0000e-04\n",
      "Epoch 30/50\n",
      "\u001b[1m40/40\u001b[0m \u001b[32m━━━━━━━━━━━━━━━━━━━━\u001b[0m\u001b[37m\u001b[0m \u001b[1m0s\u001b[0m 442ms/step - accuracy: 0.7769 - auc_roc: 0.8725 - loss: 0.4332 - precision: 0.7218 - recall: 0.8787\n",
      "Epoch 30: val_loss did not improve from 0.30937\n",
      "\u001b[1m40/40\u001b[0m \u001b[32m━━━━━━━━━━━━━━━━━━━━\u001b[0m\u001b[37m\u001b[0m \u001b[1m22s\u001b[0m 556ms/step - accuracy: 0.7764 - auc_roc: 0.8716 - loss: 0.4341 - precision: 0.7218 - recall: 0.8777 - val_accuracy: 0.8500 - val_auc_roc: 0.9341 - val_loss: 0.3133 - val_precision: 0.7917 - val_recall: 0.9500 - learning_rate: 1.0000e-05\n",
      "Epoch 31/50\n",
      "\u001b[1m40/40\u001b[0m \u001b[32m━━━━━━━━━━━━━━━━━━━━\u001b[0m\u001b[37m\u001b[0m \u001b[1m0s\u001b[0m 455ms/step - accuracy: 0.7784 - auc_roc: 0.8650 - loss: 0.4570 - precision: 0.7141 - recall: 0.8954\n",
      "Epoch 31: val_loss did not improve from 0.30937\n",
      "\u001b[1m40/40\u001b[0m \u001b[32m━━━━━━━━━━━━━━━━━━━━\u001b[0m\u001b[37m\u001b[0m \u001b[1m23s\u001b[0m 568ms/step - accuracy: 0.7784 - auc_roc: 0.8647 - loss: 0.4571 - precision: 0.7146 - recall: 0.8948 - val_accuracy: 0.8625 - val_auc_roc: 0.9344 - val_loss: 0.3130 - val_precision: 0.8085 - val_recall: 0.9500 - learning_rate: 1.0000e-05\n",
      "Epoch 32/50\n",
      "\u001b[1m40/40\u001b[0m \u001b[32m━━━━━━━━━━━━━━━━━━━━\u001b[0m\u001b[37m\u001b[0m \u001b[1m0s\u001b[0m 454ms/step - accuracy: 0.7644 - auc_roc: 0.8734 - loss: 0.4233 - precision: 0.7214 - recall: 0.8361\n",
      "Epoch 32: ReduceLROnPlateau reducing learning rate to 9.999999747378752e-07.\n",
      "\n",
      "Epoch 32: val_loss did not improve from 0.30937\n",
      "\u001b[1m40/40\u001b[0m \u001b[32m━━━━━━━━━━━━━━━━━━━━\u001b[0m\u001b[37m\u001b[0m \u001b[1m23s\u001b[0m 571ms/step - accuracy: 0.7653 - auc_roc: 0.8736 - loss: 0.4231 - precision: 0.7222 - recall: 0.8373 - val_accuracy: 0.8625 - val_auc_roc: 0.9353 - val_loss: 0.3118 - val_precision: 0.8085 - val_recall: 0.9500 - learning_rate: 1.0000e-05\n",
      "Epoch 33/50\n",
      "\u001b[1m40/40\u001b[0m \u001b[32m━━━━━━━━━━━━━━━━━━━━\u001b[0m\u001b[37m\u001b[0m \u001b[1m0s\u001b[0m 447ms/step - accuracy: 0.6980 - auc_roc: 0.8067 - loss: 0.5155 - precision: 0.6550 - recall: 0.7950\n",
      "Epoch 33: val_loss did not improve from 0.30937\n",
      "\u001b[1m40/40\u001b[0m \u001b[32m━━━━━━━━━━━━━━━━━━━━\u001b[0m\u001b[37m\u001b[0m \u001b[1m22s\u001b[0m 560ms/step - accuracy: 0.6995 - auc_roc: 0.8075 - loss: 0.5148 - precision: 0.6567 - recall: 0.7957 - val_accuracy: 0.8625 - val_auc_roc: 0.9350 - val_loss: 0.3114 - val_precision: 0.8085 - val_recall: 0.9500 - learning_rate: 1.0000e-06\n"
     ]
    }
   ],
   "source": [
    "# Train (Warm-up)\n",
    "history = model.fit(\n",
    "    train_gen,\n",
    "    validation_data=val_gen,\n",
    "    epochs=50,\n",
    "    callbacks=callbacks\n",
    ")"
   ]
  },
  {
   "cell_type": "code",
   "execution_count": 90,
   "id": "2eca7602",
   "metadata": {},
   "outputs": [],
   "source": [
    "from sklearn.metrics import classification_report, confusion_matrix, ConfusionMatrixDisplay\n",
    "import numpy as np\n",
    "import matplotlib.pyplot as plt"
   ]
  },
  {
   "cell_type": "code",
   "execution_count": 91,
   "id": "6a85122c",
   "metadata": {},
   "outputs": [],
   "source": [
    "# Fine-tune: Unfreeze last few layers of base model\n",
    "base_model.trainable = True\n",
    "for layer in base_model.layers[:-60]:  # Freeze all except last 60 layers\n",
    "    layer.trainable = False"
   ]
  },
  {
   "cell_type": "code",
   "execution_count": 92,
   "id": "693f46fa",
   "metadata": {},
   "outputs": [],
   "source": [
    "# Compile again after unfreezing layers for fine-tuning\n",
    "model.compile(\n",
    "    optimizer=tf.keras.optimizers.Adam(learning_rate=1e-5),\n",
    "    loss='binary_crossentropy',\n",
    "    metrics=[\n",
    "        'accuracy',\n",
    "        Precision(name='precision'),\n",
    "        Recall(name='recall'),\n",
    "        AUC(name='auc_roc')\n",
    "    ]\n",
    ")"
   ]
  },
  {
   "cell_type": "code",
   "execution_count": 93,
   "id": "b0c3ea64",
   "metadata": {},
   "outputs": [
    {
     "name": "stdout",
     "output_type": "stream",
     "text": [
      "Epoch 1/35\n",
      "\u001b[1m40/40\u001b[0m \u001b[32m━━━━━━━━━━━━━━━━━━━━\u001b[0m\u001b[37m\u001b[0m \u001b[1m0s\u001b[0m 893ms/step - accuracy: 0.6425 - auc_roc: 0.7169 - loss: 0.8138 - precision: 0.6393 - recall: 0.6473\n",
      "Epoch 1: val_loss did not improve from 0.30937\n",
      "\u001b[1m40/40\u001b[0m \u001b[32m━━━━━━━━━━━━━━━━━━━━\u001b[0m\u001b[37m\u001b[0m \u001b[1m57s\u001b[0m 1s/step - accuracy: 0.6433 - auc_roc: 0.7169 - loss: 0.8149 - precision: 0.6400 - recall: 0.6483 - val_accuracy: 0.5000 - val_auc_roc: 0.5000 - val_loss: 7.0078 - val_precision: 0.0000e+00 - val_recall: 0.0000e+00 - learning_rate: 1.0000e-05\n",
      "Epoch 2/35\n",
      "\u001b[1m40/40\u001b[0m \u001b[32m━━━━━━━━━━━━━━━━━━━━\u001b[0m\u001b[37m\u001b[0m \u001b[1m0s\u001b[0m 877ms/step - accuracy: 0.6975 - auc_roc: 0.7327 - loss: 0.8252 - precision: 0.6871 - recall: 0.7245\n",
      "Epoch 2: val_loss did not improve from 0.30937\n",
      "\u001b[1m40/40\u001b[0m \u001b[32m━━━━━━━━━━━━━━━━━━━━\u001b[0m\u001b[37m\u001b[0m \u001b[1m40s\u001b[0m 993ms/step - accuracy: 0.6969 - auc_roc: 0.7320 - loss: 0.8259 - precision: 0.6866 - recall: 0.7238 - val_accuracy: 0.5000 - val_auc_roc: 0.5000 - val_loss: 8.9677 - val_precision: 0.0000e+00 - val_recall: 0.0000e+00 - learning_rate: 1.0000e-05\n",
      "Epoch 3/35\n",
      "\u001b[1m40/40\u001b[0m \u001b[32m━━━━━━━━━━━━━━━━━━━━\u001b[0m\u001b[37m\u001b[0m \u001b[1m0s\u001b[0m 882ms/step - accuracy: 0.6902 - auc_roc: 0.7437 - loss: 0.7076 - precision: 0.6836 - recall: 0.6783\n",
      "Epoch 3: val_loss did not improve from 0.30937\n",
      "\u001b[1m40/40\u001b[0m \u001b[32m━━━━━━━━━━━━━━━━━━━━\u001b[0m\u001b[37m\u001b[0m \u001b[1m40s\u001b[0m 994ms/step - accuracy: 0.6905 - auc_roc: 0.7443 - loss: 0.7079 - precision: 0.6839 - recall: 0.6793 - val_accuracy: 0.5000 - val_auc_roc: 0.5000 - val_loss: 7.6284 - val_precision: 0.0000e+00 - val_recall: 0.0000e+00 - learning_rate: 1.0000e-05\n",
      "Epoch 4/35\n",
      "\u001b[1m40/40\u001b[0m \u001b[32m━━━━━━━━━━━━━━━━━━━━\u001b[0m\u001b[37m\u001b[0m \u001b[1m0s\u001b[0m 850ms/step - accuracy: 0.7296 - auc_roc: 0.8119 - loss: 0.6329 - precision: 0.7501 - recall: 0.7312\n",
      "Epoch 4: ReduceLROnPlateau reducing learning rate to 9.999999747378752e-07.\n",
      "\n",
      "Epoch 4: val_loss did not improve from 0.30937\n",
      "\u001b[1m40/40\u001b[0m \u001b[32m━━━━━━━━━━━━━━━━━━━━\u001b[0m\u001b[37m\u001b[0m \u001b[1m38s\u001b[0m 960ms/step - accuracy: 0.7290 - auc_roc: 0.8113 - loss: 0.6344 - precision: 0.7489 - recall: 0.7308 - val_accuracy: 0.5000 - val_auc_roc: 0.5000 - val_loss: 7.3560 - val_precision: 0.0000e+00 - val_recall: 0.0000e+00 - learning_rate: 1.0000e-05\n",
      "Epoch 5/35\n",
      "\u001b[1m40/40\u001b[0m \u001b[32m━━━━━━━━━━━━━━━━━━━━\u001b[0m\u001b[37m\u001b[0m \u001b[1m0s\u001b[0m 852ms/step - accuracy: 0.8067 - auc_roc: 0.8387 - loss: 0.5631 - precision: 0.7965 - recall: 0.8169\n",
      "Epoch 5: val_loss did not improve from 0.30937\n",
      "\u001b[1m40/40\u001b[0m \u001b[32m━━━━━━━━━━━━━━━━━━━━\u001b[0m\u001b[37m\u001b[0m \u001b[1m39s\u001b[0m 965ms/step - accuracy: 0.8055 - auc_roc: 0.8380 - loss: 0.5645 - precision: 0.7957 - recall: 0.8152 - val_accuracy: 0.5000 - val_auc_roc: 0.5000 - val_loss: 6.4415 - val_precision: 0.0000e+00 - val_recall: 0.0000e+00 - learning_rate: 1.0000e-06\n",
      "Epoch 6/35\n",
      "\u001b[1m40/40\u001b[0m \u001b[32m━━━━━━━━━━━━━━━━━━━━\u001b[0m\u001b[37m\u001b[0m \u001b[1m0s\u001b[0m 848ms/step - accuracy: 0.7804 - auc_roc: 0.8296 - loss: 0.5351 - precision: 0.7513 - recall: 0.8079\n",
      "Epoch 6: val_loss did not improve from 0.30937\n",
      "\u001b[1m40/40\u001b[0m \u001b[32m━━━━━━━━━━━━━━━━━━━━\u001b[0m\u001b[37m\u001b[0m \u001b[1m39s\u001b[0m 969ms/step - accuracy: 0.7797 - auc_roc: 0.8293 - loss: 0.5356 - precision: 0.7511 - recall: 0.8068 - val_accuracy: 0.5000 - val_auc_roc: 0.5000 - val_loss: 5.6973 - val_precision: 0.0000e+00 - val_recall: 0.0000e+00 - learning_rate: 1.0000e-06\n",
      "Epoch 7/35\n",
      "\u001b[1m40/40\u001b[0m \u001b[32m━━━━━━━━━━━━━━━━━━━━\u001b[0m\u001b[37m\u001b[0m \u001b[1m0s\u001b[0m 885ms/step - accuracy: 0.7400 - auc_roc: 0.8616 - loss: 0.5415 - precision: 0.6472 - recall: 0.8762\n",
      "Epoch 7: val_loss did not improve from 0.30937\n",
      "\u001b[1m40/40\u001b[0m \u001b[32m━━━━━━━━━━━━━━━━━━━━\u001b[0m\u001b[37m\u001b[0m \u001b[1m40s\u001b[0m 999ms/step - accuracy: 0.7401 - auc_roc: 0.8604 - loss: 0.5421 - precision: 0.6491 - recall: 0.8742 - val_accuracy: 0.5000 - val_auc_roc: 0.5250 - val_loss: 4.3269 - val_precision: 0.0000e+00 - val_recall: 0.0000e+00 - learning_rate: 1.0000e-06\n",
      "Epoch 8/35\n",
      "\u001b[1m40/40\u001b[0m \u001b[32m━━━━━━━━━━━━━━━━━━━━\u001b[0m\u001b[37m\u001b[0m \u001b[1m0s\u001b[0m 867ms/step - accuracy: 0.7636 - auc_roc: 0.8336 - loss: 0.5852 - precision: 0.7722 - recall: 0.7558\n",
      "Epoch 8: val_loss did not improve from 0.30937\n",
      "\u001b[1m40/40\u001b[0m \u001b[32m━━━━━━━━━━━━━━━━━━━━\u001b[0m\u001b[37m\u001b[0m \u001b[1m39s\u001b[0m 980ms/step - accuracy: 0.7634 - auc_roc: 0.8335 - loss: 0.5854 - precision: 0.7718 - recall: 0.7555 - val_accuracy: 0.5125 - val_auc_roc: 0.7991 - val_loss: 2.1511 - val_precision: 1.0000 - val_recall: 0.0250 - learning_rate: 1.0000e-06\n",
      "Epoch 9/35\n",
      "\u001b[1m40/40\u001b[0m \u001b[32m━━━━━━━━━━━━━━━━━━━━\u001b[0m\u001b[37m\u001b[0m \u001b[1m0s\u001b[0m 861ms/step - accuracy: 0.7655 - auc_roc: 0.8525 - loss: 0.5453 - precision: 0.7614 - recall: 0.7887\n",
      "Epoch 9: val_loss did not improve from 0.30937\n",
      "\u001b[1m40/40\u001b[0m \u001b[32m━━━━━━━━━━━━━━━━━━━━\u001b[0m\u001b[37m\u001b[0m \u001b[1m39s\u001b[0m 976ms/step - accuracy: 0.7659 - auc_roc: 0.8527 - loss: 0.5442 - precision: 0.7617 - recall: 0.7890 - val_accuracy: 0.6375 - val_auc_roc: 0.8681 - val_loss: 0.8489 - val_precision: 1.0000 - val_recall: 0.2750 - learning_rate: 1.0000e-06\n",
      "Epoch 10/35\n",
      "\u001b[1m40/40\u001b[0m \u001b[32m━━━━━━━━━━━━━━━━━━━━\u001b[0m\u001b[37m\u001b[0m \u001b[1m0s\u001b[0m 851ms/step - accuracy: 0.7541 - auc_roc: 0.8400 - loss: 0.5368 - precision: 0.6994 - recall: 0.8062\n",
      "Epoch 10: val_loss did not improve from 0.30937\n",
      "\u001b[1m40/40\u001b[0m \u001b[32m━━━━━━━━━━━━━━━━━━━━\u001b[0m\u001b[37m\u001b[0m \u001b[1m39s\u001b[0m 973ms/step - accuracy: 0.7544 - auc_roc: 0.8399 - loss: 0.5373 - precision: 0.7008 - recall: 0.8059 - val_accuracy: 0.8000 - val_auc_roc: 0.8991 - val_loss: 0.4536 - val_precision: 0.8750 - val_recall: 0.7000 - learning_rate: 1.0000e-06\n",
      "Epoch 11/35\n",
      "\u001b[1m40/40\u001b[0m \u001b[32m━━━━━━━━━━━━━━━━━━━━\u001b[0m\u001b[37m\u001b[0m \u001b[1m0s\u001b[0m 846ms/step - accuracy: 0.7495 - auc_roc: 0.8205 - loss: 0.5722 - precision: 0.6970 - recall: 0.7995\n",
      "Epoch 11: val_loss did not improve from 0.30937\n",
      "\u001b[1m40/40\u001b[0m \u001b[32m━━━━━━━━━━━━━━━━━━━━\u001b[0m\u001b[37m\u001b[0m \u001b[1m39s\u001b[0m 963ms/step - accuracy: 0.7492 - auc_roc: 0.8202 - loss: 0.5728 - precision: 0.6977 - recall: 0.7985 - val_accuracy: 0.7625 - val_auc_roc: 0.9178 - val_loss: 0.4527 - val_precision: 0.9200 - val_recall: 0.5750 - learning_rate: 1.0000e-06\n",
      "Epoch 12/35\n",
      "\u001b[1m40/40\u001b[0m \u001b[32m━━━━━━━━━━━━━━━━━━━━\u001b[0m\u001b[37m\u001b[0m \u001b[1m0s\u001b[0m 893ms/step - accuracy: 0.7473 - auc_roc: 0.8307 - loss: 0.5902 - precision: 0.7629 - recall: 0.7406\n",
      "Epoch 12: val_loss did not improve from 0.30937\n",
      "\u001b[1m40/40\u001b[0m \u001b[32m━━━━━━━━━━━━━━━━━━━━\u001b[0m\u001b[37m\u001b[0m \u001b[1m40s\u001b[0m 1s/step - accuracy: 0.7475 - auc_roc: 0.8309 - loss: 0.5896 - precision: 0.7629 - recall: 0.7409 - val_accuracy: 0.8500 - val_auc_roc: 0.9403 - val_loss: 0.3118 - val_precision: 0.8500 - val_recall: 0.8500 - learning_rate: 1.0000e-06\n",
      "Epoch 13/35\n",
      "\u001b[1m40/40\u001b[0m \u001b[32m━━━━━━━━━━━━━━━━━━━━\u001b[0m\u001b[37m\u001b[0m \u001b[1m0s\u001b[0m 847ms/step - accuracy: 0.7767 - auc_roc: 0.8545 - loss: 0.4955 - precision: 0.7522 - recall: 0.8439\n",
      "Epoch 13: val_loss did not improve from 0.30937\n",
      "\u001b[1m40/40\u001b[0m \u001b[32m━━━━━━━━━━━━━━━━━━━━\u001b[0m\u001b[37m\u001b[0m \u001b[1m38s\u001b[0m 958ms/step - accuracy: 0.7765 - auc_roc: 0.8545 - loss: 0.4956 - precision: 0.7522 - recall: 0.8432 - val_accuracy: 0.8750 - val_auc_roc: 0.9341 - val_loss: 0.3156 - val_precision: 0.8571 - val_recall: 0.9000 - learning_rate: 1.0000e-06\n",
      "Epoch 14/35\n",
      "\u001b[1m40/40\u001b[0m \u001b[32m━━━━━━━━━━━━━━━━━━━━\u001b[0m\u001b[37m\u001b[0m \u001b[1m0s\u001b[0m 880ms/step - accuracy: 0.7792 - auc_roc: 0.8682 - loss: 0.5072 - precision: 0.7408 - recall: 0.8386\n",
      "Epoch 14: val_loss did not improve from 0.30937\n",
      "\u001b[1m40/40\u001b[0m \u001b[32m━━━━━━━━━━━━━━━━━━━━\u001b[0m\u001b[37m\u001b[0m \u001b[1m40s\u001b[0m 993ms/step - accuracy: 0.7793 - auc_roc: 0.8682 - loss: 0.5071 - precision: 0.7417 - recall: 0.8375 - val_accuracy: 0.8375 - val_auc_roc: 0.9409 - val_loss: 0.3190 - val_precision: 0.8649 - val_recall: 0.8000 - learning_rate: 1.0000e-06\n",
      "Epoch 15/35\n",
      "\u001b[1m40/40\u001b[0m \u001b[32m━━━━━━━━━━━━━━━━━━━━\u001b[0m\u001b[37m\u001b[0m \u001b[1m0s\u001b[0m 901ms/step - accuracy: 0.7537 - auc_roc: 0.8020 - loss: 0.6397 - precision: 0.7757 - recall: 0.7636\n",
      "Epoch 15: val_loss improved from 0.30937 to 0.29628, saving model to best_model.h5\n"
     ]
    },
    {
     "name": "stderr",
     "output_type": "stream",
     "text": [
      "WARNING:absl:You are saving your model as an HDF5 file via `model.save()` or `keras.saving.save_model(model)`. This file format is considered legacy. We recommend using instead the native Keras format, e.g. `model.save('my_model.keras')` or `keras.saving.save_model(model, 'my_model.keras')`. \n"
     ]
    },
    {
     "name": "stdout",
     "output_type": "stream",
     "text": [
      "\u001b[1m40/40\u001b[0m \u001b[32m━━━━━━━━━━━━━━━━━━━━\u001b[0m\u001b[37m\u001b[0m \u001b[1m43s\u001b[0m 1s/step - accuracy: 0.7547 - auc_roc: 0.8030 - loss: 0.6374 - precision: 0.7757 - recall: 0.7651 - val_accuracy: 0.8750 - val_auc_roc: 0.9441 - val_loss: 0.2963 - val_precision: 0.8571 - val_recall: 0.9000 - learning_rate: 1.0000e-06\n",
      "Epoch 16/35\n",
      "\u001b[1m40/40\u001b[0m \u001b[32m━━━━━━━━━━━━━━━━━━━━\u001b[0m\u001b[37m\u001b[0m \u001b[1m0s\u001b[0m 895ms/step - accuracy: 0.8475 - auc_roc: 0.9271 - loss: 0.3491 - precision: 0.8130 - recall: 0.8848\n",
      "Epoch 16: val_loss did not improve from 0.29628\n",
      "\u001b[1m40/40\u001b[0m \u001b[32m━━━━━━━━━━━━━━━━━━━━\u001b[0m\u001b[37m\u001b[0m \u001b[1m40s\u001b[0m 1s/step - accuracy: 0.8472 - auc_roc: 0.9266 - loss: 0.3508 - precision: 0.8134 - recall: 0.8839 - val_accuracy: 0.8500 - val_auc_roc: 0.9466 - val_loss: 0.3675 - val_precision: 0.7917 - val_recall: 0.9500 - learning_rate: 1.0000e-06\n",
      "Epoch 17/35\n",
      "\u001b[1m40/40\u001b[0m \u001b[32m━━━━━━━━━━━━━━━━━━━━\u001b[0m\u001b[37m\u001b[0m \u001b[1m0s\u001b[0m 920ms/step - accuracy: 0.8144 - auc_roc: 0.8773 - loss: 0.4657 - precision: 0.7996 - recall: 0.8341\n",
      "Epoch 17: val_loss did not improve from 0.29628\n",
      "\u001b[1m40/40\u001b[0m \u001b[32m━━━━━━━━━━━━━━━━━━━━\u001b[0m\u001b[37m\u001b[0m \u001b[1m42s\u001b[0m 1s/step - accuracy: 0.8140 - auc_roc: 0.8771 - loss: 0.4663 - precision: 0.7993 - recall: 0.8338 - val_accuracy: 0.8625 - val_auc_roc: 0.9425 - val_loss: 0.3364 - val_precision: 0.9143 - val_recall: 0.8000 - learning_rate: 1.0000e-06\n",
      "Epoch 18/35\n",
      "\u001b[1m40/40\u001b[0m \u001b[32m━━━━━━━━━━━━━━━━━━━━\u001b[0m\u001b[37m\u001b[0m \u001b[1m0s\u001b[0m 866ms/step - accuracy: 0.7991 - auc_roc: 0.8708 - loss: 0.4953 - precision: 0.7969 - recall: 0.8188\n",
      "Epoch 18: val_loss improved from 0.29628 to 0.26557, saving model to best_model.h5\n"
     ]
    },
    {
     "name": "stderr",
     "output_type": "stream",
     "text": [
      "WARNING:absl:You are saving your model as an HDF5 file via `model.save()` or `keras.saving.save_model(model)`. This file format is considered legacy. We recommend using instead the native Keras format, e.g. `model.save('my_model.keras')` or `keras.saving.save_model(model, 'my_model.keras')`. \n"
     ]
    },
    {
     "name": "stdout",
     "output_type": "stream",
     "text": [
      "\u001b[1m40/40\u001b[0m \u001b[32m━━━━━━━━━━━━━━━━━━━━\u001b[0m\u001b[37m\u001b[0m \u001b[1m41s\u001b[0m 1s/step - accuracy: 0.7984 - auc_roc: 0.8706 - loss: 0.4958 - precision: 0.7961 - recall: 0.8179 - val_accuracy: 0.8750 - val_auc_roc: 0.9588 - val_loss: 0.2656 - val_precision: 0.8571 - val_recall: 0.9000 - learning_rate: 1.0000e-06\n",
      "Epoch 19/35\n",
      "\u001b[1m40/40\u001b[0m \u001b[32m━━━━━━━━━━━━━━━━━━━━\u001b[0m\u001b[37m\u001b[0m \u001b[1m0s\u001b[0m 871ms/step - accuracy: 0.7455 - auc_roc: 0.8275 - loss: 0.5922 - precision: 0.7225 - recall: 0.7997\n",
      "Epoch 19: val_loss did not improve from 0.26557\n",
      "\u001b[1m40/40\u001b[0m \u001b[32m━━━━━━━━━━━━━━━━━━━━\u001b[0m\u001b[37m\u001b[0m \u001b[1m39s\u001b[0m 986ms/step - accuracy: 0.7457 - auc_roc: 0.8276 - loss: 0.5911 - precision: 0.7226 - recall: 0.7999 - val_accuracy: 0.8625 - val_auc_roc: 0.9431 - val_loss: 0.3271 - val_precision: 0.8718 - val_recall: 0.8500 - learning_rate: 1.0000e-06\n",
      "Epoch 20/35\n",
      "\u001b[1m40/40\u001b[0m \u001b[32m━━━━━━━━━━━━━━━━━━━━\u001b[0m\u001b[37m\u001b[0m \u001b[1m0s\u001b[0m 889ms/step - accuracy: 0.7973 - auc_roc: 0.8976 - loss: 0.4239 - precision: 0.7874 - recall: 0.8169\n",
      "Epoch 20: val_loss did not improve from 0.26557\n",
      "\u001b[1m40/40\u001b[0m \u001b[32m━━━━━━━━━━━━━━━━━━━━\u001b[0m\u001b[37m\u001b[0m \u001b[1m40s\u001b[0m 1s/step - accuracy: 0.7971 - auc_roc: 0.8970 - loss: 0.4251 - precision: 0.7873 - recall: 0.8166 - val_accuracy: 0.8250 - val_auc_roc: 0.9428 - val_loss: 0.3838 - val_precision: 0.8824 - val_recall: 0.7500 - learning_rate: 1.0000e-06\n",
      "Epoch 21/35\n",
      "\u001b[1m40/40\u001b[0m \u001b[32m━━━━━━━━━━━━━━━━━━━━\u001b[0m\u001b[37m\u001b[0m \u001b[1m0s\u001b[0m 883ms/step - accuracy: 0.7695 - auc_roc: 0.8426 - loss: 0.5615 - precision: 0.7270 - recall: 0.8043\n",
      "Epoch 21: ReduceLROnPlateau reducing learning rate to 9.999999974752428e-08.\n",
      "\n",
      "Epoch 21: val_loss did not improve from 0.26557\n",
      "\u001b[1m40/40\u001b[0m \u001b[32m━━━━━━━━━━━━━━━━━━━━\u001b[0m\u001b[37m\u001b[0m \u001b[1m40s\u001b[0m 998ms/step - accuracy: 0.7699 - auc_roc: 0.8428 - loss: 0.5613 - precision: 0.7285 - recall: 0.8038 - val_accuracy: 0.8250 - val_auc_roc: 0.9528 - val_loss: 0.4450 - val_precision: 0.9643 - val_recall: 0.6750 - learning_rate: 1.0000e-06\n",
      "Epoch 22/35\n",
      "\u001b[1m40/40\u001b[0m \u001b[32m━━━━━━━━━━━━━━━━━━━━\u001b[0m\u001b[37m\u001b[0m \u001b[1m0s\u001b[0m 906ms/step - accuracy: 0.6941 - auc_roc: 0.8020 - loss: 0.6306 - precision: 0.7208 - recall: 0.7028\n",
      "Epoch 22: val_loss did not improve from 0.26557\n",
      "\u001b[1m40/40\u001b[0m \u001b[32m━━━━━━━━━━━━━━━━━━━━\u001b[0m\u001b[37m\u001b[0m \u001b[1m41s\u001b[0m 1s/step - accuracy: 0.6950 - auc_roc: 0.8026 - loss: 0.6289 - precision: 0.7210 - recall: 0.7036 - val_accuracy: 0.8625 - val_auc_roc: 0.9566 - val_loss: 0.3410 - val_precision: 0.9677 - val_recall: 0.7500 - learning_rate: 1.0000e-07\n",
      "Epoch 23/35\n",
      "\u001b[1m40/40\u001b[0m \u001b[32m━━━━━━━━━━━━━━━━━━━━\u001b[0m\u001b[37m\u001b[0m \u001b[1m0s\u001b[0m 917ms/step - accuracy: 0.7536 - auc_roc: 0.8416 - loss: 0.5347 - precision: 0.7881 - recall: 0.7289\n",
      "Epoch 23: val_loss did not improve from 0.26557\n",
      "\u001b[1m40/40\u001b[0m \u001b[32m━━━━━━━━━━━━━━━━━━━━\u001b[0m\u001b[37m\u001b[0m \u001b[1m41s\u001b[0m 1s/step - accuracy: 0.7534 - auc_roc: 0.8415 - loss: 0.5351 - precision: 0.7875 - recall: 0.7286 - val_accuracy: 0.8875 - val_auc_roc: 0.9587 - val_loss: 0.3068 - val_precision: 0.9429 - val_recall: 0.8250 - learning_rate: 1.0000e-07\n",
      "Epoch 24/35\n",
      "\u001b[1m40/40\u001b[0m \u001b[32m━━━━━━━━━━━━━━━━━━━━\u001b[0m\u001b[37m\u001b[0m \u001b[1m0s\u001b[0m 897ms/step - accuracy: 0.8625 - auc_roc: 0.9173 - loss: 0.3801 - precision: 0.8595 - recall: 0.8481\n",
      "Epoch 24: ReduceLROnPlateau reducing learning rate to 1.0000000116860975e-08.\n",
      "\n",
      "Epoch 24: val_loss did not improve from 0.26557\n",
      "\u001b[1m40/40\u001b[0m \u001b[32m━━━━━━━━━━━━━━━━━━━━\u001b[0m\u001b[37m\u001b[0m \u001b[1m41s\u001b[0m 1s/step - accuracy: 0.8623 - auc_roc: 0.9173 - loss: 0.3802 - precision: 0.8594 - recall: 0.8481 - val_accuracy: 0.9125 - val_auc_roc: 0.9613 - val_loss: 0.2938 - val_precision: 0.9459 - val_recall: 0.8750 - learning_rate: 1.0000e-07\n",
      "Epoch 25/35\n",
      "\u001b[1m40/40\u001b[0m \u001b[32m━━━━━━━━━━━━━━━━━━━━\u001b[0m\u001b[37m\u001b[0m \u001b[1m0s\u001b[0m 974ms/step - accuracy: 0.7469 - auc_roc: 0.8325 - loss: 0.5495 - precision: 0.7503 - recall: 0.7608\n",
      "Epoch 25: val_loss did not improve from 0.26557\n",
      "\u001b[1m40/40\u001b[0m \u001b[32m━━━━━━━━━━━━━━━━━━━━\u001b[0m\u001b[37m\u001b[0m \u001b[1m44s\u001b[0m 1s/step - accuracy: 0.7479 - auc_roc: 0.8329 - loss: 0.5487 - precision: 0.7510 - recall: 0.7617 - val_accuracy: 0.8875 - val_auc_roc: 0.9616 - val_loss: 0.2808 - val_precision: 0.8974 - val_recall: 0.8750 - learning_rate: 1.0000e-08\n"
     ]
    }
   ],
   "source": [
    "# Fine-tune training\n",
    "history_finetune = model.fit(\n",
    "    train_gen,\n",
    "    validation_data=val_gen,\n",
    "    epochs=35,\n",
    "    callbacks=callbacks\n",
    ")"
   ]
  },
  {
   "cell_type": "code",
   "execution_count": 94,
   "id": "a9ad1615",
   "metadata": {},
   "outputs": [
    {
     "name": "stdout",
     "output_type": "stream",
     "text": [
      "\u001b[1m10/10\u001b[0m \u001b[32m━━━━━━━━━━━━━━━━━━━━\u001b[0m\u001b[37m\u001b[0m \u001b[1m5s\u001b[0m 475ms/step - accuracy: 0.8289 - auc_roc: 0.5238 - loss: 0.3373 - precision: 0.4156 - recall: 0.4875       \n",
      "loss: 0.2656\n",
      "compile_metrics: 0.8750\n"
     ]
    }
   ],
   "source": [
    "# Evaluate on validation set\n",
    "results = model.evaluate(val_gen)\n",
    "for name, value in zip(model.metrics_names, results):\n",
    "    print(f\"{name}: {value:.4f}\")"
   ]
  },
  {
   "cell_type": "code",
   "execution_count": 95,
   "id": "1b3a41ed",
   "metadata": {},
   "outputs": [
    {
     "data": {
      "image/png": "[encoded data removed]",
      "text/plain": [
       "<Figure size 1200x400 with 2 Axes>"
      ]
     },
     "metadata": {},
     "output_type": "display_data"
    }
   ],
   "source": [
    "import matplotlib.pyplot as plt\n",
    "\n",
    "# Plotting training & validation accuracy and loss values\n",
    "plt.figure(figsize=(12, 4))\n",
    "\n",
    "# Accuracy plot\n",
    "plt.subplot(1, 2, 1)\n",
    "plt.plot(history_finetune.history['accuracy'], label='Training Accuracy')\n",
    "plt.plot(history_finetune.history['val_accuracy'], label='Validation Accuracy')\n",
    "plt.title('Accuracy (ResNet50)')\n",
    "plt.xlabel('Epoch')\n",
    "plt.ylabel('Accuracy')\n",
    "plt.legend()\n",
    "\n",
    "# Loss plot\n",
    "plt.subplot(1, 2, 2)\n",
    "plt.plot(history_finetune.history['loss'], label='Training Loss')\n",
    "plt.plot(history_finetune.history['val_loss'], label='Validation Loss')\n",
    "plt.title('Loss (ResNet50)')\n",
    "plt.xlabel('Epoch')\n",
    "plt.ylabel('Loss')\n",
    "plt.legend()\n",
    "\n",
    "plt.tight_layout()\n",
    "plt.show()\n"
   ]
  },
  {
   "cell_type": "code",
   "execution_count": 96,
   "id": "84b03c98",
   "metadata": {},
   "outputs": [
    {
     "name": "stdout",
     "output_type": "stream",
     "text": [
      "\u001b[1m10/10\u001b[0m \u001b[32m━━━━━━━━━━━━━━━━━━━━\u001b[0m\u001b[37m\u001b[0m \u001b[1m8s\u001b[0m 471ms/step\n",
      "              precision    recall  f1-score   support\n",
      "\n",
      "      female       0.89      0.85      0.87        40\n",
      "        male       0.86      0.90      0.88        40\n",
      "\n",
      "    accuracy                           0.88        80\n",
      "   macro avg       0.88      0.88      0.87        80\n",
      "weighted avg       0.88      0.88      0.87        80\n",
      "\n"
     ]
    },
    {
     "data": {
      "image/png": "[encoded data removed]",
      "text/plain": [
       "<Figure size 640x480 with 2 Axes>"
      ]
     },
     "metadata": {},
     "output_type": "display_data"
    }
   ],
   "source": [
    "import numpy as np\n",
    "from sklearn.metrics import classification_report, confusion_matrix\n",
    "import matplotlib.pyplot as plt\n",
    "import seaborn as sns\n",
    "\n",
    "# Predict\n",
    "y_pred_probs = model.predict(val_gen)\n",
    "y_pred = (y_pred_probs > 0.5).astype(int)\n",
    "y_true = val_gen.classes\n",
    "\n",
    "# Report\n",
    "print(classification_report(y_true, y_pred, target_names=['female', 'male']))\n",
    "\n",
    "# Confusion Matrix\n",
    "cm = confusion_matrix(y_true, y_pred)\n",
    "disp = ConfusionMatrixDisplay(confusion_matrix=cm, display_labels=['female', 'male'])\n",
    "disp.plot(cmap=plt.cm.Blues)\n",
    "plt.title('Confusion Matrix (ResNet50)')\n",
    "plt.show()"
   ]
  },
  {
   "cell_type": "code",
   "execution_count": 97,
   "id": "37f3f042",
   "metadata": {},
   "outputs": [
    {
     "name": "stdout",
     "output_type": "stream",
     "text": [
      "AUC-ROC Score: 0.9594\n"
     ]
    }
   ],
   "source": [
    "# AUC-ROC\n",
    "\n",
    "from sklearn.metrics import roc_auc_score, roc_curve, auc, ConfusionMatrixDisplay\n",
    "\n",
    "auc_score = roc_auc_score(y_true, y_pred_probs)\n",
    "print(f\"AUC-ROC Score: {auc_score:.4f}\")"
   ]
  },
  {
   "cell_type": "code",
   "execution_count": 98,
   "id": "0aa9a362",
   "metadata": {},
   "outputs": [
    {
     "data": {
      "image/png": "[encoded data removed]",
      "text/plain": [
       "<Figure size 800x600 with 1 Axes>"
      ]
     },
     "metadata": {},
     "output_type": "display_data"
    }
   ],
   "source": [
    "# Compute ROC curve and AUC\n",
    "fpr, tpr, thresholds = roc_curve(y_true, y_pred_probs)\n",
    "roc_auc = auc(fpr, tpr)\n",
    "\n",
    "# Plotting the ROC curve\n",
    "plt.figure(figsize=(8, 6))\n",
    "plt.plot(fpr, tpr, color='darkorange', lw=2, label=f'AUC = {roc_auc:.4f}')\n",
    "plt.plot([0, 1], [0, 1], color='navy', lw=2, linestyle='--')\n",
    "plt.xlim([0.0, 1.0])\n",
    "plt.ylim([0.0, 1.05])\n",
    "plt.xlabel('False Positive Rate')\n",
    "plt.ylabel('True Positive Rate')\n",
    "plt.title('ROC Curve (ResNet50)')\n",
    "plt.legend(loc=\"lower right\")\n",
    "plt.grid(True)\n",
    "plt.show()"
   ]
  },
  {
   "cell_type": "code",
   "execution_count": 99,
   "id": "cd6d6a71",
   "metadata": {},
   "outputs": [
    {
     "data": {
      "image/png": "[encoded data removed]",
      "text/plain": [
       "<Figure size 800x600 with 1 Axes>"
      ]
     },
     "metadata": {},
     "output_type": "display_data"
    }
   ],
   "source": [
    "import matplotlib.pyplot as plt\n",
    "from sklearn.metrics import precision_recall_curve, average_precision_score\n",
    "\n",
    "# Compute precision-recall pairs and average precision\n",
    "precision, recall, thresholds = precision_recall_curve(y_true, y_pred_probs)\n",
    "ap_score = average_precision_score(y_true, y_pred_probs)\n",
    "\n",
    "# Plot Precision-Recall Curve with AP score\n",
    "plt.figure(figsize=(8, 6))\n",
    "plt.plot(recall, precision, color='b', linewidth=2, label=f'AP = {ap_score:.2f}')\n",
    "plt.xlabel('Recall')\n",
    "plt.ylabel('Precision')\n",
    "plt.title('Precision-Recall Curve (ResNet50)')\n",
    "plt.grid(True)\n",
    "plt.legend()\n",
    "plt.show()\n"
   ]
  }
 ],
 "metadata": {
  "kernelspec": {
   "display_name": "myenv",
   "language": "python",
   "name": "python3"
  },
  "language_info": {
   "codemirror_mode": {
    "name": "ipython",
    "version": 3
   },
   "file_extension": ".py",
   "mimetype": "text/x-python",
   "name": "python",
   "nbconvert_exporter": "python",
   "pygments_lexer": "ipython3",
   "version": "3.11.9"
  }
 },
 "nbformat": 4,
 "nbformat_minor": 5
}
